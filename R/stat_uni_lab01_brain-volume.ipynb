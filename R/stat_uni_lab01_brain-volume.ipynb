{
 "cells": [
  {
   "cell_type": "code",
   "execution_count": null,
   "metadata": {
    "Rmd_chunk_options": "setup",
    "autoscroll": false
   },
   "outputs": [],
   "source": [
    "library(ggplot2)\n",
    "library(writexl)\n",
    "library(readxl)\n",
    "library(car)\n",
    "theme_set(theme_bw())"
   ]
  },
  {
   "cell_type": "markdown",
   "metadata": {},
   "source": [
    "\n",
    "The study provides the brain volumes of grey matter (gm), white matter (wm) and cerebrospinal fluid) (csf) of 808 anatomical MRI scans.\n",
    "\n",
    "## Manipulate data\n",
    "\n",
    "Set the working directory within a directory called `brainvol` ; create 2 subdirectories: `data` that will contain downloaded data and `reports` for results of the analysis.\n",
    "\n"
   ]
  },
  {
   "cell_type": "code",
   "execution_count": null,
   "metadata": {
    "Rmd_chunk_options": "dirs",
    "autoscroll": false
   },
   "outputs": [],
   "source": [
    "WD <- paste0(tempdir(), \"/brainvol\")\n",
    "dir.create(WD)\n",
    "dir.create(file.path(WD, \"data\"))\n",
    "dir.create(file.path(WD, \"reports\"))\n",
    "setwd(WD)"
   ]
  },
  {
   "cell_type": "markdown",
   "metadata": {},
   "source": [
    "\n",
    "Fetch data:\n",
    "\n",
    "- *Demographic data* `demo.csv` (columns: `participant_id`, `site`, `group`, `age`, `sex`) and tissue volume data: `group` is Control or Patient, `site` is the recruiting site.\n",
    "- *Gray matter volume* `gm.csv` (columns: `participant_id`, `session`, `gm_vol`)\n",
    "- *White matter volume* `wm.csv` (columns: `participant_id`, `session`, `wm_vol`)\n",
    "- *Cerebrospinal Fluid* `csf.csv` (columns: `participant_id`, `session`, `csf_vol`)\n",
    "\n"
   ]
  },
  {
   "cell_type": "code",
   "execution_count": null,
   "metadata": {
    "Rmd_chunk_options": "download, cache = TRUE",
    "autoscroll": false
   },
   "outputs": [],
   "source": [
    "base_url <- \"https://raw.github.com/neurospin/pystatsml/master/datasets/brain_volumes/\"\n",
    "files <- c(\"demo.csv\", \"gm.csv\", \"wm.csv\", \"csf.csv\")\n",
    "dest_dir <- paste0(WD, \"/data/\")\n",
    "for (f in files)\n",
    "  download.file(paste0(base_url, f), paste0(dest_dir, f))"
   ]
  },
  {
   "cell_type": "code",
   "execution_count": null,
   "metadata": {
    "autoscroll": false
   },
   "outputs": [],
   "source": [
    "fl <- list.files(dest_dir, pattern = \"*.csv\", full.names = TRUE)\n",
    "dd <- lapply(fl, read.csv)\n",
    "names(dd) <- gsub(\".csv\", \"\", files)"
   ]
  },
  {
   "cell_type": "code",
   "execution_count": null,
   "metadata": {
    "autoscroll": false
   },
   "outputs": [],
   "source": [
    "str(dd)\n",
    "cat(\"tables can be merge using shared columns:\\n\")\n",
    "head(dd[[\"demo\"]])\n",
    "head(dd[[\"gm\"]])"
   ]
  },
  {
   "cell_type": "markdown",
   "metadata": {},
   "source": [
    "\n",
    "**Merge tables** according to `participant_id`. Drop row with missing values.\n",
    "\n"
   ]
  },
  {
   "cell_type": "code",
   "execution_count": null,
   "metadata": {
    "autoscroll": false
   },
   "outputs": [],
   "source": [
    "d <- merge(dd[[\"demo\"]], dd[[\"gm\"]], all = TRUE, by = \"participant_id\")\n",
    "brain_vol <- Reduce(function(x, y) merge(x, y, all = TRUE, by = c(\"participant_id\", \"session\")),\n",
    "                    list(d, dd[[3]], dd[[4]]), accumulate = FALSE)\n",
    "dim(brain_vol) == c(808, 9)\n",
    "brain_vol <- na.omit(brain_vol)\n",
    "brain_vol[\"group\"] <- droplevels(brain_vol[\"group\"])\n",
    "brain_vol[\"sex\"] <- droplevels(brain_vol[\"sex\"])\n",
    "brain_vol[\"site\"] <- droplevels(brain_vol[\"site\"])"
   ]
  },
  {
   "cell_type": "markdown",
   "metadata": {},
   "source": [
    "\n",
    "**Compute Total Intra-cranial volume**\n",
    "\n",
    "`tiv_vol` = `gm_vol` + `csf_vol` + `wm_vol`\n",
    "\n"
   ]
  },
  {
   "cell_type": "code",
   "execution_count": null,
   "metadata": {
    "autoscroll": false
   },
   "outputs": [],
   "source": [
    "brain_vol[\"tiv_vol\"] <- brain_vol[\"gm_vol\"] + brain_vol[\"wm_vol\"] + brain_vol[\"csf_vol\"]"
   ]
  },
  {
   "cell_type": "markdown",
   "metadata": {},
   "source": [
    "\n",
    "** Compute tissue fractions**\n",
    "\n",
    "`gm_f = gm_vol / tiv_vol`, `wm_f  = wm_vol / tiv_vol`.\n",
    "\n"
   ]
  },
  {
   "cell_type": "code",
   "execution_count": null,
   "metadata": {
    "autoscroll": false
   },
   "outputs": [],
   "source": [
    "brain_vol[\"gm_f\"] <- brain_vol[\"gm_vol\"] / brain_vol[\"tiv_vol\"]\n",
    "brain_vol[\"wm_f\"] <- brain_vol[\"wm_vol\"] / brain_vol[\"tiv_vol\"]"
   ]
  },
  {
   "cell_type": "markdown",
   "metadata": {},
   "source": [
    "\n",
    "**Save in a excel file `brain_vol.xlsx`**\n",
    "\n"
   ]
  },
  {
   "cell_type": "code",
   "execution_count": null,
   "metadata": {
    "autoscroll": false
   },
   "outputs": [],
   "source": [
    "write_xlsx(list(data = brain_vol), \"brain_vol.xlsx\")  # {writexl}"
   ]
  },
  {
   "cell_type": "code",
   "execution_count": null,
   "metadata": {
    "Rmd_chunk_options": "echo = FALSE",
    "autoscroll": false
   },
   "outputs": [],
   "source": [
    "rm(list = ls())"
   ]
  },
  {
   "cell_type": "markdown",
   "metadata": {},
   "source": [
    "\n",
    "## Descriptive statistics\n",
    "\n",
    "Load excel file `brain_vol.xlsx`\n",
    "\n"
   ]
  },
  {
   "cell_type": "code",
   "execution_count": null,
   "metadata": {
    "autoscroll": false
   },
   "outputs": [],
   "source": [
    "brain_vol <- read_excel(\"brain_vol.xlsx\", sheet_name = \"data\")  # {readxl}\n",
    "options(digits = 2)"
   ]
  },
  {
   "cell_type": "markdown",
   "metadata": {},
   "source": [
    "\n",
    "Most of participants have several MRI sessions (column `session`). Select on rows from session one `\"ses-01\"`\n",
    "\n"
   ]
  },
  {
   "cell_type": "code",
   "execution_count": null,
   "metadata": {
    "autoscroll": false
   },
   "outputs": [],
   "source": [
    "brain_vol1 <- brain_vol[brain_vol[\"session\"] == \"ses-01\",]"
   ]
  },
  {
   "cell_type": "markdown",
   "metadata": {},
   "source": [
    "\n",
    "Global descriptives statistics of all variables (unlike Python `describe`, `summary` work with either numerical or categorical variables)\n",
    "\n"
   ]
  },
  {
   "cell_type": "code",
   "execution_count": null,
   "metadata": {
    "autoscroll": false
   },
   "outputs": [],
   "source": [
    "summary(brain_vol1)"
   ]
  },
  {
   "cell_type": "markdown",
   "metadata": {},
   "source": [
    "\n",
    "Remove the single participant from site 6\n",
    "\n"
   ]
  },
  {
   "cell_type": "code",
   "execution_count": null,
   "metadata": {
    "autoscroll": false
   },
   "outputs": [],
   "source": [
    "brain_vol <- brain_vol[brain_vol[\"site\"] != \"S6\",]\n",
    "brain_vol1 <- brain_vol[brain_vol[\"session\"] == \"ses-01\",]\n",
    "num_var <- unlist(lapply(brain_vol1, is.numeric))\n",
    "summary(brain_vol1[!num_var])"
   ]
  },
  {
   "cell_type": "markdown",
   "metadata": {},
   "source": [
    "\n",
    "Descriptives statistics of numerical variables per clinical status\n",
    "\n"
   ]
  },
  {
   "cell_type": "code",
   "execution_count": null,
   "metadata": {
    "autoscroll": false
   },
   "outputs": [],
   "source": [
    "aggregate(. ~ group, brain_vol1[c(names(which(num_var)), \"group\")],\n",
    "          quantile, probs = c(.25, .5, .75))"
   ]
  },
  {
   "cell_type": "markdown",
   "metadata": {},
   "source": [
    "\n",
    "## Statistics\n",
    "\n",
    "Objectives:\n",
    "\n",
    "1. Site effect of gray matter atrophy\n",
    "2. Test the association between the age and gray matter atrophy in the control and patient population independently.\n",
    "3. Test for differences of atrophy between the patients and the controls\n",
    "4. Test for interaction between age and clinical status, ie: is the brain atrophy process in patient population faster than in the control population.\n",
    "5. The effect of the medication in the patient population.\n",
    "\n",
    "Test the association between the age and gray matter atrophy in the control and patient population independently.\n",
    "\n",
    "**Effect of site on Grey Matter atrophy**: Model  is Oneway Anova gm_f ~ site\n",
    "\n",
    "The ANOVA test has important assumptions that must be satisfied in order for the associated p-value to be valid.\n",
    "\n",
    "- The samples are independent.\n",
    "- Each sample is from a normally distributed population.\n",
    "- The population standard deviations of the groups are all equal. This property is known as homoscedasticity.\n",
    "\n",
    "Plot\n",
    "\n"
   ]
  },
  {
   "cell_type": "code",
   "execution_count": null,
   "metadata": {
    "autoscroll": false
   },
   "outputs": [],
   "source": [
    "p <- ggplot(data = brain_vol1, aes(x = site, y = gm_f)) +\n",
    "  geom_violin(draw_quantiles = .5)\n",
    "p + labs(x = \"Site\", y = \"Grey matter\")"
   ]
  },
  {
   "cell_type": "markdown",
   "metadata": {},
   "source": [
    "\n",
    "Stats with base/external functions\n",
    "\n"
   ]
  },
  {
   "cell_type": "code",
   "execution_count": null,
   "metadata": {
    "autoscroll": false
   },
   "outputs": [],
   "source": [
    "m <- aov(gm_f ~ site, data = brain_vol1)\n",
    "summary(m)\n",
    "Anova(m, type = 2)  # {car}"
   ]
  },
  {
   "cell_type": "markdown",
   "metadata": {},
   "source": [
    "\n",
    "Test the association between the age and gray matter atrophy in the control and patient population independently.\n",
    "\n",
    "Plot\n",
    "\n"
   ]
  },
  {
   "cell_type": "code",
   "execution_count": null,
   "metadata": {
    "autoscroll": false
   },
   "outputs": [],
   "source": [
    "p <- ggplot(data= brain_vol1, aes(x = age, y = gm_f, color = group)) +\n",
    "  geom_point()\n",
    "p + labs(x = \"Age\", y = \"Grey matter\")"
   ]
  },
  {
   "cell_type": "code",
   "execution_count": null,
   "metadata": {
    "autoscroll": false
   },
   "outputs": [],
   "source": [
    "brain_vol1_ctl <- brain_vol1[brain_vol1[\"group\"] == \"Control\"]\n",
    "brain_vol1_pat <- brain_vol1[brain_vol1[\"group\"] == \"Patient\"]"
   ]
  },
  {
   "cell_type": "code",
   "execution_count": null,
   "metadata": {
    "autoscroll": false
   },
   "outputs": [],
   "source": [
    "m1 <- lm(gm_f ~ age, data = brain_vol1_ctl)\n",
    "summary(m1)\n",
    "m2 <- lm(gm_f ~ age, data = brain_vol1_pat)\n",
    "summary(m2)"
   ]
  },
  {
   "cell_type": "markdown",
   "metadata": {},
   "source": [
    "\n",
    "Before testing for differences of atrophy between the patients and the controls, preliminary tests of age x group (patients would be older or younger than controls)\n",
    "\n"
   ]
  },
  {
   "cell_type": "code",
   "execution_count": null,
   "metadata": {
    "autoscroll": false
   },
   "outputs": [],
   "source": [
    "p <- ggplot(data = brain_vol1, aes(x = group, y = age)) +\n",
    "  geom_violin(draw_quantiles = .5)\n",
    "p + labs(x = \"Age\", y = \"Grey matter\")"
   ]
  },
  {
   "cell_type": "code",
   "execution_count": null,
   "metadata": {
    "autoscroll": false
   },
   "outputs": [],
   "source": [
    "m <- lm(age ~ group, data = brain_vol1)\n",
    "summary(m)"
   ]
  },
  {
   "cell_type": "markdown",
   "metadata": {},
   "source": [
    "\n",
    "Preliminary tests of sex x group (more/less males in patients than in controls)\n",
    "\n"
   ]
  },
  {
   "cell_type": "code",
   "execution_count": null,
   "metadata": {
    "autoscroll": false
   },
   "outputs": [],
   "source": [
    "tab <- table(brain_vol1[,\"sex\"], brain_vol1[,\"group\"])\n",
    "tab\n",
    "chisq.test(tab)\n",
    "chisq.test(tab)$expected"
   ]
  },
  {
   "cell_type": "markdown",
   "metadata": {},
   "source": [
    "\n",
    "Test for differences of atrophy between the patients and the controls\n",
    "\n"
   ]
  },
  {
   "cell_type": "code",
   "execution_count": null,
   "metadata": {
    "autoscroll": false
   },
   "outputs": [],
   "source": [
    "m <- lm(gm_f ~ group, data = brain_vol1)\n",
    "Anova(m, type = 2)"
   ]
  },
  {
   "cell_type": "markdown",
   "metadata": {},
   "source": [
    "\n",
    "This model is simplistic we should adjust for age and site\n",
    "\n"
   ]
  },
  {
   "cell_type": "code",
   "execution_count": null,
   "metadata": {
    "autoscroll": false
   },
   "outputs": [],
   "source": [
    "m <- lm(gm_f ~ group + age + site, data = brain_vol1)\n",
    "Anova(m, type = 2)"
   ]
  },
  {
   "cell_type": "markdown",
   "metadata": {},
   "source": [
    "\n",
    "Test for interaction between age and clinical status, ie: is the brain atrophy process in patient population faster than in the control population.\n",
    "\n"
   ]
  },
  {
   "cell_type": "code",
   "execution_count": null,
   "metadata": {
    "autoscroll": false
   },
   "outputs": [],
   "source": [
    "m <- lm(gm_f ~ group:age + age + site, data = brain_vol1)\n",
    "Anova(m, type = 2)"
   ]
  },
  {
   "cell_type": "markdown",
   "metadata": {},
   "source": [
    "\n"
   ]
  }
 ],
 "metadata": {
  "Rmd_header": {
   "title": "Brain volumes study"
  },
  "kernelspec": {
   "display_name": "R",
   "language": "R",
   "name": "ir"
  },
  "language_info": {
   "codemirror_mode": "r",
   "file_extension": ".r",
   "mimetype": "text/x-r-source",
   "name": "R",
   "pygments_lexer": "r"
  }
 },
 "nbformat": 4,
 "nbformat_minor": 0
}
