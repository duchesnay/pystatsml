{
 "cells": [
  {
   "cell_type": "code",
   "execution_count": null,
   "metadata": {
    "Rmd_chunk_options": "setup",
    "autoscroll": false
   },
   "outputs": [],
   "source": [
    "library(ggplot2)\n",
    "library(reshape2)\n",
    "library(haven)\n",
    "theme_set(theme_bw())"
   ]
  },
  {
   "cell_type": "markdown",
   "metadata": {},
   "source": [
    "\n",
    "The `datasets` directory contains the file `gsoep09.dta`, which is a Stata file built upon the [German Socio Economic Survey](https://www.eui.eu/Research/Library/ResearchGuides/Economics/Statistics/DataPortal/GSOEP) that was ran in 2009.\n",
    "\n"
   ]
  },
  {
   "cell_type": "code",
   "execution_count": null,
   "metadata": {
    "Rmd_chunk_options": "load",
    "autoscroll": false
   },
   "outputs": [],
   "source": [
    "base_url <- \"https://raw.github.com/neurospin/pystatsml/master/datasets/gsoep09.dta\"\n",
    "d <- read_dta(base_url)\n",
    "head(d)"
   ]
  },
  {
   "cell_type": "markdown",
   "metadata": {},
   "source": [
    "\n",
    "The variables we are interested in are described below:\n",
    "\n",
    "- `persnr`: respondant ID\n",
    "- `hhnr2009`: household ID\n",
    "- `ybirth`: year of birth\n",
    "- `sex`: sex of respondant\n",
    "- `mar`: marital status\n",
    "- `egp`: socio-economic class\n",
    "- `yedu`: no. years of education\n",
    "- `income`: annual income (€)\n",
    "- `rel2head`: position of respondant relative to household\n",
    "- `wor01` to `wor12`: 3-point Likert answers to socio-economic and political questions\n",
    "\n",
    "Like the ESS survey, these data come with survey weights (`dweight` and `xweights`) but will proceed as if it was a cross-sectional sample.\n",
    "\n",
    "## Data preparation\n",
    "\n",
    "First, let us subset the data frame by selecting only the above variables:\n",
    "\n"
   ]
  },
  {
   "cell_type": "code",
   "execution_count": null,
   "metadata": {
    "autoscroll": false
   },
   "outputs": [],
   "source": [
    "vars <- c(\"persnr\", \"hhnr2009\", \"ybirth\", \"sex\", \"mar\", \"egp\",\n",
    "          \"yedu\", \"income\", \"rel2head\", \"wor01\", \"wor02\", \"wor03\",\n",
    "          \"wor04\", \"wor05\", \"wor06\", \"wor07\", \"wor08\", \"wor09\",\n",
    "          \"wor10\", \"wor11\", \"wor12\")\n",
    "d <- subset(d, select = vars)\n",
    "summary(d)"
   ]
  },
  {
   "cell_type": "markdown",
   "metadata": {},
   "source": [
    "\n",
    "The next steps are to re-encode the Stata variable in a more suitable R format:\n",
    "\n"
   ]
  },
  {
   "cell_type": "code",
   "execution_count": null,
   "metadata": {
    "autoscroll": false
   },
   "outputs": [],
   "source": [
    "d$persnr <- factor(d$persnr)\n",
    "d$hhnr2009 <- factor(d$hhnr2009)\n",
    "d$sex <- droplevels(as_factor(d$sex))\n",
    "d$mar <- droplevels(as_factor(d$mar))\n",
    "d$egp <- droplevels(as_factor(d$egp))\n",
    "d$rel2head <- droplevels(as_factor(d$rel2head))\n",
    "d$age <- 2009 - d$ybirth"
   ]
  },
  {
   "cell_type": "markdown",
   "metadata": {},
   "source": [
    "\n",
    "Let us now look at the above variables, and recode some of mar and egp categories: (For simplicity, we will discard all refusals from the present dataset.)\n",
    "\n"
   ]
  },
  {
   "cell_type": "code",
   "execution_count": null,
   "metadata": {
    "autoscroll": false
   },
   "outputs": [],
   "source": [
    "table(d$mar)\n",
    "levels(d$mar)[3:5] <- \"Single\"\n",
    "d$mar[d$mar == \"Refusal\"] <- NA\n",
    "d$mar <- droplevels(d$mar)\n",
    "table(d$mar)"
   ]
  },
  {
   "cell_type": "code",
   "execution_count": null,
   "metadata": {
    "autoscroll": false
   },
   "outputs": [],
   "source": [
    "table(d$egp)\n",
    "levels(d$egp)[1:2] <- \"High\"\n",
    "levels(d$egp)[2:4] <- \"Mid\"\n",
    "levels(d$egp)[3:4] <- \"Low\"\n",
    "levels(d$egp)[4:6] <- \"None\"\n",
    "d$egp[d$egp == \"Refusal\"] <- NA\n",
    "d$egp <- droplevels(d$egp)\n",
    "table(d$egp)"
   ]
  },
  {
   "cell_type": "markdown",
   "metadata": {},
   "source": [
    "\n",
    "## Visual exploratory analysis\n",
    "\n",
    "Say we are interested in the relationship between `income` (or its log), `sex` and `age`, as well as socio-economic status (`egp`), where we anticipate that average income will be lower for younger people, women, and people with lower SES. Again, to simplify we will only consider individuals with available income:\n",
    "\n"
   ]
  },
  {
   "cell_type": "code",
   "execution_count": null,
   "metadata": {
    "autoscroll": false
   },
   "outputs": [],
   "source": [
    "d <- subset(d, income > 0 & !is.na(mar) & !is.na(egp))\n",
    "d$logincome <- log(d$income)"
   ]
  },
  {
   "cell_type": "markdown",
   "metadata": {},
   "source": [
    "\n",
    "Exploratory displays: histograms, scatter plot, etc.\n",
    "\n"
   ]
  },
  {
   "cell_type": "code",
   "execution_count": null,
   "metadata": {
    "autoscroll": false
   },
   "outputs": [],
   "source": [
    "p <- ggplot(data = d, aes(x = age)) +\n",
    "  geom_histogram(binwidth = 5) +\n",
    "  labs(x = \"Age\", y = \"Counts\")\n",
    "p"
   ]
  },
  {
   "cell_type": "code",
   "execution_count": null,
   "metadata": {
    "autoscroll": false
   },
   "outputs": [],
   "source": [
    "p <- ggplot(data = d, aes(x = age, y = logincome)) +\n",
    "  geom_point() +\n",
    "  geom_smooth(method = \"loess\") +\n",
    "  labs(x = \"Age\", y = \"Annual Income (log)\")\n",
    "p"
   ]
  },
  {
   "cell_type": "code",
   "execution_count": null,
   "metadata": {
    "autoscroll": false
   },
   "outputs": [],
   "source": [
    "p <- ggplot(data = d, aes(x = mar, y = logincome)) +\n",
    "  geom_boxplot() +\n",
    "  labs(x = \"Marital Status\", y = \"Annual Income (log)\") +\n",
    "  coord_flip()\n",
    "p"
   ]
  },
  {
   "cell_type": "markdown",
   "metadata": {},
   "source": [
    "\n",
    "Let us summarize the distribution of average (log) income across socio-economic classes. First, we need to compute the mean and standard deviation of  `logincome` for each level of `egp`. This is easily performed using `aggregate` (or `tapply`):\n",
    "\n"
   ]
  },
  {
   "cell_type": "code",
   "execution_count": null,
   "metadata": {
    "autoscroll": false
   },
   "outputs": [],
   "source": [
    "egp_stats <- aggregate(logincome ~ egp, data = d, mean)\n",
    "egp_stats$sd <- aggregate(logincome ~ egp, data = d, sd)$logincome\n",
    "names(egp_stats)[2] <- \"mean\"\n",
    "egp_stats"
   ]
  },
  {
   "cell_type": "code",
   "execution_count": null,
   "metadata": {
    "autoscroll": false
   },
   "outputs": [],
   "source": [
    "p <- ggplot(data = egp_stats, aes(x = egp, y = mean)) +\n",
    "  geom_bar(stat = \"identity\") +\n",
    "  geom_errorbar(aes(ymin = mean - sd, ymax = mean + sd), width = .2, col = \"black\") +\n",
    "  labs(x = \"Socio-Economic Status\", y = \"Average income (log)\")\n",
    "p"
   ]
  },
  {
   "cell_type": "markdown",
   "metadata": {},
   "source": [
    "\n",
    "Same as above but when considering both `egp` and `sex`\n",
    "\n"
   ]
  },
  {
   "cell_type": "code",
   "execution_count": null,
   "metadata": {
    "autoscroll": false
   },
   "outputs": [],
   "source": [
    "egp_stats <- aggregate(logincome ~ egp + sex, data = d, mean)\n",
    "egp_stats$sd <- aggregate(logincome ~ egp + sex, data = d, sd)$logincome\n",
    "names(egp_stats)[3] <- \"mean\"\n",
    "egp_stats"
   ]
  },
  {
   "cell_type": "code",
   "execution_count": null,
   "metadata": {
    "autoscroll": false
   },
   "outputs": [],
   "source": [
    "p <- ggplot(data = egp_stats, aes(x = egp, y = mean, fill = sex)) +\n",
    "  geom_bar(stat = \"identity\", position = position_dodge()) +\n",
    "  geom_errorbar(aes(ymin = mean - sd, ymax = mean + sd), width = .2, col = \"black\", position = position_dodge(.9)) +\n",
    "  scale_fill_manual(\"\", values = c(\"cornflowerblue\", \"darkorange\")) +\n",
    "  labs(x = \"Socio-Economic Status\", y = \"Average income (log)\")\n",
    "p"
   ]
  },
  {
   "cell_type": "markdown",
   "metadata": {},
   "source": [
    "\n",
    "## Statistics\n",
    "\n",
    "Objectives:\n",
    "\n",
    "1. Univariate t-tests to assess whether average income differ across gender\n",
    "2. Test the association between `age` and `income`\n",
    "3. Test for differences of average income between socio-economic classes\n",
    "4. Test for interaction between `egp` and `sex` in a two-way ANOVA using `logincome` as outcome\n",
    "5. Test the association between marital status and socio-economic classes\n",
    "6. Test the association between responses to the `wor*` questions\n",
    "\n",
    "**Univariate t-tests**\n",
    "\n",
    "Some visual checks for the t-test assumptions\n",
    "\n"
   ]
  },
  {
   "cell_type": "code",
   "execution_count": null,
   "metadata": {
    "autoscroll": false
   },
   "outputs": [],
   "source": [
    "p <- ggplot(data = d, aes(x = logincome, color = sex)) +\n",
    "  geom_line(stat = \"density\")\n",
    "p"
   ]
  },
  {
   "cell_type": "code",
   "execution_count": null,
   "metadata": {
    "autoscroll": false
   },
   "outputs": [],
   "source": [
    "t.test(logincome ~ sex, data = d)\n",
    "t.test(logincome ~ sex, data = d, var.equal = TRUE)"
   ]
  },
  {
   "cell_type": "markdown",
   "metadata": {},
   "source": [
    "\n",
    "**Age and income**\n",
    "\n"
   ]
  },
  {
   "cell_type": "code",
   "execution_count": null,
   "metadata": {
    "autoscroll": false
   },
   "outputs": [],
   "source": [
    "p <- ggplot(data = d, aes(x = age, y = logincome)) +\n",
    "  geom_point() +\n",
    "  geom_smooth(method = \"loess\")\n",
    "p"
   ]
  },
  {
   "cell_type": "code",
   "execution_count": null,
   "metadata": {
    "autoscroll": false
   },
   "outputs": [],
   "source": [
    "cor.test(~ age + logincome, data = d)"
   ]
  },
  {
   "cell_type": "markdown",
   "metadata": {},
   "source": [
    "\n",
    "**One-way ANOVA**\n",
    "\n"
   ]
  },
  {
   "cell_type": "code",
   "execution_count": null,
   "metadata": {
    "autoscroll": false
   },
   "outputs": [],
   "source": [
    "p <- ggplot(data = d, aes(x = egp, y = logincome)) +\n",
    "  geom_boxplot()\n",
    "p"
   ]
  },
  {
   "cell_type": "code",
   "execution_count": null,
   "metadata": {
    "autoscroll": false
   },
   "outputs": [],
   "source": [
    "m <- aov(logincome ~ egp, data = d)\n",
    "summary(m)"
   ]
  },
  {
   "cell_type": "markdown",
   "metadata": {},
   "source": [
    "\n",
    "**Two-way ANOVA with interaction**\n",
    "\n"
   ]
  },
  {
   "cell_type": "code",
   "execution_count": null,
   "metadata": {
    "autoscroll": false
   },
   "outputs": [],
   "source": [
    "m1 <- aov(logincome ~ egp*sex, data = subset(d, egp != \"None\"))\n",
    "summary(m1)\n",
    "m2 <- update(m1, . ~ . - egp:sex)\n",
    "summary(m2)\n",
    "anova(m2, m1)"
   ]
  },
  {
   "cell_type": "markdown",
   "metadata": {},
   "source": [
    "\n",
    "**Association between marital status and socio-economic classes**\n",
    "\n"
   ]
  },
  {
   "cell_type": "code",
   "execution_count": null,
   "metadata": {
    "autoscroll": false
   },
   "outputs": [],
   "source": [
    "tab <- xtabs(~ mar + egp, data = d)\n",
    "tab\n",
    "summary(tab)\n",
    "chsq <- chisq.test(tab)\n",
    "chsq\n",
    "chsq$expected"
   ]
  },
  {
   "cell_type": "markdown",
   "metadata": {},
   "source": [
    "\n",
    "**Association between responses to the `wor*` questions**\n",
    "\n"
   ]
  },
  {
   "cell_type": "code",
   "execution_count": null,
   "metadata": {
    "autoscroll": false
   },
   "outputs": [],
   "source": [
    "head(d[,grep(\"^wor\", names(d))])\n",
    "print(cor(d[,grep(\"^wor\", names(d))], use = \"pairwise\"), digits = 2)"
   ]
  },
  {
   "cell_type": "markdown",
   "metadata": {},
   "source": [
    "\n",
    "Quick plot (see also [how to reorder rows/cols](https://bit.ly/1vpTlg2) using, e.g., hierarchical clustering)\n",
    "\n"
   ]
  },
  {
   "cell_type": "code",
   "execution_count": null,
   "metadata": {
    "autoscroll": false
   },
   "outputs": [],
   "source": [
    "cor_mat <- melt(cor(d[,grep(\"^wor\", names(d))], use = \"pairwise\"))\n",
    "p <- ggplot(data = cor_mat, aes(x = Var1, y = Var2, fill = value)) +\n",
    "  geom_tile() + labs(x = NULL, y = NULL)\n",
    "p"
   ]
  },
  {
   "cell_type": "markdown",
   "metadata": {},
   "source": [
    "\n"
   ]
  }
 ],
 "metadata": {
  "Rmd_header": {
   "title": "German Socio Economic Survey"
  },
  "kernelspec": {
   "display_name": "R",
   "language": "R",
   "name": "ir"
  },
  "language_info": {
   "codemirror_mode": "r",
   "file_extension": ".r",
   "mimetype": "text/x-r-source",
   "name": "R",
   "pygments_lexer": "r"
  }
 },
 "nbformat": 4,
 "nbformat_minor": 0
}
