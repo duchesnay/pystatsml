{
  "cells": [
    {
      "cell_type": "markdown",
      "metadata": {},
      "source": [
        "\n# Hands-On: Brain volumes study\n\nThe study provides the brain volumes of grey matter (gm), white matter (wm)\nand cerebrospinal fluid) (csf) of 808 anatomical MRI scans.\n"
      ]
    },
    {
      "cell_type": "code",
      "execution_count": null,
      "metadata": {
        "collapsed": false
      },
      "outputs": [],
      "source": [
        "import os\nimport tempfile\nimport urllib.request\n\nimport pandas as pd\n\n# Stat\nimport statsmodels.formula.api as smfrmla\nimport statsmodels.api as sm\nimport scipy.stats\n\n# Plot\nimport matplotlib.pyplot as plt\nimport seaborn as sns\n\n# Plot parameters\nplt.style.use('seaborn-v0_8-whitegrid')\nfig_w, fig_h = plt.rcParams.get('figure.figsize')\nplt.rcParams['figure.figsize'] = (fig_w, fig_h * .5)"
      ]
    },
    {
      "cell_type": "markdown",
      "metadata": {},
      "source": [
        "## Manipulate data\n\n"
      ]
    },
    {
      "cell_type": "markdown",
      "metadata": {},
      "source": [
        "Set the working directory within a directory called \"brainvol\"\n\nCreate 2 subdirectories: `data` that will contain downloaded data and\n`reports` for results of the analysis.\n\n"
      ]
    },
    {
      "cell_type": "code",
      "execution_count": null,
      "metadata": {
        "collapsed": false
      },
      "outputs": [],
      "source": [
        "WD = os.path.join(tempfile.gettempdir(), \"brainvol\")\nos.makedirs(WD, exist_ok=True)\n#os.chdir(WD)\n\n# use cookiecutter file organization\n# https://drivendata.github.io/cookiecutter-data-science/\nos.makedirs(os.path.join(WD, \"data\"), exist_ok=True)\n#os.makedirs(\"reports\", exist_ok=True)"
      ]
    },
    {
      "cell_type": "markdown",
      "metadata": {},
      "source": [
        "**Fetch data**\n\n- Demographic data `demo.csv` (columns: `participant_id`, `site`, `group`,\n  `age`, `sex`) and tissue volume data: `group` is Control or Patient.\n  `site` is the recruiting site.\n- Gray matter volume `gm.csv` (columns: `participant_id`, `session`, `gm_vol`)\n- White matter volume `wm.csv` (columns: `participant_id`, `session`, `wm_vol`)\n- Cerebrospinal Fluid `csf.csv` (columns: `participant_id`, `session`, `csf_vol`)\n\n"
      ]
    },
    {
      "cell_type": "code",
      "execution_count": null,
      "metadata": {
        "collapsed": false
      },
      "outputs": [],
      "source": [
        "base_url = 'https://github.com/duchesnay/pystatsml/raw/master/datasets/brain_volumes/%s'\ndata = dict()\nfor file in [\"demo.csv\", \"gm.csv\", \"wm.csv\", \"csf.csv\"]:\n    urllib.request.urlretrieve(base_url % file, os.path.join(WD, \"data\", file))\n\n# Read all CSV in one line\n# dicts = {k: pd.read_csv(os.path.join(WD, \"data\", \"%s.csv\" % k))\n#          for k in [\"demo\", \"gm\", \"wm\", \"csf\"]}\n\ndemo = pd.read_csv(os.path.join(WD, \"data\", \"demo.csv\"))\ngm = pd.read_csv(os.path.join(WD, \"data\", \"gm.csv\"))\nwm = pd.read_csv(os.path.join(WD, \"data\", \"wm.csv\"))\ncsf = pd.read_csv(os.path.join(WD, \"data\", \"csf.csv\"))\n\nprint(\"tables can be merge using shared columns\")\nprint(gm.head())"
      ]
    },
    {
      "cell_type": "markdown",
      "metadata": {},
      "source": [
        "**Merge tables** according to `participant_id`\n\n"
      ]
    },
    {
      "cell_type": "code",
      "execution_count": null,
      "metadata": {
        "collapsed": false
      },
      "outputs": [],
      "source": [
        "brain_vol = pd.merge(pd.merge(pd.merge(demo, gm), wm), csf)\nassert brain_vol.shape == (808, 9)"
      ]
    },
    {
      "cell_type": "markdown",
      "metadata": {},
      "source": [
        "**Drop rows with missing values**\n\n"
      ]
    },
    {
      "cell_type": "code",
      "execution_count": null,
      "metadata": {
        "collapsed": false
      },
      "outputs": [],
      "source": [
        "brain_vol = brain_vol.dropna()\nassert brain_vol.shape == (766, 9)"
      ]
    },
    {
      "cell_type": "markdown",
      "metadata": {},
      "source": [
        "**Compute Total Intra-cranial volume**\n`tiv_vol` = `gm_vol` + `csf_vol` + `wm_vol`.\n\n"
      ]
    },
    {
      "cell_type": "code",
      "execution_count": null,
      "metadata": {
        "collapsed": false
      },
      "outputs": [],
      "source": [
        "brain_vol[\"tiv_vol\"] = brain_vol[\"gm_vol\"] + \\\n    brain_vol[\"wm_vol\"] + brain_vol[\"csf_vol\"]"
      ]
    },
    {
      "cell_type": "markdown",
      "metadata": {},
      "source": [
        "**Compute tissue fractions**\n`gm_f = gm_vol / tiv_vol`, `wm_f  = wm_vol / tiv_vol`.\n\n"
      ]
    },
    {
      "cell_type": "code",
      "execution_count": null,
      "metadata": {
        "collapsed": false
      },
      "outputs": [],
      "source": [
        "brain_vol[\"gm_f\"] = brain_vol[\"gm_vol\"] / brain_vol[\"tiv_vol\"]\nbrain_vol[\"wm_f\"] = brain_vol[\"wm_vol\"] / brain_vol[\"tiv_vol\"]"
      ]
    },
    {
      "cell_type": "markdown",
      "metadata": {},
      "source": [
        "**Save in a excel file** `brain_vol.xlsx`\n\n"
      ]
    },
    {
      "cell_type": "code",
      "execution_count": null,
      "metadata": {
        "collapsed": false
      },
      "outputs": [],
      "source": [
        "brain_vol.to_excel(os.path.join(WD, \"data\", \"brain_vol.xlsx\"),\n                   sheet_name='data', index=False)"
      ]
    },
    {
      "cell_type": "markdown",
      "metadata": {},
      "source": [
        "## Descriptive Statistics\n\n"
      ]
    },
    {
      "cell_type": "markdown",
      "metadata": {},
      "source": [
        "Load excel file `brain_vol.xlsx`\n\n"
      ]
    },
    {
      "cell_type": "code",
      "execution_count": null,
      "metadata": {
        "collapsed": false
      },
      "outputs": [],
      "source": [
        "brain_vol = pd.read_excel(os.path.join(WD, \"data\", \"brain_vol.xlsx\"),\n                          sheet_name='data')\n# Round float at 2 decimals when printing\npd.options.display.float_format = '{:,.2f}'.format"
      ]
    },
    {
      "cell_type": "markdown",
      "metadata": {},
      "source": [
        "**Descriptive statistics**\nMost of participants have several MRI sessions (column `session`)\nSelect on rows from session one \"ses-01\"\n\n"
      ]
    },
    {
      "cell_type": "code",
      "execution_count": null,
      "metadata": {
        "collapsed": false
      },
      "outputs": [],
      "source": [
        "brain_vol1 = brain_vol[brain_vol.session == \"ses-01\"]\n# Check that there are no duplicates\nassert len(brain_vol1.participant_id.unique()) == len(brain_vol1.participant_id)"
      ]
    },
    {
      "cell_type": "markdown",
      "metadata": {},
      "source": [
        "Global descriptives statistics of numerical variables\n\n"
      ]
    },
    {
      "cell_type": "code",
      "execution_count": null,
      "metadata": {
        "collapsed": false
      },
      "outputs": [],
      "source": [
        "desc_glob_num = brain_vol1.describe()\nprint(desc_glob_num)"
      ]
    },
    {
      "cell_type": "markdown",
      "metadata": {},
      "source": [
        "Global Descriptive statistics of categorical variable\n\n"
      ]
    },
    {
      "cell_type": "code",
      "execution_count": null,
      "metadata": {
        "collapsed": false
      },
      "outputs": [],
      "source": [
        "desc_glob_cat = brain_vol1[[\"site\", \"group\", \"sex\"]].describe(include='all')\nprint(desc_glob_cat)\n\nprint(\"Get count by level\")\ndesc_glob_cat = pd.DataFrame({col: brain_vol1[col].value_counts().to_dict()\n                             for col in [\"site\", \"group\", \"sex\"]})\nprint(desc_glob_cat)"
      ]
    },
    {
      "cell_type": "markdown",
      "metadata": {},
      "source": [
        "Remove the single participant from site 6\n\n"
      ]
    },
    {
      "cell_type": "code",
      "execution_count": null,
      "metadata": {
        "collapsed": false
      },
      "outputs": [],
      "source": [
        "brain_vol = brain_vol[brain_vol.site != \"S6\"]\nbrain_vol1 = brain_vol[brain_vol.session == \"ses-01\"]\ndesc_glob_cat = pd.DataFrame({col: brain_vol1[col].value_counts().to_dict()\n                             for col in [\"site\", \"group\", \"sex\"]})\nprint(desc_glob_cat)"
      ]
    },
    {
      "cell_type": "markdown",
      "metadata": {},
      "source": [
        "Descriptives statistics of numerical variables per clinical status\n\n"
      ]
    },
    {
      "cell_type": "code",
      "execution_count": null,
      "metadata": {
        "collapsed": false
      },
      "outputs": [],
      "source": [
        "desc_group_num = brain_vol1[[\"group\", 'gm_vol']].groupby(\"group\").describe()\nprint(desc_group_num)"
      ]
    },
    {
      "cell_type": "markdown",
      "metadata": {},
      "source": [
        "## Statistics\n\nObjectives:\n\n1. Site effect of gray matter atrophy\n2. Test the association between the age and gray matter atrophy in the control\n   and patient population independently.\n3. Test for differences of atrophy between the patients and the controls\n4. Test for interaction between age and clinical status, ie: is the brain\n   atrophy process in patient population faster than in the control population.\n5. The effect of the medication in the patient population.\n\n"
      ]
    },
    {
      "cell_type": "markdown",
      "metadata": {},
      "source": [
        "**1 Site effect on Grey Matter atrophy**\n\nThe model  is Oneway Anova gm_f ~ site\nThe ANOVA test has important assumptions that must be satisfied in order\nfor the associated p-value to be valid.\n\n- The samples are independent.\n- Each sample is from a normally distributed population.\n- The population standard deviations of the groups are all equal.\n  This property is known as homoscedasticity.\n\n\n"
      ]
    },
    {
      "cell_type": "markdown",
      "metadata": {},
      "source": [
        "Plot\n\n"
      ]
    },
    {
      "cell_type": "code",
      "execution_count": null,
      "metadata": {
        "collapsed": false
      },
      "outputs": [],
      "source": [
        "sns.violinplot(x=\"site\", y=\"gm_f\", data=brain_vol1)\n# sns.violinplot(x=\"site\", y=\"wm_f\", data=brain_vol1)\n\nbrain_vol1.groupby('site')['age'].describe()"
      ]
    },
    {
      "cell_type": "markdown",
      "metadata": {},
      "source": [
        "Stats with scipy\n\n"
      ]
    },
    {
      "cell_type": "code",
      "execution_count": null,
      "metadata": {
        "collapsed": false
      },
      "outputs": [],
      "source": [
        "fstat, pval = scipy.stats.f_oneway(*[brain_vol1.gm_f[brain_vol1.site == s]\n                                   for s in brain_vol1.site.unique()])\nprint(\"Oneway Anova gm_f ~ site F=%.2f, p-value=%E\" % (fstat, pval))"
      ]
    },
    {
      "cell_type": "markdown",
      "metadata": {},
      "source": [
        "Stats with statsmodels\n\n"
      ]
    },
    {
      "cell_type": "code",
      "execution_count": null,
      "metadata": {
        "collapsed": false
      },
      "outputs": [],
      "source": [
        "anova = smfrmla.ols(\"gm_f ~ site\", data=brain_vol1).fit()\n# print(anova.summary())\nprint(\"Site explains %.2f%% of the grey matter fraction variance\" %\n      (anova.rsquared * 100))\n\nprint(sm.stats.anova_lm(anova, typ=2))"
      ]
    },
    {
      "cell_type": "markdown",
      "metadata": {},
      "source": [
        "**2. Test the association between the age and gray matter atrophy** in the\ncontrol and patient population independently.\n\n"
      ]
    },
    {
      "cell_type": "markdown",
      "metadata": {},
      "source": [
        "Plot\n\n"
      ]
    },
    {
      "cell_type": "code",
      "execution_count": null,
      "metadata": {
        "collapsed": false
      },
      "outputs": [],
      "source": [
        "sns.lmplot(x=\"age\", y=\"gm_f\", hue=\"group\", data=brain_vol1)\n\nbrain_vol1_ctl = brain_vol1[brain_vol1.group == \"Control\"]\nbrain_vol1_pat = brain_vol1[brain_vol1.group == \"Patient\"]"
      ]
    },
    {
      "cell_type": "markdown",
      "metadata": {},
      "source": [
        "Stats with scipy\n\n"
      ]
    },
    {
      "cell_type": "code",
      "execution_count": null,
      "metadata": {
        "collapsed": false
      },
      "outputs": [],
      "source": [
        "print(\"--- In control population ---\")\nbeta, beta0, r_value, p_value, std_err = \\\n    scipy.stats.linregress(x=brain_vol1_ctl.age, y=brain_vol1_ctl.gm_f)\n\nprint(\"gm_f = %f * age + %f\" % (beta, beta0))\nprint(\"Corr: %f, r-squared: %f, p-value: %f, std_err: %f\"\\\n      % (r_value, r_value**2, p_value, std_err))\n\nprint(\"--- In patient population ---\")\nbeta, beta0, r_value, p_value, std_err = \\\n    scipy.stats.linregress(x=brain_vol1_pat.age, y=brain_vol1_pat.gm_f)\n\nprint(\"gm_f = %f * age + %f\" % (beta, beta0))\nprint(\"Corr: %f, r-squared: %f, p-value: %f, std_err: %f\"\\\n      % (r_value, r_value**2, p_value, std_err))\n\nprint(\"Decrease seems faster in patient than in control population\")"
      ]
    },
    {
      "cell_type": "markdown",
      "metadata": {},
      "source": [
        "Stats with statsmodels\n\n"
      ]
    },
    {
      "cell_type": "code",
      "execution_count": null,
      "metadata": {
        "collapsed": false
      },
      "outputs": [],
      "source": [
        "print(\"--- In control population ---\")\nlr = smfrmla.ols(\"gm_f ~ age\", data=brain_vol1_ctl).fit()\nprint(lr.summary())\nprint(\"Age explains %.2f%% of the grey matter fraction variance\" %\n      (lr.rsquared * 100))\n\nprint(\"--- In patient population ---\")\nlr = smfrmla.ols(\"gm_f ~ age\", data=brain_vol1_pat).fit()\nprint(lr.summary())\nprint(\"Age explains %.2f%% of the grey matter fraction variance\" %\n      (lr.rsquared * 100))"
      ]
    },
    {
      "cell_type": "markdown",
      "metadata": {},
      "source": [
        "Before testing for differences of atrophy between the patients ans the controls\n**Preliminary tests for age x group effect** (patients would be older or\nyounger than Controls)\n\n"
      ]
    },
    {
      "cell_type": "markdown",
      "metadata": {},
      "source": [
        "Plot\n\n"
      ]
    },
    {
      "cell_type": "code",
      "execution_count": null,
      "metadata": {
        "collapsed": false
      },
      "outputs": [],
      "source": [
        "sns.violinplot(x=\"group\", y=\"age\", data=brain_vol1)"
      ]
    },
    {
      "cell_type": "markdown",
      "metadata": {},
      "source": [
        "Stats with scipy\n\n"
      ]
    },
    {
      "cell_type": "code",
      "execution_count": null,
      "metadata": {
        "collapsed": false
      },
      "outputs": [],
      "source": [
        "print(scipy.stats.ttest_ind(brain_vol1_ctl.age, brain_vol1_pat.age))"
      ]
    },
    {
      "cell_type": "markdown",
      "metadata": {},
      "source": [
        "Stats with statsmodels\n\n"
      ]
    },
    {
      "cell_type": "code",
      "execution_count": null,
      "metadata": {
        "collapsed": false
      },
      "outputs": [],
      "source": [
        "print(smfrmla.ols(\"age ~ group\", data=brain_vol1).fit().summary())\nprint(\"No significant difference in age between patients and controls\")"
      ]
    },
    {
      "cell_type": "markdown",
      "metadata": {},
      "source": [
        "**Preliminary tests for sex x group** (more/less males in patients than\nin Controls)\n\n"
      ]
    },
    {
      "cell_type": "code",
      "execution_count": null,
      "metadata": {
        "collapsed": false
      },
      "outputs": [],
      "source": [
        "crosstab = pd.crosstab(brain_vol1.sex, brain_vol1.group)\nprint(\"Obeserved contingency table\")\nprint(crosstab)\n\nchi2, pval, dof, expected = scipy.stats.chi2_contingency(crosstab)\n\nprint(\"Chi2 = %f, pval = %f\" % (chi2, pval))\nprint(\"No significant difference in sex between patients and controls\")"
      ]
    },
    {
      "cell_type": "markdown",
      "metadata": {},
      "source": [
        "**3. Test for differences of atrophy between the patients and the controls**\n\n"
      ]
    },
    {
      "cell_type": "code",
      "execution_count": null,
      "metadata": {
        "collapsed": false
      },
      "outputs": [],
      "source": [
        "print(sm.stats.anova_lm(smfrmla.ols(\"gm_f ~ group\", data=brain_vol1).fit(),\n                        typ=2))\nprint(\"No significant difference in atrophy between patients and controls\")"
      ]
    },
    {
      "cell_type": "markdown",
      "metadata": {},
      "source": [
        "This model is simplistic we should adjust for age and site\n\n"
      ]
    },
    {
      "cell_type": "code",
      "execution_count": null,
      "metadata": {
        "collapsed": false
      },
      "outputs": [],
      "source": [
        "print(sm.stats.anova_lm(smfrmla.ols(\n        \"gm_f ~ group + age + site\", data=brain_vol1).fit(), typ=2))\nprint(\"No significant difference in GM between patients and controls\")"
      ]
    },
    {
      "cell_type": "markdown",
      "metadata": {},
      "source": [
        "Observe age effect\n\n"
      ]
    },
    {
      "cell_type": "markdown",
      "metadata": {},
      "source": [
        "**4. Test for interaction between age and clinical status**, ie: is the brain\natrophy process in patient population faster than in the control population.\n\n"
      ]
    },
    {
      "cell_type": "code",
      "execution_count": null,
      "metadata": {
        "collapsed": false
      },
      "outputs": [],
      "source": [
        "ancova = smfrmla.ols(\"gm_f ~ group:age + age + site\", data=brain_vol1).fit()\nprint(sm.stats.anova_lm(ancova, typ=2))\n\nprint(\"= Parameters =\")\nprint(ancova.params)\n\nprint(\"%.3f%% of grey matter loss per year (almost %.1f%% per decade)\" %\n      (ancova.params.age * 100, ancova.params.age * 100 * 10))\n\nprint(\"grey matter loss in patients is accelerated by %.3f%% per decade\" %\n      (ancova.params['group[T.Patient]:age'] * 100 * 10))"
      ]
    }
  ],
  "metadata": {
    "kernelspec": {
      "display_name": "Python 3",
      "language": "python",
      "name": "python3"
    },
    "language_info": {
      "codemirror_mode": {
        "name": "ipython",
        "version": 3
      },
      "file_extension": ".py",
      "mimetype": "text/x-python",
      "name": "python",
      "nbconvert_exporter": "python",
      "pygments_lexer": "ipython3",
      "version": "3.13.2"
    }
  },
  "nbformat": 4,
  "nbformat_minor": 0
}