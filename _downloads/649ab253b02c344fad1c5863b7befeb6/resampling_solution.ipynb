{
  "cells": [
    {
      "cell_type": "markdown",
      "metadata": {},
      "source": [
        "\nCreated on Wed Jan 18 10:40:44 2017\n\n@author: edouard.duchesnay@cea.fr\n"
      ]
    },
    {
      "cell_type": "code",
      "execution_count": null,
      "metadata": {
        "collapsed": false
      },
      "outputs": [],
      "source": [
        "\"\"\"\nExercise\n\nGiven the logistic regression presented above and its validation given a 5 folds CV.\n\n    Compute the p-value associated with the prediction accuracy using a permutation test.\n\n    Compute the p-value associated with the prediction accuracy using a parametric test.\n\n\"\"\"\nimport numpy as np\nfrom sklearn import datasets\nimport sklearn.linear_model as lm\nimport sklearn.metrics as metrics\nfrom sklearn.model_selection import StratifiedKFold\n\nX, y = datasets.make_classification(n_samples=100, n_features=100,\n                         n_informative=10, random_state=42)\n\nmodel = lm.LogisticRegression(C=1)\nnperm = 100\nscores_perm= np.zeros((nperm, 3))  # 3 scores acc, recall0, recall1\n\nfor perm in range(0, nperm):\n    # perm = 0; y == yp\n    # first run on non-permuted samples\n    yp = y if perm == 0 else np.random.permutation(y)\n    # CV loop\n    y_test_pred = np.zeros(len(yp))\n    cv = StratifiedKFold(5)\n    for train, test in cv.split(X, y):\n        X_train, X_test, y_train, y_test = X[train, :], X[test, :], yp[train], yp[test]\n        model.fit(X_train, y_train)\n        y_test_pred[test] = model.predict(X_test)\n    scores_perm[perm, 0] = metrics.accuracy_score(yp, y_test_pred)\n    scores_perm[perm, [1, 2]] = metrics.recall_score(yp, y_test_pred, average=None)\n\n# Empirical permutation based p-values\npval = np.sum(scores_perm >= scores_perm[0, :], axis=0) / nperm\n\nprint(\"ACC:%.2f(P=%.3f); SPC:%.2f(P=%.3f); SEN:%.2f(P=%.3f)\" %\\\n      (scores_perm[0, 0], pval[0],\n       scores_perm[0, 1], pval[1],\n       scores_perm[0, 2], pval[2]))"
      ]
    }
  ],
  "metadata": {
    "kernelspec": {
      "display_name": "Python 3",
      "language": "python",
      "name": "python3"
    },
    "language_info": {
      "codemirror_mode": {
        "name": "ipython",
        "version": 3
      },
      "file_extension": ".py",
      "mimetype": "text/x-python",
      "name": "python",
      "nbconvert_exporter": "python",
      "pygments_lexer": "ipython3",
      "version": "3.13.2"
    }
  },
  "nbformat": 4,
  "nbformat_minor": 0
}