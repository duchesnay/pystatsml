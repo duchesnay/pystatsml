{
  "cells": [
    {
      "cell_type": "markdown",
      "metadata": {},
      "source": [
        "\n# Exercises: Pandas: data manipulation\n\n## Data Frame\n\n1. Read the iris dataset at 'https://github.com/duchesnay/pystatsml/raw/master/datasets/iris.csv'\n\n2. Print column names\n\n3. Get numerical columns\n\n4. For each species compute the mean of numerical columns and store it in  a ``stats`` table like:\n\n::\n\n          species  sepal_length  sepal_width  petal_length  petal_width\n    0      setosa         5.006        3.428         1.462        0.246\n    1  versicolor         5.936        2.770         4.260        1.326\n    2   virginica         6.588        2.974         5.552        2.026\n"
      ]
    },
    {
      "cell_type": "code",
      "execution_count": null,
      "metadata": {
        "collapsed": false
      },
      "outputs": [],
      "source": [
        "import pandas as pd\nimport numpy as np\nimport matplotlib.pyplot as plt\n\n\nurl = 'https://github.com/duchesnay/pystatsml/raw/master/datasets/iris.csv'\ndf = pd.read_csv(url)\n\nnum_cols = df._get_numeric_data().columns\n\nstats = list()\n\nfor grp, d in df.groupby(\"species\"):\n    print(grp)\n    #print()\n    stats.append( [grp] + d.loc[:, num_cols].mean(axis=0).tolist())\n\nstats = pd.DataFrame(stats, columns=[\"species\"] + num_cols.tolist())\nprint(stats)\n\n# or\ndf.groupby(\"species\").mean()\n\n##\n\ndf.loc[[0, 1] ,\"petal_width\"] = None\n\ndf.petal_width\n\ndf[\"petal_width\"][df[\"petal_width\"].isnull()] = \\\n    df[\"petal_width\"][df[\"petal_width\"].notnull()].median()\n\n\n#\n\nl = [(1, \"a\", 1), (2, \"b\", 2)]\n\nfor x, y, z in l:\n    print(x, y, z)"
      ]
    }
  ],
  "metadata": {
    "kernelspec": {
      "display_name": "Python 3",
      "language": "python",
      "name": "python3"
    },
    "language_info": {
      "codemirror_mode": {
        "name": "ipython",
        "version": 3
      },
      "file_extension": ".py",
      "mimetype": "text/x-python",
      "name": "python",
      "nbconvert_exporter": "python",
      "pygments_lexer": "ipython3",
      "version": "3.13.2"
    }
  },
  "nbformat": 4,
  "nbformat_minor": 0
}