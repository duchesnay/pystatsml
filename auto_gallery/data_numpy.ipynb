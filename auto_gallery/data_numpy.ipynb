{
  "cells": [
    {
      "cell_type": "markdown",
      "metadata": {},
      "source": [
        "\n# Numpy: Arrays and Matrices\n\nNumPy is an extension to the Python programming language, adding support for large, multi-dimensional\n(numerical) arrays and matrices, along with a large library of high-level mathematical functions to\noperate on these arrays.\n\nNumpy functions are executed by **compiled in C or Fortran libraries**,\nproviding the performance of compiled languages.\n\n**Sources**: [Kevin Markham](https://github.com/justmarkham)\n\nComputation time:\n"
      ]
    },
    {
      "cell_type": "code",
      "execution_count": null,
      "metadata": {
        "collapsed": false
      },
      "outputs": [],
      "source": [
        "import numpy as np\nimport time\n\nstart_time = time.time()\nl = [v for v in range(10 ** 8)]\ns = 0\nfor v in l: s += v\nprint(\"Python code, time ellapsed: %.2fs\" % (time.time() - start_time))\n\nstart_time = time.time()\narr = np.arange(10 ** 8)\narr.sum()\nprint(\"Numpy code, time ellapsed: %.2fs\" % (time.time() - start_time))"
      ]
    },
    {
      "cell_type": "markdown",
      "metadata": {},
      "source": [
        "## Create arrays\n\nCreate ndarrays from lists.\nnote: every element must be the same type (will be converted if possible)\n\n"
      ]
    },
    {
      "cell_type": "code",
      "execution_count": null,
      "metadata": {
        "collapsed": false
      },
      "outputs": [],
      "source": [
        "data1 = [1, 2, 3, 4, 5]             # list\narr = np.array(data1)              # 1d array\ndata = [range(1, 5), range(5, 9)]  # list of lists\narr = np.array(data)              # 2d array\nprint(arr)\narr.tolist()                       # convert array back to list"
      ]
    },
    {
      "cell_type": "markdown",
      "metadata": {},
      "source": [
        "Create special arrays\n\n"
      ]
    },
    {
      "cell_type": "code",
      "execution_count": null,
      "metadata": {
        "collapsed": false
      },
      "outputs": [],
      "source": [
        "np.zeros(10)       # [0, 0, ..., 0]\nnp.zeros((3, 6))   # 3 x 6 array of zeros\nnp.ones(10)\nnp.linspace(0, 1, 5)            # 0 to 1 (inclusive) with 5 points\nnp.logspace(0, 3, 4)            # 10^0 to 10^3 (inclusive) with 4 points\nnp.arange(10)                   # [0, 1 ..., 9]"
      ]
    },
    {
      "cell_type": "markdown",
      "metadata": {},
      "source": [
        "Examining arrays\n\n"
      ]
    },
    {
      "cell_type": "code",
      "execution_count": null,
      "metadata": {
        "collapsed": false
      },
      "outputs": [],
      "source": [
        "print(\"Shape of the array: \",\n      arr.shape)\n\nprint(\"Type of the array: \",\n      arr.dtype)\n\nprint(\"Number of items in the array: \",\n      arr.size)\n \nprint(\"Memory size of one array item in bytes: \",\n      arr.itemsize)\n \n# memory size of numpy array in bytes\nprint(\"Memory size of numpy array in bytes: %i, and in bits: %i\" %\n      (arr.size * arr.itemsize, arr.size * arr.itemsize * 8 ))"
      ]
    },
    {
      "cell_type": "markdown",
      "metadata": {},
      "source": [
        "## Selection\n\n"
      ]
    },
    {
      "cell_type": "code",
      "execution_count": null,
      "metadata": {
        "collapsed": false
      },
      "outputs": [],
      "source": [
        "arr[1, 2] # Get third item of the second line"
      ]
    },
    {
      "cell_type": "markdown",
      "metadata": {},
      "source": [
        "### Slicing\n\nSyntax: ``start:stop:step`` with ``start`` *(default 0)* ``stop`` *(default last)* ``step`` *(default 1)*\n\n- ``:`` is equivalent to ``0:last:1``; ie, take all elements, from 0 to the end with step = 1.\n- ``:k`` is equivalent to ``0:k:1``; ie, take all elements, from 0 to k with step = 1.\n- ``k:`` is equivalent to ``k:end:1``; ie, take all elements, from k to the end with step = 1.\n- ``::-1`` is equivalent to ``0:end:-1``; ie, take all elements, from k to the end in reverse order, with step = -1.\n\n"
      ]
    },
    {
      "cell_type": "code",
      "execution_count": null,
      "metadata": {
        "collapsed": false
      },
      "outputs": [],
      "source": [
        "arr[0, :] # Get first line\narr[:, 2] # Get third column\narr[:, :2]     # columns strictly before index 2 (2 first columns)\narr[:, 2:]     # columns after index 2 included\narr2 = arr[:, 1:4]  # columns between index 1 (included) and 4 (excluded)\nprint(arr2)\n\n# Slicing returns a view (not a copy)\n# Modification\n\narr2[0, 0] = 33\nprint(arr2)\nprint(arr)"
      ]
    },
    {
      "cell_type": "markdown",
      "metadata": {},
      "source": [
        "Reverse order of row 0\n\n"
      ]
    },
    {
      "cell_type": "code",
      "execution_count": null,
      "metadata": {
        "collapsed": false
      },
      "outputs": [],
      "source": [
        "print(arr[0, ::-1])"
      ]
    },
    {
      "cell_type": "markdown",
      "metadata": {},
      "source": [
        "### Fancy indexing: Integer or boolean array indexing\n\nFancy indexing returns a copy not a view.\n\nInteger array indexing\n\n"
      ]
    },
    {
      "cell_type": "code",
      "execution_count": null,
      "metadata": {
        "collapsed": false
      },
      "outputs": [],
      "source": [
        "arr2 = arr[:, [1, 2, 3]]  # return a copy\nprint(arr2)\narr2[0, 0] = 44\nprint(arr2)\nprint(arr)"
      ]
    },
    {
      "cell_type": "markdown",
      "metadata": {},
      "source": [
        "Boolean arrays indexing\n\n"
      ]
    },
    {
      "cell_type": "code",
      "execution_count": null,
      "metadata": {
        "collapsed": false
      },
      "outputs": [],
      "source": [
        "arr2 = arr[arr > 5]  # return a copy\n\nprint(arr2)\narr2[0] = 44\nprint(arr2)\nprint(arr)"
      ]
    },
    {
      "cell_type": "markdown",
      "metadata": {},
      "source": [
        "However, In the context of lvalue indexing (left hand side value of an assignment)\nFancy authorizes the modification of the original array\n\n"
      ]
    },
    {
      "cell_type": "code",
      "execution_count": null,
      "metadata": {
        "collapsed": false
      },
      "outputs": [],
      "source": [
        "arr[arr > 5] = 0\nprint(arr)"
      ]
    },
    {
      "cell_type": "markdown",
      "metadata": {},
      "source": [
        "### Array indexing return copy or view?\n\nGeneral rules:\n\n- Slicing always returns a view.\n- Fancy indexing (boolean mask, integers) returns copy\n- lvalue indexing i.e. the indices are placed in the left hand side value of an assignment,\n  provides a view.\n\n"
      ]
    },
    {
      "cell_type": "markdown",
      "metadata": {},
      "source": [
        "## Array manipulation\n\n"
      ]
    },
    {
      "cell_type": "markdown",
      "metadata": {},
      "source": [
        "Reshaping\n\n"
      ]
    },
    {
      "cell_type": "code",
      "execution_count": null,
      "metadata": {
        "collapsed": false
      },
      "outputs": [],
      "source": [
        "arr = np.arange(10, dtype=float).reshape((2, 5))\nprint(arr.shape)\nprint(arr.reshape(5, 2))"
      ]
    },
    {
      "cell_type": "markdown",
      "metadata": {},
      "source": [
        "Add an axis\n\n"
      ]
    },
    {
      "cell_type": "code",
      "execution_count": null,
      "metadata": {
        "collapsed": false
      },
      "outputs": [],
      "source": [
        "a = np.array([0, 1])\nprint(a)\na_col = a[:, np.newaxis]\nprint(a_col)\n#or\na_col = a[:, None]"
      ]
    },
    {
      "cell_type": "markdown",
      "metadata": {},
      "source": [
        "Transpose\n\n"
      ]
    },
    {
      "cell_type": "code",
      "execution_count": null,
      "metadata": {
        "collapsed": false
      },
      "outputs": [],
      "source": [
        "print(a_col.T)"
      ]
    },
    {
      "cell_type": "markdown",
      "metadata": {},
      "source": [
        "Flatten: always returns a flat copy of the original array\n\n"
      ]
    },
    {
      "cell_type": "code",
      "execution_count": null,
      "metadata": {
        "collapsed": false
      },
      "outputs": [],
      "source": [
        "arr_flt = arr.flatten()\narr_flt[0] = 33\nprint(arr_flt)\nprint(arr)"
      ]
    },
    {
      "cell_type": "markdown",
      "metadata": {},
      "source": [
        "Ravel: returns a view of the original array whenever possible.\n\n"
      ]
    },
    {
      "cell_type": "code",
      "execution_count": null,
      "metadata": {
        "collapsed": false
      },
      "outputs": [],
      "source": [
        "arr_flt = arr.ravel()\narr_flt[0] = 33\nprint(arr_flt)\nprint(arr)"
      ]
    },
    {
      "cell_type": "markdown",
      "metadata": {},
      "source": [
        "Stack arrays\n[NumPy Joining Array](https://www.w3schools.com/python/numpy/numpy_array_join.asp)\n\n"
      ]
    },
    {
      "cell_type": "code",
      "execution_count": null,
      "metadata": {
        "collapsed": false
      },
      "outputs": [],
      "source": [
        "a = np.array([0, 1])\nb = np.array([2, 3])"
      ]
    },
    {
      "cell_type": "markdown",
      "metadata": {},
      "source": [
        "Horizontal stacking\n\n"
      ]
    },
    {
      "cell_type": "code",
      "execution_count": null,
      "metadata": {
        "collapsed": false
      },
      "outputs": [],
      "source": [
        "np.hstack([a, b])"
      ]
    },
    {
      "cell_type": "markdown",
      "metadata": {},
      "source": [
        "Vertical stacking\n\n"
      ]
    },
    {
      "cell_type": "code",
      "execution_count": null,
      "metadata": {
        "collapsed": false
      },
      "outputs": [],
      "source": [
        "np.vstack([a, b])"
      ]
    },
    {
      "cell_type": "markdown",
      "metadata": {},
      "source": [
        "Default Vertical\n\n"
      ]
    },
    {
      "cell_type": "code",
      "execution_count": null,
      "metadata": {
        "collapsed": false
      },
      "outputs": [],
      "source": [
        "np.stack([a, b])"
      ]
    },
    {
      "cell_type": "markdown",
      "metadata": {},
      "source": [
        "## Advanced Numpy: reshaping/flattening and selection\n\nNumpy internals: By default Numpy use C convention, ie, Row-major language:\nThe matrix is stored by rows. In C, the last index changes most rapidly as one moves through the array as stored in memory.\n\nFor 2D arrays, sequential move in the memory will:\n\n- iterate over rows (axis 0)\n   - iterate over columns (axis 1)\n\nFor 3D arrays, sequential move in the memory will:\n\n- iterate over plans (axis 0)\n   - iterate over rows (axis 1)\n       - iterate over columns (axis 2)\n\n\n.. figure:: ../images/numpy_array3d.png\n\n"
      ]
    },
    {
      "cell_type": "code",
      "execution_count": null,
      "metadata": {
        "collapsed": false
      },
      "outputs": [],
      "source": [
        "x = np.arange(2 * 3 * 4)\nprint(x)"
      ]
    },
    {
      "cell_type": "markdown",
      "metadata": {},
      "source": [
        "Reshape into 3D (axis 0, axis 1, axis 2)\n\n"
      ]
    },
    {
      "cell_type": "code",
      "execution_count": null,
      "metadata": {
        "collapsed": false
      },
      "outputs": [],
      "source": [
        "x = x.reshape(2, 3, 4)\nprint(x)"
      ]
    },
    {
      "cell_type": "markdown",
      "metadata": {},
      "source": [
        "Selection get first plan\n\n"
      ]
    },
    {
      "cell_type": "code",
      "execution_count": null,
      "metadata": {
        "collapsed": false
      },
      "outputs": [],
      "source": [
        "print(x[0, :, :])"
      ]
    },
    {
      "cell_type": "markdown",
      "metadata": {},
      "source": [
        "Selection get first rows\n\n"
      ]
    },
    {
      "cell_type": "code",
      "execution_count": null,
      "metadata": {
        "collapsed": false
      },
      "outputs": [],
      "source": [
        "print(x[:, 0, :])"
      ]
    },
    {
      "cell_type": "markdown",
      "metadata": {},
      "source": [
        "Selection get first columns\n\n"
      ]
    },
    {
      "cell_type": "code",
      "execution_count": null,
      "metadata": {
        "collapsed": false
      },
      "outputs": [],
      "source": [
        "print(x[:, :, 0])"
      ]
    },
    {
      "cell_type": "markdown",
      "metadata": {},
      "source": [
        "Ravel\n\n"
      ]
    },
    {
      "cell_type": "code",
      "execution_count": null,
      "metadata": {
        "collapsed": false
      },
      "outputs": [],
      "source": [
        "print(x.ravel())"
      ]
    },
    {
      "cell_type": "markdown",
      "metadata": {},
      "source": [
        "## Vectorized operations\n\n"
      ]
    },
    {
      "cell_type": "code",
      "execution_count": null,
      "metadata": {
        "collapsed": false
      },
      "outputs": [],
      "source": [
        "nums = np.arange(5)\nnums * 10                           # multiply each element by 10\nnums = np.sqrt(nums)                # square root of each element\nnp.ceil(nums)                       # also floor, rint (round to nearest int)\nnp.isnan(nums)                      # checks for NaN\nnums + np.arange(5)                 # add element-wise\nnp.maximum(nums, np.array([1, -2, 3, -4, 5]))  # compare element-wise\n\n# Compute Euclidean distance between 2 vectors\nvec1 = np.random.randn(10)\nvec2 = np.random.randn(10)\ndist = np.sqrt(np.sum((vec1 - vec2) ** 2))\n\n# math and stats\nrnd = np.random.randn(4, 2) # random normals in 4x2 array\nrnd.mean()\nrnd.std()\nrnd.argmin()                # index of minimum element\nrnd.sum()\nrnd.sum(axis=0)             # sum of columns\nrnd.sum(axis=1)             # sum of rows\n\n# methods for boolean arrays\n(rnd > 0).sum()             # counts number of positive values\n(rnd > 0).any()             # checks if any value is True\n(rnd > 0).all()             # checks if all values are True\n\n# random numbers\nnp.random.seed(12234)       # Set the seed\nnp.random.rand(2, 3)        # 2 x 3 matrix in [0, 1]\nnp.random.randn(10)         # random normals (mean 0, sd 1)\nnp.random.randint(0, 2, 10) # 10 randomly picked 0 or 1"
      ]
    },
    {
      "cell_type": "markdown",
      "metadata": {},
      "source": [
        "## Broadcasting\n\nSources: https://docs.scipy.org/doc/numpy-1.13.0/user/basics.broadcasting.html\nImplicit conversion to allow operations on arrays of different sizes.\n- The smaller array is stretched or \u201cbroadcasted\u201d across the larger array so that they have compatible shapes.\n- Fast vectorized operation in C instead of Python.\n- No needless copies.\n\n### Rules\n\nStarting with the trailing axis and working backward, Numpy compares arrays dimensions.\n\n- If two dimensions are equal then continues\n\n- If one of the operand has dimension 1 stretches it to match the largest one\n\n- When one of the shapes runs out of dimensions (because it has less dimensions than the other shape), Numpy will use 1 in the comparison process until the other shape's dimensions run out as well.\n\n\n.. figure:: ../images/numpy_broadcasting.png\n\n  Source: http://www.scipy-lectures.org\n\n"
      ]
    },
    {
      "cell_type": "code",
      "execution_count": null,
      "metadata": {
        "collapsed": false
      },
      "outputs": [],
      "source": [
        "a = np.array([[ 0,  0,  0],\n              [10, 10, 10],\n              [20, 20, 20],\n              [30, 30, 30]])\n\nb = np.array([0, 1, 2])\n\nprint(a + b)"
      ]
    },
    {
      "cell_type": "markdown",
      "metadata": {},
      "source": [
        "Center data column-wise\n\n"
      ]
    },
    {
      "cell_type": "code",
      "execution_count": null,
      "metadata": {
        "collapsed": false
      },
      "outputs": [],
      "source": [
        "a - a.mean(axis=0)"
      ]
    },
    {
      "cell_type": "markdown",
      "metadata": {},
      "source": [
        "Scale (center, normalise) data column-wise\n\n"
      ]
    },
    {
      "cell_type": "code",
      "execution_count": null,
      "metadata": {
        "collapsed": false
      },
      "outputs": [],
      "source": [
        "(a - a.mean(axis=0)) / a.std(axis=0)"
      ]
    },
    {
      "cell_type": "markdown",
      "metadata": {},
      "source": [
        "Examples\n\n#### Shapes of operands A, B and result:\n  A      (2d array):  5 x 4\n  B      (1d array):      1\n  Result (2d array):  5 x 4\n\n  A      (2d array):  5 x 4\n  B      (1d array):      4\n  Result (2d array):  5 x 4\n\n  A      (3d array):  15 x 3 x 5\n  B      (3d array):  15 x 1 x 5\n  Result (3d array):  15 x 3 x 5\n\n  A      (3d array):  15 x 3 x 5\n  B      (2d array):       3 x 5\n  Result (3d array):  15 x 3 x 5\n\n  A      (3d array):  15 x 3 x 5\n  B      (2d array):       3 x 1\n  Result (3d array):  15 x 3 x 5\n\n"
      ]
    },
    {
      "cell_type": "markdown",
      "metadata": {},
      "source": [
        "## Exercises\nGiven the array:\n\n"
      ]
    },
    {
      "cell_type": "code",
      "execution_count": null,
      "metadata": {
        "collapsed": false
      },
      "outputs": [],
      "source": [
        "X = np.random.randn(4, 2) # random normals in 4x2 array"
      ]
    },
    {
      "cell_type": "markdown",
      "metadata": {},
      "source": [
        "- For each column find the row index of the minimum value.\n\n- Write a function ``standardize(X)`` that return an array whose columns are centered and scaled (by std-dev).\n\n"
      ]
    }
  ],
  "metadata": {
    "kernelspec": {
      "display_name": "Python 3",
      "language": "python",
      "name": "python3"
    },
    "language_info": {
      "codemirror_mode": {
        "name": "ipython",
        "version": 3
      },
      "file_extension": ".py",
      "mimetype": "text/x-python",
      "name": "python",
      "nbconvert_exporter": "python",
      "pygments_lexer": "ipython3",
      "version": "3.13.2"
    }
  },
  "nbformat": 4,
  "nbformat_minor": 0
}