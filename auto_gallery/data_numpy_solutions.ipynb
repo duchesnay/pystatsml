{
  "cells": [
    {
      "cell_type": "markdown",
      "metadata": {},
      "source": [
        "\nCreated on Fri Jan 29 16:54:32 2016\n\n@author: ed203246\n"
      ]
    },
    {
      "cell_type": "code",
      "execution_count": null,
      "metadata": {
        "collapsed": false
      },
      "outputs": [],
      "source": [
        "import numpy as np\nX = np.random.randn(4, 2)\nprint(X)\n\n'''\n- For each column find the row indices of the minimiun value.\n'''\n[np.argmin(X[:, j])\n    for j in range(X.shape[1])]\n\nnp.argmin(X, axis=0)\n\n'''\n- Write a function ``scale(X)`` that return an array whose columns are centered and scaled (by std-dev).\n'''\n\ndef scale(X):\n    return (X - X.mean(axis=0)) / X.std(axis=0)\n\nX = np.random.randn(5, 3)\nXs = scale(X)\n\nXs.mean(axis=0)\nXs.std(axis=0)"
      ]
    }
  ],
  "metadata": {
    "kernelspec": {
      "display_name": "Python 3",
      "language": "python",
      "name": "python3"
    },
    "language_info": {
      "codemirror_mode": {
        "name": "ipython",
        "version": 3
      },
      "file_extension": ".py",
      "mimetype": "text/x-python",
      "name": "python",
      "nbconvert_exporter": "python",
      "pygments_lexer": "ipython3",
      "version": "3.13.2"
    }
  },
  "nbformat": 4,
  "nbformat_minor": 0
}