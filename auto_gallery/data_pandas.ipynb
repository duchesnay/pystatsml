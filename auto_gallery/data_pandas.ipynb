{
  "cells": [
    {
      "cell_type": "markdown",
      "metadata": {},
      "source": [
        "\n# Pandas: data manipulation\n\nIt is often said that 80% of data analysis is spent on the cleaning and\nsmall, but important, aspect of data manipulation and cleaning with Pandas.\n\n**Sources**:\n\n- Kevin Markham: https://github.com/justmarkham\n- Pandas doc: http://pandas.pydata.org/pandas-docs/stable/index.html\n\n**Data structures**\n\n- **Series** is a one-dimensional labeled array capable of holding any data\n  type (integers, strings, floating point numbers, Python objects, etc.).\n  The axis labels are collectively referred to as the index. The basic method\n  to create a Series is to call `pd.Series([1,3,5,np.nan,6,8])`\n\n- **DataFrame** is a 2-dimensional labeled data structure with columns of\n  potentially different types. You can think of it like a spreadsheet or SQL\n  table, or a dict of Series objects. It stems from the `R data.frame()`\n  object.\n"
      ]
    },
    {
      "cell_type": "code",
      "execution_count": null,
      "metadata": {
        "collapsed": false
      },
      "outputs": [],
      "source": [
        "import pandas as pd\nimport numpy as np"
      ]
    },
    {
      "cell_type": "markdown",
      "metadata": {},
      "source": [
        "## Create DataFrame\n\n"
      ]
    },
    {
      "cell_type": "code",
      "execution_count": null,
      "metadata": {
        "collapsed": false
      },
      "outputs": [],
      "source": [
        "columns = ['name', 'age', 'gender', 'job']\n\nuser1 = pd.DataFrame([['alice', 19, \"F\", \"student\"],\n                      ['john', 26, \"M\", \"student\"]],\n                     columns=columns)\n\nuser2 = pd.DataFrame([['eric', 22, \"M\", \"student\"],\n                      ['paul', 58, \"F\", \"manager\"]],\n                     columns=columns)\n\nuser3 = pd.DataFrame(dict(name=['peter', 'julie'],\n                          age=[33, 44], gender=['M', 'F'],\n                          job=['engineer', 'scientist']))\n\nprint(user3)"
      ]
    },
    {
      "cell_type": "markdown",
      "metadata": {},
      "source": [
        "## Combining DataFrames\n\n"
      ]
    },
    {
      "cell_type": "markdown",
      "metadata": {},
      "source": [
        "### Concatenate DataFrame\n\n"
      ]
    },
    {
      "cell_type": "markdown",
      "metadata": {},
      "source": [
        "Concatenate columns (axis = 1).\n\n"
      ]
    },
    {
      "cell_type": "code",
      "execution_count": null,
      "metadata": {
        "collapsed": false
      },
      "outputs": [],
      "source": [
        "height = pd.DataFrame(dict(height=[1.65, 1.8]))\nprint(user1, \"\\n\", height)\n\nprint(pd.concat([user1, height], axis=1))"
      ]
    },
    {
      "cell_type": "markdown",
      "metadata": {},
      "source": [
        "Concatenate rows (default: axis = 0)\n\n"
      ]
    },
    {
      "cell_type": "code",
      "execution_count": null,
      "metadata": {
        "collapsed": false
      },
      "outputs": [],
      "source": [
        "users = pd.concat([user1, user2, user3])\nprint(users)"
      ]
    },
    {
      "cell_type": "markdown",
      "metadata": {},
      "source": [
        "### Join DataFrame\n\n"
      ]
    },
    {
      "cell_type": "code",
      "execution_count": null,
      "metadata": {
        "collapsed": false
      },
      "outputs": [],
      "source": [
        "user4 = pd.DataFrame(dict(name=['alice', 'john', 'eric', 'julie'],\n                          height=[165, 180, 175, 171]))\nprint(user4)"
      ]
    },
    {
      "cell_type": "markdown",
      "metadata": {},
      "source": [
        "Use intersection of keys from both frames\n\n"
      ]
    },
    {
      "cell_type": "code",
      "execution_count": null,
      "metadata": {
        "collapsed": false
      },
      "outputs": [],
      "source": [
        "merge_inter = pd.merge(users, user4)\nprint(merge_inter)"
      ]
    },
    {
      "cell_type": "markdown",
      "metadata": {},
      "source": [
        "Use union of keys from both frames\n\n"
      ]
    },
    {
      "cell_type": "code",
      "execution_count": null,
      "metadata": {
        "collapsed": false
      },
      "outputs": [],
      "source": [
        "users = pd.merge(users, user4, on=\"name\", how='outer')\nprint(users)"
      ]
    },
    {
      "cell_type": "markdown",
      "metadata": {},
      "source": [
        "### Reshaping by pivoting\n\n\u201cUnpivots\u201d a DataFrame from wide format to long (stacked) format,\n\n"
      ]
    },
    {
      "cell_type": "code",
      "execution_count": null,
      "metadata": {
        "collapsed": false
      },
      "outputs": [],
      "source": [
        "staked = pd.melt(users, id_vars=\"name\", var_name=\"variable\", value_name=\"value\")\nprint(staked)"
      ]
    },
    {
      "cell_type": "markdown",
      "metadata": {},
      "source": [
        "\u201cpivots\u201d a DataFrame from long (stacked) format to wide format,\n\n"
      ]
    },
    {
      "cell_type": "code",
      "execution_count": null,
      "metadata": {
        "collapsed": false
      },
      "outputs": [],
      "source": [
        "wide = staked.pivot(index='name', columns='variable', values='value')\nprint(wide)"
      ]
    },
    {
      "cell_type": "markdown",
      "metadata": {},
      "source": [
        "## Summarizing\n\n\n"
      ]
    },
    {
      "cell_type": "code",
      "execution_count": null,
      "metadata": {
        "collapsed": false
      },
      "outputs": [],
      "source": [
        "users                   # print the first 30 and last 30 rows\ntype(users)             # DataFrame\nusers.head()            # print the first 5 rows\nusers.tail()            # print the last 5 rows"
      ]
    },
    {
      "cell_type": "markdown",
      "metadata": {},
      "source": [
        "Meta-information\n\n"
      ]
    },
    {
      "cell_type": "code",
      "execution_count": null,
      "metadata": {
        "collapsed": false
      },
      "outputs": [],
      "source": [
        "users.columns           # Column names\nusers.index             # Row name\"\nusers.shape             # number of rows and columns\nusers.dtypes            # data types of each column\nusers.values            # underlying numpy array"
      ]
    },
    {
      "cell_type": "markdown",
      "metadata": {},
      "source": [
        "## Columns selection\n\n"
      ]
    },
    {
      "cell_type": "code",
      "execution_count": null,
      "metadata": {
        "collapsed": false
      },
      "outputs": [],
      "source": [
        "print(users.columns)\n\nusers['gender']         # select one column\ntype(users['gender'])   # Series\nusers.gender            # select one column using the DataFrame\n\n# select multiple columns\nusers[['age', 'gender']]        # select two columns\nmy_cols = ['age', 'gender']     # or, create a list...\nusers[my_cols]                  # ...and use that list to select columns\ntype(users[my_cols])            # DataFrame"
      ]
    },
    {
      "cell_type": "markdown",
      "metadata": {},
      "source": [
        "`iloc` is strictly integer position based\n\n"
      ]
    },
    {
      "cell_type": "code",
      "execution_count": null,
      "metadata": {
        "collapsed": false
      },
      "outputs": [],
      "source": [
        "users.iloc[:, 2] # select third column"
      ]
    },
    {
      "cell_type": "markdown",
      "metadata": {},
      "source": [
        "## Rows selection (basic)\n\n"
      ]
    },
    {
      "cell_type": "markdown",
      "metadata": {},
      "source": [
        "`iloc` is strictly integer position based\n\n"
      ]
    },
    {
      "cell_type": "code",
      "execution_count": null,
      "metadata": {
        "collapsed": false
      },
      "outputs": [],
      "source": [
        "df = users.copy()\ndf.iloc[0]     # first row\ndf.iloc[0, :]  # first row\ndf.iloc[[0, 1], :]  # Two first row\n\ndf.iloc[0, 0]  # first item of first row\ndf.iloc[0, 0] = 55"
      ]
    },
    {
      "cell_type": "markdown",
      "metadata": {},
      "source": [
        "`loc` supports mixed integer and label based access.\n\n"
      ]
    },
    {
      "cell_type": "code",
      "execution_count": null,
      "metadata": {
        "collapsed": false
      },
      "outputs": [],
      "source": [
        "df.loc[0]         # first row\ndf.loc[0, :]      # first row\ndf.loc[0, \"age\"]  # age item of first row\ndf.loc[0, \"age\"] = 55"
      ]
    },
    {
      "cell_type": "markdown",
      "metadata": {},
      "source": [
        "Selection and index\n\nSelect females into a new DataFrame\n\n"
      ]
    },
    {
      "cell_type": "code",
      "execution_count": null,
      "metadata": {
        "collapsed": false
      },
      "outputs": [],
      "source": [
        "df = users[users.gender == \"F\"]\nprint(df)"
      ]
    },
    {
      "cell_type": "markdown",
      "metadata": {},
      "source": [
        "Reset index, useful when index is meaningless\n\n"
      ]
    },
    {
      "cell_type": "code",
      "execution_count": null,
      "metadata": {
        "collapsed": false
      },
      "outputs": [],
      "source": [
        "df = df.reset_index(drop=True)  # Watch the index\nprint(df)"
      ]
    },
    {
      "cell_type": "markdown",
      "metadata": {},
      "source": [
        "## Rows iteration\n\n"
      ]
    },
    {
      "cell_type": "code",
      "execution_count": null,
      "metadata": {
        "collapsed": false
      },
      "outputs": [],
      "source": [
        "df = users[:2].copy()"
      ]
    },
    {
      "cell_type": "markdown",
      "metadata": {},
      "source": [
        "`iterrows()`: slow, get series, **read-only**\n\n- Returns (index, Series) pairs.\n- Slow because iterrows boxes the data into a Series.\n- Retrieve fields with column name\n- **Don't modify something you are iterating over**. Depending on the data types,\n  the iterator returns a copy and not a view, and writing to it will have no\n  effect.\n\n"
      ]
    },
    {
      "cell_type": "code",
      "execution_count": null,
      "metadata": {
        "collapsed": false
      },
      "outputs": [],
      "source": [
        "for idx, row in df.iterrows():\n    print(row[\"name\"], row[\"age\"])"
      ]
    },
    {
      "cell_type": "markdown",
      "metadata": {},
      "source": [
        "`itertuples()`: fast, get namedtuples, **read-only**\n\n- Returns namedtuples of the values and which is generally faster than iterrows.\n- Fast, because itertuples does not box the data into a Series.\n- Retrieve fields with integer index starting from 0.\n- Names will be renamed to positional names if they are invalid Python\nidentifier\n\n"
      ]
    },
    {
      "cell_type": "code",
      "execution_count": null,
      "metadata": {
        "collapsed": false
      },
      "outputs": [],
      "source": [
        "for tup in df.itertuples():\n    print(tup[1], tup[2])"
      ]
    },
    {
      "cell_type": "markdown",
      "metadata": {},
      "source": [
        "iter using `loc[i, ...]`: read and **write**\n\n"
      ]
    },
    {
      "cell_type": "code",
      "execution_count": null,
      "metadata": {
        "collapsed": false
      },
      "outputs": [],
      "source": [
        "for i in range(df.shape[0]):\n    df.loc[i, \"age\"] *= 10  # df is modified"
      ]
    },
    {
      "cell_type": "markdown",
      "metadata": {},
      "source": [
        "## Rows selection (filtering)\n\n"
      ]
    },
    {
      "cell_type": "markdown",
      "metadata": {},
      "source": [
        "simple logical filtering on numerical values\n\n"
      ]
    },
    {
      "cell_type": "code",
      "execution_count": null,
      "metadata": {
        "collapsed": false
      },
      "outputs": [],
      "source": [
        "users[users.age < 20]        # only show users with age < 20\nyoung_bool = users.age < 20  # or, create a Series of booleans...\nyoung = users[young_bool]            # ...and use that Series to filter rows\nusers[users.age < 20].job    # select one column from the filtered results\nprint(young)"
      ]
    },
    {
      "cell_type": "markdown",
      "metadata": {},
      "source": [
        "simple logical filtering on categorial values\n\n"
      ]
    },
    {
      "cell_type": "code",
      "execution_count": null,
      "metadata": {
        "collapsed": false
      },
      "outputs": [],
      "source": [
        "users[users.job == 'student']\nusers[users.job.isin(['student', 'engineer'])]\nusers[users['job'].str.contains(\"stu|scient\")]"
      ]
    },
    {
      "cell_type": "markdown",
      "metadata": {},
      "source": [
        "Advanced logical filtering\n\n"
      ]
    },
    {
      "cell_type": "code",
      "execution_count": null,
      "metadata": {
        "collapsed": false
      },
      "outputs": [],
      "source": [
        "users[users.age < 20][['age', 'job']]            # select multiple columns\nusers[(users.age > 20) & (users.gender == 'M')]  # use multiple conditions"
      ]
    },
    {
      "cell_type": "markdown",
      "metadata": {},
      "source": [
        "## Sorting\n\n"
      ]
    },
    {
      "cell_type": "code",
      "execution_count": null,
      "metadata": {
        "collapsed": false
      },
      "outputs": [],
      "source": [
        "df = users.copy()\n\ndf.age.sort_values()                      # only works for a Series\ndf.sort_values(by='age')                  # sort rows by a specific column\ndf.sort_values(by='age', ascending=False) # use descending order instead\ndf.sort_values(by=['job', 'age'])         # sort by multiple columns\ndf.sort_values(by=['job', 'age'], inplace=True) # modify df\n\nprint(df)"
      ]
    },
    {
      "cell_type": "markdown",
      "metadata": {},
      "source": [
        "## Descriptive statistics\n\nSummarize all numeric columns\n\n"
      ]
    },
    {
      "cell_type": "code",
      "execution_count": null,
      "metadata": {
        "collapsed": false
      },
      "outputs": [],
      "source": [
        "print(df.describe())"
      ]
    },
    {
      "cell_type": "markdown",
      "metadata": {},
      "source": [
        "Summarize all columns\n\n"
      ]
    },
    {
      "cell_type": "code",
      "execution_count": null,
      "metadata": {
        "collapsed": false
      },
      "outputs": [],
      "source": [
        "print(df.describe(include='all'))\nprint(df.describe(include=['object']))  # limit to one (or more) types"
      ]
    },
    {
      "cell_type": "markdown",
      "metadata": {},
      "source": [
        "Categorical columns: count and proportions of values\n\n"
      ]
    },
    {
      "cell_type": "code",
      "execution_count": null,
      "metadata": {
        "collapsed": false
      },
      "outputs": [],
      "source": [
        "df['job'].value_counts()\ndf['job'].value_counts(normalize=True).round(2)"
      ]
    },
    {
      "cell_type": "markdown",
      "metadata": {},
      "source": [
        "Categorical columns: length of strings\n\n"
      ]
    },
    {
      "cell_type": "code",
      "execution_count": null,
      "metadata": {
        "collapsed": false
      },
      "outputs": [],
      "source": [
        "df['job'].str.len()"
      ]
    },
    {
      "cell_type": "markdown",
      "metadata": {},
      "source": [
        "Statistics per group (groupby)\n\n"
      ]
    },
    {
      "cell_type": "code",
      "execution_count": null,
      "metadata": {
        "collapsed": false
      },
      "outputs": [],
      "source": [
        "print(df.groupby(\"job\")[\"age\"].mean())\n# print(df.groupby(\"job\").describe(include='all'))"
      ]
    },
    {
      "cell_type": "markdown",
      "metadata": {},
      "source": [
        "Groupby in a loop\n\n"
      ]
    },
    {
      "cell_type": "code",
      "execution_count": null,
      "metadata": {
        "collapsed": false
      },
      "outputs": [],
      "source": [
        "for grp, data in df.groupby(\"job\"):\n    print(grp, data)"
      ]
    },
    {
      "cell_type": "markdown",
      "metadata": {},
      "source": [
        "## Quality check\n\n### Remove duplicate data\n\n"
      ]
    },
    {
      "cell_type": "code",
      "execution_count": null,
      "metadata": {
        "collapsed": false
      },
      "outputs": [],
      "source": [
        "df = users.copy()\n\n# Create a duplicate: Append the first at the end\ndf.loc[len(df.index)] = users.iloc[0]\n\nprint(df.duplicated())                 # Series of booleans\n# (True if a row is identical to a previous row)\ndf.duplicated().sum()                  # count of duplicates\ndf[df.duplicated()]                    # only show duplicates\ndf.age.duplicated()                    # check a single column for duplicates\ndf.duplicated(['age', 'gender']).sum() # specify columns for finding duplicates\ndf = df.drop_duplicates()              # drop duplicate rows"
      ]
    },
    {
      "cell_type": "markdown",
      "metadata": {},
      "source": [
        "### Missing data\n\n"
      ]
    },
    {
      "cell_type": "code",
      "execution_count": null,
      "metadata": {
        "collapsed": false
      },
      "outputs": [],
      "source": [
        "# Missing values are often just excluded\ndf = users.copy()\n\ndf.describe(include='all')\n\n# find missing values in a Series\ndf.height.isnull()           # True if NaN, False otherwise\ndf.height.notnull()          # False if NaN, True otherwise\ndf[df.height.notnull()]      # only show rows where age is not NaN\ndf.height.isnull().sum()     # count the missing values\n\n# find missing values in a DataFrame\ndf.isnull()             # DataFrame of booleans\ndf.isnull().sum()       # calculate the sum of each column"
      ]
    },
    {
      "cell_type": "markdown",
      "metadata": {},
      "source": [
        "Strategy 1: drop missing values\n\n"
      ]
    },
    {
      "cell_type": "code",
      "execution_count": null,
      "metadata": {
        "collapsed": false
      },
      "outputs": [],
      "source": [
        "df.dropna()             # drop a row if ANY values are missing\ndf.dropna(how='all')    # drop a row only if ALL values are missing"
      ]
    },
    {
      "cell_type": "markdown",
      "metadata": {},
      "source": [
        "Strategy 2: fill in missing values\n\n"
      ]
    },
    {
      "cell_type": "code",
      "execution_count": null,
      "metadata": {
        "collapsed": false
      },
      "outputs": [],
      "source": [
        "df.height.mean()\ndf = users.copy()\ndf.loc[df.height.isnull(), \"height\"] = df[\"height\"].mean()\n\nprint(df)"
      ]
    },
    {
      "cell_type": "markdown",
      "metadata": {},
      "source": [
        "## Operation: multiplication\n\nMultiplication of dataframe and other, element-wise\n\n"
      ]
    },
    {
      "cell_type": "code",
      "execution_count": null,
      "metadata": {
        "collapsed": false
      },
      "outputs": [],
      "source": [
        "df = users.dropna()\ndf.insert(0, 'random', np.arange(df.shape[0]))\nprint(df)\ndf[[\"age\", \"height\"]].multiply(df[\"random\"], axis=\"index\")"
      ]
    },
    {
      "cell_type": "markdown",
      "metadata": {},
      "source": [
        "## Renaming\n\nRename columns\n\n"
      ]
    },
    {
      "cell_type": "code",
      "execution_count": null,
      "metadata": {
        "collapsed": false
      },
      "outputs": [],
      "source": [
        "df = users.copy()\ndf.rename(columns={'name': 'NAME'})"
      ]
    },
    {
      "cell_type": "markdown",
      "metadata": {},
      "source": [
        "Rename values\n\n"
      ]
    },
    {
      "cell_type": "code",
      "execution_count": null,
      "metadata": {
        "collapsed": false
      },
      "outputs": [],
      "source": [
        "df.job = df.job.map({'student': 'etudiant', 'manager': 'manager',\n                     'engineer': 'ingenieur', 'scientist': 'scientific'})"
      ]
    },
    {
      "cell_type": "markdown",
      "metadata": {},
      "source": [
        "## Dealing with outliers\n\n"
      ]
    },
    {
      "cell_type": "code",
      "execution_count": null,
      "metadata": {
        "collapsed": false
      },
      "outputs": [],
      "source": [
        "size = pd.Series(np.random.normal(loc=175, size=20, scale=10))\n# Corrupt the first 3 measures\nsize[:3] += 500"
      ]
    },
    {
      "cell_type": "markdown",
      "metadata": {},
      "source": [
        "### Based on parametric statistics: use the mean\n\nAssume random variable follows the normal distribution\nExclude data outside 3 standard-deviations:\n- Probability that a sample lies within 1 sd: 68.27%\n- Probability that a sample lies within 3 sd: 99.73% (68.27 + 2 * 15.73)\n\n"
      ]
    },
    {
      "cell_type": "code",
      "execution_count": null,
      "metadata": {
        "collapsed": false
      },
      "outputs": [],
      "source": [
        "size_outlr_mean = size.copy()\nsize_outlr_mean[((size - size.mean()).abs() > 3 * size.std())] = size.mean()\nprint(size_outlr_mean.mean())"
      ]
    },
    {
      "cell_type": "markdown",
      "metadata": {},
      "source": [
        "### Based on non-parametric statistics: use the median\n\n[Median absolute deviation (MAD)](https://en.wikipedia.org/wiki/Median_absolute_deviation)\nis based on the median, is a robust non-parametric statistics.\n\n"
      ]
    },
    {
      "cell_type": "code",
      "execution_count": null,
      "metadata": {
        "collapsed": false
      },
      "outputs": [],
      "source": [
        "mad = 1.4826 * np.median(np.abs(size - size.median()))\nsize_outlr_mad = size.copy()\n\nsize_outlr_mad[((size - size.median()).abs() > 3 * mad)] = size.median()\nprint(size_outlr_mad.mean(), size_outlr_mad.median())"
      ]
    },
    {
      "cell_type": "markdown",
      "metadata": {},
      "source": [
        "## File I/O\n\n### csv\n\n"
      ]
    },
    {
      "cell_type": "code",
      "execution_count": null,
      "metadata": {
        "collapsed": false
      },
      "outputs": [],
      "source": [
        "import tempfile, os.path\n\ntmpdir = tempfile.gettempdir()\ncsv_filename = os.path.join(tmpdir, \"users.csv\")\nusers.to_csv(csv_filename, index=False)\nother = pd.read_csv(csv_filename)"
      ]
    },
    {
      "cell_type": "markdown",
      "metadata": {},
      "source": [
        "### Read csv from url\n\n"
      ]
    },
    {
      "cell_type": "code",
      "execution_count": null,
      "metadata": {
        "collapsed": false
      },
      "outputs": [],
      "source": [
        "url = 'https://github.com/duchesnay/pystatsml/raw/master/datasets/salary_table.csv'\nsalary = pd.read_csv(url)"
      ]
    },
    {
      "cell_type": "markdown",
      "metadata": {},
      "source": [
        "### Excel\n\nPackage `openpyxl` is required. To install type:\n\n::\n\n   conda install -c conda-forge openpyxl\n\n"
      ]
    },
    {
      "cell_type": "code",
      "execution_count": null,
      "metadata": {
        "collapsed": false
      },
      "outputs": [],
      "source": [
        "xls_filename = os.path.join(tmpdir, \"users.xlsx\")\n\n# Write\nusers.to_excel(xls_filename, sheet_name='users', index=False)\n\n# Read\npd.read_excel(xls_filename, sheet_name='users')\n\n# Multiple sheets\nwith pd.ExcelWriter(xls_filename) as writer:\n    users.to_excel(writer, sheet_name='users', index=False)\n    df.to_excel(writer, sheet_name='salary', index=False)\n\npd.read_excel(xls_filename, sheet_name='users')\npd.read_excel(xls_filename, sheet_name='salary')"
      ]
    },
    {
      "cell_type": "markdown",
      "metadata": {},
      "source": [
        "### SQL (SQLite)\n\n"
      ]
    },
    {
      "cell_type": "code",
      "execution_count": null,
      "metadata": {
        "collapsed": false
      },
      "outputs": [],
      "source": [
        "import pandas as pd\nimport sqlite3\n\ndb_filename = os.path.join(tmpdir, \"users.db\")"
      ]
    },
    {
      "cell_type": "markdown",
      "metadata": {},
      "source": [
        "Connect\n\n"
      ]
    },
    {
      "cell_type": "code",
      "execution_count": null,
      "metadata": {
        "collapsed": false
      },
      "outputs": [],
      "source": [
        "conn = sqlite3.connect(db_filename)"
      ]
    },
    {
      "cell_type": "markdown",
      "metadata": {},
      "source": [
        "Creating tables with pandas\n\n"
      ]
    },
    {
      "cell_type": "code",
      "execution_count": null,
      "metadata": {
        "collapsed": false
      },
      "outputs": [],
      "source": [
        "url = 'https://github.com/duchesnay/pystatsml/raw/master/datasets/salary_table.csv'\nsalary = pd.read_csv(url)\n\nsalary.to_sql(\"salary\", conn, if_exists=\"replace\")"
      ]
    },
    {
      "cell_type": "markdown",
      "metadata": {},
      "source": [
        "Push modifications\n\n"
      ]
    },
    {
      "cell_type": "code",
      "execution_count": null,
      "metadata": {
        "collapsed": false
      },
      "outputs": [],
      "source": [
        "cur = conn.cursor()\nvalues = (100, 14000, 5,  'Bachelor', 'N')\ncur.execute(\"insert into salary values (?, ?, ?, ?, ?)\", values)\nconn.commit()"
      ]
    },
    {
      "cell_type": "markdown",
      "metadata": {},
      "source": [
        "Reading results into a pandas DataFrame\n\n"
      ]
    },
    {
      "cell_type": "code",
      "execution_count": null,
      "metadata": {
        "collapsed": false
      },
      "outputs": [],
      "source": [
        "salary_sql = pd.read_sql_query(\"select * from salary;\", conn)\nprint(salary_sql.head())\n\npd.read_sql_query(\"select * from salary;\", conn).tail()\npd.read_sql_query('select * from salary where salary>25000;', conn)\npd.read_sql_query('select * from salary where experience=16;', conn)\npd.read_sql_query('select * from salary where education=\"Master\";', conn)"
      ]
    },
    {
      "cell_type": "markdown",
      "metadata": {},
      "source": [
        "## Exercises\n\n### Data Frame\n\n1. Read the iris dataset at 'https://github.com/duchesnay/pystatsml/raw/master/datasets/iris.csv'\n\n2. Print column names\n\n3. Get numerical columns\n\n4. For each species compute the mean of numerical columns and store it in  a ``stats`` table like:\n\n::\n\n          species  sepal_length  sepal_width  petal_length  petal_width\n    0      setosa         5.006        3.428         1.462        0.246\n    1  versicolor         5.936        2.770         4.260        1.326\n    2   virginica         6.588        2.974         5.552        2.026\n\n\n### Missing data\n\nAdd some missing data to the previous table ``users``:\n\n"
      ]
    },
    {
      "cell_type": "code",
      "execution_count": null,
      "metadata": {
        "collapsed": false
      },
      "outputs": [],
      "source": [
        "df = users.copy()\ndf.loc[[0, 2], \"age\"] = None\ndf.loc[[1, 3], \"gender\"] = None"
      ]
    },
    {
      "cell_type": "markdown",
      "metadata": {},
      "source": [
        "1. Write a function ``fillmissing_with_mean(df)`` that fill all missing\nvalue of numerical column with the mean of the current columns.\n\n2. Save the original users and \"imputed\" frame in a single excel file\n\"users.xlsx\" with 2 sheets: original, imputed.\n\n"
      ]
    }
  ],
  "metadata": {
    "kernelspec": {
      "display_name": "Python 3",
      "language": "python",
      "name": "python3"
    },
    "language_info": {
      "codemirror_mode": {
        "name": "ipython",
        "version": 3
      },
      "file_extension": ".py",
      "mimetype": "text/x-python",
      "name": "python",
      "nbconvert_exporter": "python",
      "pygments_lexer": "ipython3",
      "version": "3.13.2"
    }
  },
  "nbformat": 4,
  "nbformat_minor": 0
}