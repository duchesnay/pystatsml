{
  "cells": [
    {
      "cell_type": "markdown",
      "metadata": {},
      "source": [
        "\nSource  [Kevin Markham](https://github.com/justmarkham/python-reference)\n"
      ]
    },
    {
      "cell_type": "markdown",
      "metadata": {},
      "source": [
        "# Import libraries\n\n\n"
      ]
    },
    {
      "cell_type": "markdown",
      "metadata": {},
      "source": [
        "'generic import' of math module\n\n"
      ]
    },
    {
      "cell_type": "code",
      "execution_count": null,
      "metadata": {
        "collapsed": false
      },
      "outputs": [],
      "source": [
        "import math\nmath.sqrt(25)"
      ]
    },
    {
      "cell_type": "markdown",
      "metadata": {},
      "source": [
        "import a function\n\n"
      ]
    },
    {
      "cell_type": "code",
      "execution_count": null,
      "metadata": {
        "collapsed": false
      },
      "outputs": [],
      "source": [
        "from math import sqrt\nsqrt(25)    # no longer have to reference the module"
      ]
    },
    {
      "cell_type": "markdown",
      "metadata": {},
      "source": [
        "import multiple functions at once\n\n"
      ]
    },
    {
      "cell_type": "code",
      "execution_count": null,
      "metadata": {
        "collapsed": false
      },
      "outputs": [],
      "source": [
        "from math import sqrt, exp"
      ]
    },
    {
      "cell_type": "markdown",
      "metadata": {},
      "source": [
        "import all functions in a module (strongly discouraged)\n\n::\n\nfrom os import *\n\n"
      ]
    },
    {
      "cell_type": "markdown",
      "metadata": {},
      "source": [
        "define an alias\n\n"
      ]
    },
    {
      "cell_type": "code",
      "execution_count": null,
      "metadata": {
        "collapsed": false
      },
      "outputs": [],
      "source": [
        "import nltk\nimport numpy as np\nnp.sqrt(9)"
      ]
    },
    {
      "cell_type": "markdown",
      "metadata": {},
      "source": [
        "show all functions in math module\n\n"
      ]
    },
    {
      "cell_type": "code",
      "execution_count": null,
      "metadata": {
        "collapsed": false
      },
      "outputs": [],
      "source": [
        "content = dir(math)"
      ]
    },
    {
      "cell_type": "markdown",
      "metadata": {},
      "source": [
        "# Basic operations\n\n\n"
      ]
    },
    {
      "cell_type": "markdown",
      "metadata": {},
      "source": [
        "Numbers\n\n"
      ]
    },
    {
      "cell_type": "code",
      "execution_count": null,
      "metadata": {
        "collapsed": false
      },
      "outputs": [],
      "source": [
        "10 + 4          # add (returns 14)\n10 - 4          # subtract (returns 6)\n10 * 4          # multiply (returns 40)\n10 ** 4         # exponent (returns 10000)\n10 / 4          # divide (returns 2 because both types are 'int')\n10 / float(4)   # divide (returns 2.5)\n5 % 4           # modulo (returns 1) - also known as the remainder\n10 / 4          # true division (returns 2.5)\n10 // 4         # floor division (returns 2)"
      ]
    },
    {
      "cell_type": "markdown",
      "metadata": {},
      "source": [
        "Boolean operations\n\ncomparisons (these return True)\n\n"
      ]
    },
    {
      "cell_type": "code",
      "execution_count": null,
      "metadata": {
        "collapsed": false
      },
      "outputs": [],
      "source": [
        "5 > 3\n5 >= 3\n5 != 3\n5 == 5"
      ]
    },
    {
      "cell_type": "markdown",
      "metadata": {},
      "source": [
        "Boolean operations (these return True)\n\n"
      ]
    },
    {
      "cell_type": "code",
      "execution_count": null,
      "metadata": {
        "collapsed": false
      },
      "outputs": [],
      "source": [
        "5 > 3 and 6 > 3\n5 > 3 or 5 < 3\nnot False\nFalse or not False and True     # evaluation order: not, and, or"
      ]
    },
    {
      "cell_type": "markdown",
      "metadata": {},
      "source": [
        "# Data types\n\nDetermine the type of an object\n\n"
      ]
    },
    {
      "cell_type": "code",
      "execution_count": null,
      "metadata": {
        "collapsed": false
      },
      "outputs": [],
      "source": [
        "type(2)         # returns 'int'\ntype(2.0)       # returns 'float'\ntype('two')     # returns 'str'\ntype(True)      # returns 'bool'\ntype(None)      # returns 'NoneType'"
      ]
    },
    {
      "cell_type": "markdown",
      "metadata": {},
      "source": [
        "Check if an object is of a given type\n\n"
      ]
    },
    {
      "cell_type": "code",
      "execution_count": null,
      "metadata": {
        "collapsed": false
      },
      "outputs": [],
      "source": [
        "isinstance(2.0, int)            # returns False\nisinstance(2.0, (int, float))   # returns True"
      ]
    },
    {
      "cell_type": "markdown",
      "metadata": {},
      "source": [
        "Convert an object to a given type\n\n"
      ]
    },
    {
      "cell_type": "code",
      "execution_count": null,
      "metadata": {
        "collapsed": false
      },
      "outputs": [],
      "source": [
        "float(2)\nint(2.9)\nstr(2.9)"
      ]
    },
    {
      "cell_type": "markdown",
      "metadata": {},
      "source": [
        "zero, None, and empty containers are converted to False\n\n"
      ]
    },
    {
      "cell_type": "code",
      "execution_count": null,
      "metadata": {
        "collapsed": false
      },
      "outputs": [],
      "source": [
        "bool(0)\nbool(None)\nbool('')    # empty string\nbool([])    # empty list\nbool({})    # empty dictionary"
      ]
    },
    {
      "cell_type": "markdown",
      "metadata": {},
      "source": [
        "Non-empty containers and non-zeros are converted to True\n\n"
      ]
    },
    {
      "cell_type": "code",
      "execution_count": null,
      "metadata": {
        "collapsed": false
      },
      "outputs": [],
      "source": [
        "bool(2)\nbool('two')\nbool([2])"
      ]
    },
    {
      "cell_type": "markdown",
      "metadata": {},
      "source": [
        "## Lists\n\nDifferent objects categorized along a certain ordered sequence, lists\nare ordered, iterable, mutable (adding or removing objects changes the\nlist size), can contain multiple data types.\n\nCreation\n\nEmpty list (two ways)\n\n"
      ]
    },
    {
      "cell_type": "code",
      "execution_count": null,
      "metadata": {
        "collapsed": false
      },
      "outputs": [],
      "source": [
        "empty_list = []\nempty_list = list()"
      ]
    },
    {
      "cell_type": "markdown",
      "metadata": {},
      "source": [
        "List with values\n\n"
      ]
    },
    {
      "cell_type": "code",
      "execution_count": null,
      "metadata": {
        "collapsed": false
      },
      "outputs": [],
      "source": [
        "simpsons = ['homer', 'marge', 'bart']"
      ]
    },
    {
      "cell_type": "markdown",
      "metadata": {},
      "source": [
        "Examine a list\n\n"
      ]
    },
    {
      "cell_type": "code",
      "execution_count": null,
      "metadata": {
        "collapsed": false
      },
      "outputs": [],
      "source": [
        "simpsons[0]     # print element 0 ('homer')\nlen(simpsons)   # returns the length (3)"
      ]
    },
    {
      "cell_type": "markdown",
      "metadata": {},
      "source": [
        "Modify a list (does not return the list)\n\nAppend\n\n"
      ]
    },
    {
      "cell_type": "code",
      "execution_count": null,
      "metadata": {
        "collapsed": false
      },
      "outputs": [],
      "source": [
        "simpsons.append('lisa')                 # append element to end\nsimpsons.extend(['itchy', 'scratchy'])  # append multiple elements to end\n# insert element at index 0 (shifts everything right)"
      ]
    },
    {
      "cell_type": "markdown",
      "metadata": {},
      "source": [
        "Insert\n\n"
      ]
    },
    {
      "cell_type": "code",
      "execution_count": null,
      "metadata": {
        "collapsed": false
      },
      "outputs": [],
      "source": [
        "simpsons.insert(0, 'maggie')\n# searches for first instance and removes it"
      ]
    },
    {
      "cell_type": "markdown",
      "metadata": {},
      "source": [
        "Remove\n\n"
      ]
    },
    {
      "cell_type": "code",
      "execution_count": null,
      "metadata": {
        "collapsed": false
      },
      "outputs": [],
      "source": [
        "simpsons.remove('bart')\nsimpsons.pop(0)                         # removes element 0 and returns it\n# removes element 0 (does not return it)\ndel simpsons[0]\nsimpsons[0] = 'krusty'                  # replace element 0"
      ]
    },
    {
      "cell_type": "markdown",
      "metadata": {},
      "source": [
        "Concatenate lists (slower than 'extend' method)\n\n"
      ]
    },
    {
      "cell_type": "code",
      "execution_count": null,
      "metadata": {
        "collapsed": false
      },
      "outputs": [],
      "source": [
        "neighbors = simpsons + ['ned', 'rod', 'todd']"
      ]
    },
    {
      "cell_type": "markdown",
      "metadata": {},
      "source": [
        "Replicate\n\n"
      ]
    },
    {
      "cell_type": "code",
      "execution_count": null,
      "metadata": {
        "collapsed": false
      },
      "outputs": [],
      "source": [
        "rep = [\"a\"] * 2 + [\"b\"] * 3"
      ]
    },
    {
      "cell_type": "markdown",
      "metadata": {},
      "source": [
        "Find elements in a list\n\n"
      ]
    },
    {
      "cell_type": "code",
      "execution_count": null,
      "metadata": {
        "collapsed": false
      },
      "outputs": [],
      "source": [
        "'lisa' in simpsons\nsimpsons.count('lisa')      # counts the number of instances\nsimpsons.index('itchy')     # returns index of first instance"
      ]
    },
    {
      "cell_type": "markdown",
      "metadata": {},
      "source": [
        "List slicing (selection) ``[start:end:stride]``\n\n"
      ]
    },
    {
      "cell_type": "code",
      "execution_count": null,
      "metadata": {
        "collapsed": false
      },
      "outputs": [],
      "source": [
        "weekdays = ['mon', 'tues', 'wed', 'thurs', 'fri']\nweekdays[0]         # element 0\nweekdays[0:3]       # elements 0, 1, 2\nweekdays[:3]        # elements 0, 1, 2\nweekdays[3:]        # elements 3, 4\nweekdays[-1]        # last element (element 4)\nweekdays[::2]       # every 2nd element (0, 2, 4)"
      ]
    },
    {
      "cell_type": "markdown",
      "metadata": {},
      "source": [
        "Reverse list\n\n"
      ]
    },
    {
      "cell_type": "code",
      "execution_count": null,
      "metadata": {
        "collapsed": false
      },
      "outputs": [],
      "source": [
        "weekdays[::-1]      # backwards (4, 3, 2, 1, 0)\n# alternative method for returning the list backwards\nlist(reversed(weekdays))"
      ]
    },
    {
      "cell_type": "markdown",
      "metadata": {},
      "source": [
        "Sort list\n\nSort a list in place (modifies but does not return the list)\n\n"
      ]
    },
    {
      "cell_type": "code",
      "execution_count": null,
      "metadata": {
        "collapsed": false
      },
      "outputs": [],
      "source": [
        "simpsons.sort()\nsimpsons.sort(reverse=True)     # sort in reverse\nsimpsons.sort(key=len)          # sort by a key"
      ]
    },
    {
      "cell_type": "markdown",
      "metadata": {},
      "source": [
        "Return a sorted list (but does not modify the original list)\n\n"
      ]
    },
    {
      "cell_type": "code",
      "execution_count": null,
      "metadata": {
        "collapsed": false
      },
      "outputs": [],
      "source": [
        "sorted(simpsons)\nsorted(simpsons, reverse=True)\nsorted(simpsons, key=len)"
      ]
    },
    {
      "cell_type": "markdown",
      "metadata": {},
      "source": [
        "## Tuples\n\nLike lists, but their size cannot change: ordered, iterable, immutable,\ncan contain multiple data types\n\n\n"
      ]
    },
    {
      "cell_type": "code",
      "execution_count": null,
      "metadata": {
        "collapsed": false
      },
      "outputs": [],
      "source": [
        "# create a tuple\ndigits = (0, 1, 'two')          # create a tuple directly\ndigits = tuple([0, 1, 'two'])   # create a tuple from a list\n# trailing comma is required to indicate it's a tuple\nzero = (0,)\n\n# examine a tuple\ndigits[2]           # returns 'two'\nlen(digits)         # returns 3\ndigits.count(0)     # counts the number of instances of that value (1)\ndigits.index(1)     # returns the index of the first instance of that value (1)\n\n# elements of a tuple cannot be modified\n# digits[2] = 2       # throws an error\n\n# concatenate tuples\ndigits = digits + (3, 4)\n\n# create a single tuple with elements repeated (also works with lists)\n(3, 4) * 2          # returns (3, 4, 3, 4)\n\n# tuple unpacking\nbart = ('male', 10, 'simpson')  # create a tuple"
      ]
    },
    {
      "cell_type": "markdown",
      "metadata": {},
      "source": [
        "## Strings\n\nA sequence of characters, they are iterable, immutable\n\n\n"
      ]
    },
    {
      "cell_type": "code",
      "execution_count": null,
      "metadata": {
        "collapsed": false
      },
      "outputs": [],
      "source": [
        "# create a string\ns = str(42)         # convert another data type into a string\ns = 'I like you'\n\n# examine a string\ns[0]                # returns 'I'\nlen(s)              # returns 10\n\n# string slicing like lists\ns[:6]               # returns 'I like'\ns[7:]               # returns 'you'\ns[-1]               # returns 'u'\n\n# basic string methods (does not modify the original string)\ns.lower()           # returns 'i like you'\ns.upper()           # returns 'I LIKE YOU'\ns.startswith('I')   # returns True\ns.endswith('you')   # returns True\ns.isdigit()         # returns False (True if every character is a digit)\ns.find('like')      # returns index of first occurrence\ns.find('hate')      # returns -1 since not found\ns.replace('like', 'love')    # replaces all instances of 'like' with 'love'\n\n# split a string into a list of substrings separated by a delimiter\ns.split(' ')        # returns ['I','like','you']\ns.split()           # same thing\ns2 = 'a, an, the'\ns2.split(',')       # returns ['a',' an',' the']\n\n# join a list of strings into one string using a delimiter\nstooges = ['larry', 'curly', 'moe']\n' '.join(stooges)   # returns 'larry curly moe'\n\n# concatenate strings\ns3 = 'The meaning of life is'\ns4 = '42'\ns3 + ' ' + s4       # returns 'The meaning of life is 42'\ns3 + ' ' + str(42)  # same thing\n\n# remove whitespace from start and end of a string\ns5 = '  ham and cheese  '\ns5.strip()          # returns 'ham and cheese'"
      ]
    },
    {
      "cell_type": "markdown",
      "metadata": {},
      "source": [
        "Strings formatting\n\n"
      ]
    },
    {
      "cell_type": "code",
      "execution_count": null,
      "metadata": {
        "collapsed": false
      },
      "outputs": [],
      "source": [
        "# string substitutions: all of these return 'raining cats and dogs'\n'raining %s and %s' % ('cats', 'dogs')                       # old way\n'raining {} and {}'.format('cats', 'dogs')                   # new way\n'raining {arg1} and {arg2}'.format(arg1='cats', arg2='dogs')  # named arguments\n\n# String formatting\n# See: https://realpython.com/python-formatted-output/\n# Old method\nprint('6 %s' % 'bananas')\nprint('%d %s cost $%.1f' % (6, 'bananas', 3.14159))\n\n# Format method positional arguments\nprint('{0} {1} cost ${2:.1f}'.format(6, 'bananas', 3.14159))"
      ]
    },
    {
      "cell_type": "markdown",
      "metadata": {},
      "source": [
        "[Strings encoding](https://towardsdatascience.com/byte-string-unicode-string-raw-string-a-guide-to-all-strings-in-python-684c4c4960ba)\n\n"
      ]
    },
    {
      "cell_type": "markdown",
      "metadata": {},
      "source": [
        "Normal strings allow for escaped characters. The default strings use unicode string (u string)\n\n\n"
      ]
    },
    {
      "cell_type": "code",
      "execution_count": null,
      "metadata": {
        "collapsed": false
      },
      "outputs": [],
      "source": [
        "print('first line\\nsecond line')  # or\nprint(u'first line\\nsecond line')\nprint('first line\\nsecond line' == u'first line\\nsecond line')"
      ]
    },
    {
      "cell_type": "markdown",
      "metadata": {},
      "source": [
        "Raw strings treat backslashes as literal characters\n\n\n"
      ]
    },
    {
      "cell_type": "code",
      "execution_count": null,
      "metadata": {
        "collapsed": false
      },
      "outputs": [],
      "source": [
        "print(r'first line\\nfirst line')\nprint('first line\\nsecond line' == r'first line\\nsecond line')"
      ]
    },
    {
      "cell_type": "markdown",
      "metadata": {},
      "source": [
        "Sequence of bytes are not strings, should be decoded before some operations\n\n\n"
      ]
    },
    {
      "cell_type": "code",
      "execution_count": null,
      "metadata": {
        "collapsed": false
      },
      "outputs": [],
      "source": [
        "s = b'first line\\nsecond line'\nprint(s)\nprint(s.decode('utf-8').split())"
      ]
    },
    {
      "cell_type": "markdown",
      "metadata": {},
      "source": [
        "## Dictionaries\n\n**Dictionary is the must-known data structure**.\nDictionaries are structures which can contain multiple data types, and\nis ordered with key-value pairs: for each (unique) key, the dictionary\noutputs one value. Keys can be strings, numbers, or tuples, while the\ncorresponding values can be any Python object. Dictionaries are:\nunordered, iterable, mutable\n\n\n"
      ]
    },
    {
      "cell_type": "markdown",
      "metadata": {},
      "source": [
        "Creation\n\n"
      ]
    },
    {
      "cell_type": "code",
      "execution_count": null,
      "metadata": {
        "collapsed": false
      },
      "outputs": [],
      "source": [
        "# Empty dictionary (two ways)\nempty_dict = {}\nempty_dict = dict()\n\nsimpsons_roles_dict = {'Homer': 'father', 'Marge': 'mother',\n                       'Bart': 'son', 'Lisa': 'daughter', 'Maggie': 'daughter'}\n\nsimpsons_roles_dict = dict(Homer='father', Marge='mother',\n                           Bart='son', Lisa='daughter', Maggie='daughter')\n\nsimpsons_roles_dict = dict([('Homer', 'father'), ('Marge', 'mother'),\n                            ('Bart', 'son'), ('Lisa', 'daughter'), ('Maggie', 'daughter')])\n\nprint(simpsons_roles_dict)"
      ]
    },
    {
      "cell_type": "markdown",
      "metadata": {},
      "source": [
        "Access\n\n"
      ]
    },
    {
      "cell_type": "code",
      "execution_count": null,
      "metadata": {
        "collapsed": false
      },
      "outputs": [],
      "source": [
        "# examine a dictionary\nsimpsons_roles_dict['Homer']   # 'father'\nlen(simpsons_roles_dict)       # 5\nsimpsons_roles_dict.keys()     # list: ['Homer', 'Marge', ...]\nsimpsons_roles_dict.values()   # list:['father', 'mother', ...]\nsimpsons_roles_dict.items()    # list of tuples: [('Homer', 'father') ...]\n'Homer' in simpsons_roles_dict  # returns True\n'John' in simpsons_roles_dict  # returns False (only checks keys)\n\n# accessing values more safely with 'get'\nsimpsons_roles_dict['Homer']                       # returns 'father'\nsimpsons_roles_dict.get('Homer')                   # same thing\n\ntry:\n    simpsons_roles_dict['John']               # throws an error\nexcept KeyError as e:\n    print(\"Error\", e)\n\nsimpsons_roles_dict.get('John')               # None\n# returns 'not found' (the default)\nsimpsons_roles_dict.get('John', 'not found')"
      ]
    },
    {
      "cell_type": "markdown",
      "metadata": {},
      "source": [
        "Modify a dictionary (does not return the dictionary)\n\n"
      ]
    },
    {
      "cell_type": "code",
      "execution_count": null,
      "metadata": {
        "collapsed": false
      },
      "outputs": [],
      "source": [
        "simpsons_roles_dict['Snowball'] = 'dog'              # add a new entry\nsimpsons_roles_dict['Snowball'] = 'cat'              # add a new entry\nsimpsons_roles_dict['Snoop'] = 'dog'                 # edit an existing entry\ndel simpsons_roles_dict['Snowball']                  # delete an entry\n\nsimpsons_roles_dict.pop('Snoop')  # removes and returns ('dog')\nsimpsons_roles_dict.update(\n    {'Mona': 'grandma', 'Abraham': 'grandpa'})  # add multiple entries\nprint(simpsons_roles_dict)"
      ]
    },
    {
      "cell_type": "markdown",
      "metadata": {},
      "source": [
        "Intersecting two dictionaries\n\n"
      ]
    },
    {
      "cell_type": "code",
      "execution_count": null,
      "metadata": {
        "collapsed": false
      },
      "outputs": [],
      "source": [
        "simpsons_ages_dict = {'Homer': 45, 'Marge': 43,\n                      'Bart': 11, 'Lisa': 10, 'Maggie': 1}\n\nprint(simpsons_roles_dict.keys() & simpsons_ages_dict.keys())\n\ninter = simpsons_roles_dict.keys() & simpsons_ages_dict.keys()\n\nl = list()\n\nfor n in inter:\n    l.append([n, simpsons_ages_dict[n], simpsons_roles_dict[n]])\n    \n[[n, simpsons_ages_dict[n], simpsons_roles_dict[n]] for n in inter]"
      ]
    },
    {
      "cell_type": "markdown",
      "metadata": {},
      "source": [
        "String substitution using a dictionary: syntax ``%(key)format``, where ``format``\nis the formatting character e.g. ``s`` for string.\n\n"
      ]
    },
    {
      "cell_type": "code",
      "execution_count": null,
      "metadata": {
        "collapsed": false
      },
      "outputs": [],
      "source": [
        "print('Homer is the %(Homer)s of the family' % simpsons_roles_dict)"
      ]
    },
    {
      "cell_type": "markdown",
      "metadata": {},
      "source": [
        "## Sets\n\nLike dictionaries, but with unique keys only (no corresponding values).\nThey are: unordered, iterable, mutable, can contain multiple data types\nmade up of unique elements (strings, numbers, or tuples)\n\n\n"
      ]
    },
    {
      "cell_type": "markdown",
      "metadata": {},
      "source": [
        "Creation\n\n"
      ]
    },
    {
      "cell_type": "code",
      "execution_count": null,
      "metadata": {
        "collapsed": false
      },
      "outputs": [],
      "source": [
        "# create an empty set\nempty_set = set()\n\n# create a set\nlanguages = {'python', 'r', 'java'}         # create a set directly\nsnakes = set(['cobra', 'viper', 'python'])  # create a set from a list"
      ]
    },
    {
      "cell_type": "markdown",
      "metadata": {},
      "source": [
        "Examine a set\n\n"
      ]
    },
    {
      "cell_type": "code",
      "execution_count": null,
      "metadata": {
        "collapsed": false
      },
      "outputs": [],
      "source": [
        "len(languages)              # 3\n'python' in languages       # True"
      ]
    },
    {
      "cell_type": "markdown",
      "metadata": {},
      "source": [
        "Set operations\n\n"
      ]
    },
    {
      "cell_type": "code",
      "execution_count": null,
      "metadata": {
        "collapsed": false
      },
      "outputs": [],
      "source": [
        "languages & snakes          # intersection: {'python'}\nlanguages | snakes          # union: {'cobra', 'r', 'java', 'viper', 'python'}\nlanguages - snakes          # set difference: {'r', 'java'}\nsnakes - languages          # set difference: {'cobra', 'viper'}\n\n# modify a set (does not return the set)\nlanguages.add('sql')        # add a new element\n# try to add an existing element (ignored, no error)\nlanguages.add('r')\nlanguages.remove('java')    # remove an element\n\ntry:\n    languages.remove('c')   # remove a non-existing element: throws an error\nexcept KeyError as e:\n    print(\"Error\", e)\n\n# removes an element if present, but ignored otherwise\nlanguages.discard('c')\nlanguages.pop()             # removes and returns an arbitrary element\nlanguages.clear()           # removes all elements\nlanguages.update('go', 'spark')  # add multiple elements (list or set)\n\n# get a sorted list of unique elements from a list\nsorted(set([9, 0, 2, 1, 0]))    # returns [0, 1, 2, 9]"
      ]
    },
    {
      "cell_type": "markdown",
      "metadata": {},
      "source": [
        "# Execution control statements\n\n\n"
      ]
    },
    {
      "cell_type": "markdown",
      "metadata": {},
      "source": [
        "## Conditional statements\n\n"
      ]
    },
    {
      "cell_type": "markdown",
      "metadata": {},
      "source": [
        "if statement\n\n"
      ]
    },
    {
      "cell_type": "code",
      "execution_count": null,
      "metadata": {
        "collapsed": false
      },
      "outputs": [],
      "source": [
        "x = 3\nif x > 0:\n    print('positive')"
      ]
    },
    {
      "cell_type": "markdown",
      "metadata": {},
      "source": [
        "if/else statement\n\n"
      ]
    },
    {
      "cell_type": "code",
      "execution_count": null,
      "metadata": {
        "collapsed": false
      },
      "outputs": [],
      "source": [
        "if x > 0:\n    print('positive')\nelse:\n    print('zero or negative')"
      ]
    },
    {
      "cell_type": "markdown",
      "metadata": {},
      "source": [
        "Single-line if/else statement, known as a 'ternary operator'\n\n"
      ]
    },
    {
      "cell_type": "code",
      "execution_count": null,
      "metadata": {
        "collapsed": false
      },
      "outputs": [],
      "source": [
        "sign = 'positive' if x > 0 else 'zero or negative'\nprint(sign)"
      ]
    },
    {
      "cell_type": "markdown",
      "metadata": {},
      "source": [
        "if/elif/else statement\n\n"
      ]
    },
    {
      "cell_type": "code",
      "execution_count": null,
      "metadata": {
        "collapsed": false
      },
      "outputs": [],
      "source": [
        "if x > 0:\n    print('positive')\nelif x == 0:\n    print('zero')\nelse:\n    print('negative')"
      ]
    },
    {
      "cell_type": "markdown",
      "metadata": {},
      "source": [
        "## Loops\n\nLoops are a set of instructions which repeat until termination\nconditions are met. This can include iterating through all values in an\nobject, go through a range of values, etc\n\n\n"
      ]
    },
    {
      "cell_type": "code",
      "execution_count": null,
      "metadata": {
        "collapsed": false
      },
      "outputs": [],
      "source": [
        "# range returns a list of integers\n# returns [0, 1, 2]: includes first value but excludes second value\nrange(0, 3)\nrange(3)        # same thing: starting at zero is the default\nrange(0, 5, 2)  # returns [0, 2, 4]: third argument specifies the 'stride'"
      ]
    },
    {
      "cell_type": "markdown",
      "metadata": {},
      "source": [
        "Iterate on list values\n\n"
      ]
    },
    {
      "cell_type": "code",
      "execution_count": null,
      "metadata": {
        "collapsed": false
      },
      "outputs": [],
      "source": [
        "fruits = ['Apple', 'Banana', 'cherry']\nfor fruit in fruits:\n    print(fruit.upper())"
      ]
    },
    {
      "cell_type": "markdown",
      "metadata": {},
      "source": [
        "Iterate with index\n\n"
      ]
    },
    {
      "cell_type": "code",
      "execution_count": null,
      "metadata": {
        "collapsed": false
      },
      "outputs": [],
      "source": [
        "for i in range(len(fruits)):\n    print(fruits[i].lower())"
      ]
    },
    {
      "cell_type": "markdown",
      "metadata": {},
      "source": [
        "Iterate with index and values: ``enumerate``\n\n"
      ]
    },
    {
      "cell_type": "code",
      "execution_count": null,
      "metadata": {
        "collapsed": false
      },
      "outputs": [],
      "source": [
        "for i, val in enumerate(fruits):\n    print(i, val.upper())\n\n# Use range when iterating over a large sequence to avoid actually\n# creating the integer list in memory\nv = 0\nfor i in range(10 ** 6):\n    v += 1"
      ]
    },
    {
      "cell_type": "markdown",
      "metadata": {},
      "source": [
        "# List comprehensions, iterators, etc.\n\n## List comprehensions\n\n[List comprehensions](http://python-3-patterns-idioms-test.readthedocs.io/en/latest/Comprehensions.html)\nprovides an elegant syntax for the most common processing pattern:\n\n1. iterate over a list,\n2. apply some operation\n3. store the result in a new list\n\n"
      ]
    },
    {
      "cell_type": "markdown",
      "metadata": {},
      "source": [
        "Classical iteration over a list\n\n"
      ]
    },
    {
      "cell_type": "code",
      "execution_count": null,
      "metadata": {
        "collapsed": false
      },
      "outputs": [],
      "source": [
        "nums = [1, 2, 3, 4, 5]\ncubes = []\nfor num in nums:\n    cubes.append(num ** 3)"
      ]
    },
    {
      "cell_type": "markdown",
      "metadata": {},
      "source": [
        "Equivalent list comprehension\n\n"
      ]
    },
    {
      "cell_type": "code",
      "execution_count": null,
      "metadata": {
        "collapsed": false
      },
      "outputs": [],
      "source": [
        "cubes = [num**3 for num in nums]    # [1, 8, 27, 64, 125]"
      ]
    },
    {
      "cell_type": "markdown",
      "metadata": {},
      "source": [
        "Classical iteration over a list with **if condition**:\ncreate a list of cubes of even numbers\n\n"
      ]
    },
    {
      "cell_type": "code",
      "execution_count": null,
      "metadata": {
        "collapsed": false
      },
      "outputs": [],
      "source": [
        "cubes_of_even = []\nfor num in nums:\n    if num % 2 == 0:\n        cubes_of_even.append(num**3)"
      ]
    },
    {
      "cell_type": "markdown",
      "metadata": {},
      "source": [
        "Equivalent list comprehension with **if condition**\nsyntax: ``[expression for variable in iterable if condition]``\n\n"
      ]
    },
    {
      "cell_type": "code",
      "execution_count": null,
      "metadata": {
        "collapsed": false
      },
      "outputs": [],
      "source": [
        "cubes_of_even = [num**3 for num in nums if num % 2 == 0]    # [8, 64]"
      ]
    },
    {
      "cell_type": "markdown",
      "metadata": {},
      "source": [
        "Classical iteration over a list with **if else condition**:\nfor loop to cube even numbers and square odd numbers\n\n"
      ]
    },
    {
      "cell_type": "code",
      "execution_count": null,
      "metadata": {
        "collapsed": false
      },
      "outputs": [],
      "source": [
        "cubes_and_squares = []\nfor num in nums:\n    if num % 2 == 0:\n        cubes_and_squares.append(num**3)\n    else:\n        cubes_and_squares.append(num**2)"
      ]
    },
    {
      "cell_type": "markdown",
      "metadata": {},
      "source": [
        "Equivalent list comprehension (using a ternary expression)\nfor loop to cube even numbers and square odd numbers\nsyntax: ``[true_condition if condition else false_condition for variable in iterable]``\n\n"
      ]
    },
    {
      "cell_type": "code",
      "execution_count": null,
      "metadata": {
        "collapsed": false
      },
      "outputs": [],
      "source": [
        "cubes_and_squares = [num**3 if num % 2 == 0 else num**2 for num in nums]\nprint(cubes_and_squares)"
      ]
    },
    {
      "cell_type": "markdown",
      "metadata": {},
      "source": [
        "Nested loops: flatten a 2d-matrix\n\n"
      ]
    },
    {
      "cell_type": "code",
      "execution_count": null,
      "metadata": {
        "collapsed": false
      },
      "outputs": [],
      "source": [
        "matrix = [[1, 2], [3, 4]]\nitems = []\nfor row in matrix:\n    for item in row:\n        items.append(item)"
      ]
    },
    {
      "cell_type": "markdown",
      "metadata": {},
      "source": [
        "Equivalent list comprehension with Nested loops\n\n"
      ]
    },
    {
      "cell_type": "code",
      "execution_count": null,
      "metadata": {
        "collapsed": false
      },
      "outputs": [],
      "source": [
        "items = [item for row in matrix\n         for item in row]\n\nprint(items)"
      ]
    },
    {
      "cell_type": "markdown",
      "metadata": {},
      "source": [
        "## Set comprehension\n\n"
      ]
    },
    {
      "cell_type": "code",
      "execution_count": null,
      "metadata": {
        "collapsed": false
      },
      "outputs": [],
      "source": [
        "fruits = ['apple', 'banana', 'cherry']\nunique_lengths = {len(fruit) for fruit in fruits}\nprint(unique_lengths)"
      ]
    },
    {
      "cell_type": "markdown",
      "metadata": {},
      "source": [
        "## Dictionary comprehension\n\n"
      ]
    },
    {
      "cell_type": "markdown",
      "metadata": {},
      "source": [
        "Create a dictionary from a list\n\n"
      ]
    },
    {
      "cell_type": "code",
      "execution_count": null,
      "metadata": {
        "collapsed": false
      },
      "outputs": [],
      "source": [
        "fruit_lengths = {fruit: len(fruit) for fruit in fruits}\nprint(fruit_lengths)"
      ]
    },
    {
      "cell_type": "markdown",
      "metadata": {},
      "source": [
        "Iterate over keys and values. Increase age of each subject:\n\n"
      ]
    },
    {
      "cell_type": "code",
      "execution_count": null,
      "metadata": {
        "collapsed": false
      },
      "outputs": [],
      "source": [
        "simpsons_ages_ = {key: val + 1 for key, val in simpsons_ages_dict.items()}\nprint(simpsons_ages_)"
      ]
    },
    {
      "cell_type": "markdown",
      "metadata": {},
      "source": [
        "Combine two dictionaries sharing key. Example, a function that joins two dictionaries\n(intersecting keys) into a dictionary of lists\n\n"
      ]
    },
    {
      "cell_type": "code",
      "execution_count": null,
      "metadata": {
        "collapsed": false
      },
      "outputs": [],
      "source": [
        "simpsons_info_dict = {name: [simpsons_roles_dict[name], simpsons_ages_dict[name]]\n                      for name in simpsons_roles_dict.keys() &\n                      simpsons_ages_dict.keys()}\nprint(simpsons_info_dict)"
      ]
    },
    {
      "cell_type": "markdown",
      "metadata": {},
      "source": [
        "## Iterators ``itertools`` package\n\n"
      ]
    },
    {
      "cell_type": "code",
      "execution_count": null,
      "metadata": {
        "collapsed": false
      },
      "outputs": [],
      "source": [
        "import itertools"
      ]
    },
    {
      "cell_type": "markdown",
      "metadata": {},
      "source": [
        "Example: Cartesian product\n\n"
      ]
    },
    {
      "cell_type": "code",
      "execution_count": null,
      "metadata": {
        "collapsed": false
      },
      "outputs": [],
      "source": [
        "print([[x, y] for x, y in itertools.product(['a', 'b', 'c'], [1, 2])])"
      ]
    },
    {
      "cell_type": "markdown",
      "metadata": {},
      "source": [
        "## Example, use loop, dictionary and set to count words in a sentence\n\n\n"
      ]
    },
    {
      "cell_type": "code",
      "execution_count": null,
      "metadata": {
        "collapsed": false
      },
      "outputs": [],
      "source": [
        "quote = \"\"\"Tick-tow\nour incomes are like our shoes; if too small they gall and pinch us\nbut if too large they cause us to stumble and to trip\n\"\"\"\n\nwords = quote.split()\nlen(words)\n\ncount = {word: 0 for word in set(words)}\n\nfor word in words:\n    count[word] += 1\n    # count[word] = count[word] + 1\n\nprint(count)\n\nimport numpy as np\nfreq_veq = np.array(list(count.values())) / len(words)"
      ]
    },
    {
      "cell_type": "markdown",
      "metadata": {},
      "source": [
        "## Exceptions handling\n\n\n"
      ]
    },
    {
      "cell_type": "code",
      "execution_count": null,
      "metadata": {
        "collapsed": false
      },
      "outputs": [],
      "source": [
        "dct = dict(a=[1, 2], b=[4, 5])\n\nkey = 'c'\ntry:\n    dct[key]\nexcept:\n    print(\"Key %s is missing. Add it with empty value\" % key)\n    dct['c'] = []\n\nprint(dct)"
      ]
    },
    {
      "cell_type": "markdown",
      "metadata": {},
      "source": [
        "# Functions\n\nFunctions are sets of instructions launched when called upon, they can\nhave multiple input values and a return value\n\n\n"
      ]
    },
    {
      "cell_type": "markdown",
      "metadata": {},
      "source": [
        "Function with no arguments and no return values\n\n"
      ]
    },
    {
      "cell_type": "code",
      "execution_count": null,
      "metadata": {
        "collapsed": false
      },
      "outputs": [],
      "source": [
        "def print_text():\n    print('this is text')\n\n\n# call the function\nprint_text()"
      ]
    },
    {
      "cell_type": "markdown",
      "metadata": {},
      "source": [
        "Function with one argument and no return values\n\n"
      ]
    },
    {
      "cell_type": "code",
      "execution_count": null,
      "metadata": {
        "collapsed": false
      },
      "outputs": [],
      "source": [
        "def print_this(x):\n    print(x)\n\n\n# call the function\nprint_this(3)       # prints 3\nn = print_this(3)   # prints 3, but doesn't assign 3 to n\n# because the function has no return statement\nprint(n)"
      ]
    },
    {
      "cell_type": "markdown",
      "metadata": {},
      "source": [
        "**Dynamic typing**\n\nImportant remarque: **Python is a dynamically typed language**, meaning\nthat the Python interpreter does type checking at runtime (as opposed to compiled\nlanguage that are statically typed). As a consequence, the function behavior, decided,\nat execution time, will be different and specific to parameters type.\nPython function are polymorphic.\n\n"
      ]
    },
    {
      "cell_type": "code",
      "execution_count": null,
      "metadata": {
        "collapsed": false
      },
      "outputs": [],
      "source": [
        "def add(a, b):\n    return a + b\n\n\nprint(add(2, 3), add(\"deux\", \"trois\"), add([\"deux\", \"trois\"], [2, 3]))"
      ]
    },
    {
      "cell_type": "markdown",
      "metadata": {},
      "source": [
        "**Default arguments**\n\n"
      ]
    },
    {
      "cell_type": "code",
      "execution_count": null,
      "metadata": {
        "collapsed": false
      },
      "outputs": [],
      "source": [
        "def power_this(x, power=2):\n    return x ** power\n\n\nprint(power_this(2), power_this(2, 3))"
      ]
    },
    {
      "cell_type": "markdown",
      "metadata": {},
      "source": [
        "**Docstring** to describe the effect of a function\nIDE, ipython (type: ?power_this) to provide function documentation.\n\n"
      ]
    },
    {
      "cell_type": "code",
      "execution_count": null,
      "metadata": {
        "collapsed": false
      },
      "outputs": [],
      "source": [
        "def power_this(x, power=2):\n    \"\"\"Return the power of a number.\n\n    Args:\n        x (float): the number\n        power (int, optional): the power. Defaults to 2.\n    \"\"\"\n    return x ** power"
      ]
    },
    {
      "cell_type": "markdown",
      "metadata": {},
      "source": [
        "**Return several values** as tuple\n\n"
      ]
    },
    {
      "cell_type": "code",
      "execution_count": null,
      "metadata": {
        "collapsed": false
      },
      "outputs": [],
      "source": [
        "def min_max(nums):\n    return min(nums), max(nums)\n\n\n# return values can be assigned to a single variable as a tuple\nmin_max_num = min_max([1, 2, 3])         # min_max_num = (1, 3)\n\n# return values can be assigned into multiple variables using tuple unpacking\nmin_num, max_num = min_max([1, 2, 3])    # min_num = 1, max_num = 3"
      ]
    },
    {
      "cell_type": "markdown",
      "metadata": {},
      "source": [
        "## Reference and copy\n\n[References](https://levelup.gitconnected.com/understanding-reference-and-copy-in-python-c681341a0cd8) are used to access objects in memory, here lists.\nA single object may have multiple references. Modifying the content of the one reference\nwill change the content of all other references.\n\nModify a a reference of a list\n\n"
      ]
    },
    {
      "cell_type": "code",
      "execution_count": null,
      "metadata": {
        "collapsed": false
      },
      "outputs": [],
      "source": [
        "num = [1, 2, 3]\nsame_num = num   # create a second reference to the same list\nsame_num[0] = 0  # modifies both 'num' and 'same_num'\nprint(num, same_num)"
      ]
    },
    {
      "cell_type": "markdown",
      "metadata": {},
      "source": [
        "Copies are references to different objects.\nModifying the content of the one reference, will not affect the others.\n\nModify a copy of a list\n\n"
      ]
    },
    {
      "cell_type": "code",
      "execution_count": null,
      "metadata": {
        "collapsed": false
      },
      "outputs": [],
      "source": [
        "new_num = num.copy()\nnew_num = num[:]\nnew_num = list(num)\nnew_num[0] = -1  # modifies 'new_num' but not 'num'\nprint(num, new_num)"
      ]
    },
    {
      "cell_type": "markdown",
      "metadata": {},
      "source": [
        "Examine objects\n\n"
      ]
    },
    {
      "cell_type": "code",
      "execution_count": null,
      "metadata": {
        "collapsed": false
      },
      "outputs": [],
      "source": [
        "id(num) == id(same_num)  # returns True\nid(num) == id(new_num)  # returns False\nnum is same_num         # returns True\nnum is new_num          # returns False\nnum == same_num         # returns True\nnum == new_num          # returns True (their contents are equivalent)"
      ]
    },
    {
      "cell_type": "markdown",
      "metadata": {},
      "source": [
        "Functions' arguments are references to objects.\nThus functions can modify their arguments with possible side effect.\n\n"
      ]
    },
    {
      "cell_type": "code",
      "execution_count": null,
      "metadata": {
        "collapsed": false
      },
      "outputs": [],
      "source": [
        "def change(x, index, newval):\n    x[index] = newval\n\nl = [0, 1, 2]\nchange(x=l, index=1, newval=33)\nprint(l)"
      ]
    },
    {
      "cell_type": "markdown",
      "metadata": {},
      "source": [
        "## Example: function, and dictionary comprehension\n\nExample of a function ``join_dict_to_table(dict1, dict2)`` joining two dictionaries\n(intersecting keys) into a table, i.e., a list of tuples, where the first column\nis the key, the second and third columns are the values of the dictionaries.\n\n"
      ]
    },
    {
      "cell_type": "code",
      "execution_count": null,
      "metadata": {
        "collapsed": false
      },
      "outputs": [],
      "source": [
        "simpsons_ages_dict = {'Homer': 45, 'Marge': 43, 'Bart': 11, 'Lisa': 10}\nsimpsons_roles_dict = {'Homer': 'father', 'Marge': 'mother', 'Bart': 'son',\n                       'Maggie': 'daughter'}\n\ndef join_dict_to_table(dict1, dict2):\n    table = [[key] + [dict1[key], dict2[key]]\n             for key in dict1.keys() & dict2.keys()]\n    return table\n\nprint(\"Roles:\", simpsons_roles_dict)\nprint(\"Ages:\", simpsons_ages_dict)\nprint(\"Join:\", join_dict_to_table(simpsons_roles_dict, \n                                  simpsons_ages_dict))"
      ]
    },
    {
      "cell_type": "markdown",
      "metadata": {},
      "source": [
        "# Regular expression\nRegular Expression (RE, or RegEx) allow to search and patterns in strings.\nSee [this page](https://www.programiz.com/python-programming/regex) for the syntax\nof the RE patterns.\n\n"
      ]
    },
    {
      "cell_type": "code",
      "execution_count": null,
      "metadata": {
        "collapsed": false
      },
      "outputs": [],
      "source": [
        "import re"
      ]
    },
    {
      "cell_type": "markdown",
      "metadata": {},
      "source": [
        "**Usual patterns**\n\n- ``.`` period symbol matches any single character (except newline '\\n').\n- pattern``+`` plus symbol matches one or more occurrences of the pattern.\n- ``[]`` square brackets specifies a set of characters you wish to match\n- ``[abc]`` matches a, b or c\n- ``[a-c]`` matches a to z\n- ``[0-9]`` matches 0 to 9\n- ``[a-zA-Z0-9]+`` matches words, at least one alphanumeric character (digits and alphabets)\n- ``[\\w]+`` matches words, at least one alphanumeric character including underscore.\n- ``\\s`` Matches where a string contains any whitespace character, equivalent to [ \\t\\n\\r\\f\\v].\n- ``[^\\s]`` Caret ``^`` symbol (the start of a square-bracket) inverts the pattern selection .\n\n"
      ]
    },
    {
      "cell_type": "code",
      "execution_count": null,
      "metadata": {
        "collapsed": false
      },
      "outputs": [],
      "source": [
        "# regex = re.compile(\"^.+(firstname:.+)_(lastname:.+)_(mod-.+)\")\n# regex = re.compile(\"(firstname:.+)_(lastname:.+)_(mod-.+)\")"
      ]
    },
    {
      "cell_type": "markdown",
      "metadata": {},
      "source": [
        "**Compile** (``re.compile(string)``) regular expression with a pattern that\ncaptures the pattern ``firstname:<subject_id>_lastname:<session_id>``\n\n"
      ]
    },
    {
      "cell_type": "code",
      "execution_count": null,
      "metadata": {
        "collapsed": false
      },
      "outputs": [],
      "source": [
        "pattern = re.compile(\"firstname:[\\w]+_lastname:[\\w]+\")"
      ]
    },
    {
      "cell_type": "markdown",
      "metadata": {},
      "source": [
        "**Match** (``re.match(string)``) to be used in test, loop, etc.\nDetermine if the RE matches **at the beginning** of the string.\n\n"
      ]
    },
    {
      "cell_type": "code",
      "execution_count": null,
      "metadata": {
        "collapsed": false
      },
      "outputs": [],
      "source": [
        "yes_ = True if pattern.match(\"firstname:John_lastname:Doe\") else False\nno_ = True if pattern.match(\"blahbla_firstname:John_lastname:Doe\") else False\nno2_ = True if pattern.match(\"OUPS-John_lastname:Doe\") else False\nprint(yes_, no_, no2_)"
      ]
    },
    {
      "cell_type": "markdown",
      "metadata": {},
      "source": [
        "**Match** (``re.search(string)``) to be used in test, loop, etc.\nDetermine if the RE matches **at any location** in the string.\n\n"
      ]
    },
    {
      "cell_type": "code",
      "execution_count": null,
      "metadata": {
        "collapsed": false
      },
      "outputs": [],
      "source": [
        "yes_ = True if pattern.search(\"firstname:John_lastname:Doe\") else False\nyes2_ = True if pattern.search(\n    \"blahbla_firstname:John_lastname:Doe\") else False\nno_ = True if pattern.search(\"OUPS-John_lastname:Doe\") else False\nprint(yes_, yes2_, no_)"
      ]
    },
    {
      "cell_type": "markdown",
      "metadata": {},
      "source": [
        "**Find** (``re.findall(string)``) all substrings where the RE matches,\nand returns them as a list.\n\n"
      ]
    },
    {
      "cell_type": "code",
      "execution_count": null,
      "metadata": {
        "collapsed": false
      },
      "outputs": [],
      "source": [
        "# Find the whole pattern within the string\npattern = re.compile(\"firstname:[\\w]+_lastname:[\\w]+\")\nprint(pattern.findall(\"firstname:John_lastname:Doe blah blah\"))\n\n# Find words\nprint(re.compile(\"[a-zA-Z0-9]+\").findall(\"firstname:John_lastname:Doe\"))\n\n# Find words with including underscore\nprint(re.compile(\"[\\w]+\").findall(\"firstname:John_lastname:Doe\"))"
      ]
    },
    {
      "cell_type": "markdown",
      "metadata": {},
      "source": [
        "Extract specific parts of the RE: use parenthesis ``(part of pattern to be matched)``\nExtract John and Doe, such as John is suffixed with firstname:\nand Doe is suffixed with lastname: \n\n"
      ]
    },
    {
      "cell_type": "code",
      "execution_count": null,
      "metadata": {
        "collapsed": false
      },
      "outputs": [],
      "source": [
        "pattern = re.compile(\"firstname:([\\w]+)_lastname:([\\w]+)\")\nprint(pattern.findall(\"firstname:John_lastname:Doe \\\n    firstname:Bart_lastname:Simpson\"))"
      ]
    },
    {
      "cell_type": "markdown",
      "metadata": {},
      "source": [
        "**Split** (``re.split(string)``) splits the string where there is a match and\nreturns a list of strings where the splits have occurred. Example, match\nany non alphanumeric character (digits and alphabets) ``[^a-zA-Z0-9]`` to split\nthe string.\n\n"
      ]
    },
    {
      "cell_type": "code",
      "execution_count": null,
      "metadata": {
        "collapsed": false
      },
      "outputs": [],
      "source": [
        "print(re.compile(\"[^a-zA-Z0-9]\").split(\"firstname:John_lastname:Doe\"))"
      ]
    },
    {
      "cell_type": "markdown",
      "metadata": {},
      "source": [
        "**Substitute** (``re.sub(pattern, replace, string)``) returns a string where\nmatched occurrences are replaced with the content of replace variable.\n\n"
      ]
    },
    {
      "cell_type": "code",
      "execution_count": null,
      "metadata": {
        "collapsed": false
      },
      "outputs": [],
      "source": [
        "print(re.sub('\\s', \"_\", \"Sentence with white      space\"))\nprint(re.sub('\\s+', \"_\", \"Sentence with white      space\"))"
      ]
    },
    {
      "cell_type": "markdown",
      "metadata": {},
      "source": [
        "Remove all non-alphanumeric characters and space in a string\n\n"
      ]
    },
    {
      "cell_type": "code",
      "execution_count": null,
      "metadata": {
        "collapsed": false
      },
      "outputs": [],
      "source": [
        "re.sub('[^0-9a-zA-Z\\s]+', '', 'H^&ell`.,|o W]{+orld')"
      ]
    },
    {
      "cell_type": "markdown",
      "metadata": {},
      "source": [
        "# System programming\n\n\n"
      ]
    },
    {
      "cell_type": "markdown",
      "metadata": {},
      "source": [
        "## Operating system interfaces (os)\n\n"
      ]
    },
    {
      "cell_type": "code",
      "execution_count": null,
      "metadata": {
        "collapsed": false
      },
      "outputs": [],
      "source": [
        "import os"
      ]
    },
    {
      "cell_type": "markdown",
      "metadata": {},
      "source": [
        "Get/set current working directory\n\n"
      ]
    },
    {
      "cell_type": "code",
      "execution_count": null,
      "metadata": {
        "collapsed": false
      },
      "outputs": [],
      "source": [
        "# Get the current working directory\ncwd = os.getcwd()\nprint(cwd)\n\n# Set the current working directory\nos.chdir(cwd)"
      ]
    },
    {
      "cell_type": "markdown",
      "metadata": {},
      "source": [
        "Temporary directory\n\n"
      ]
    },
    {
      "cell_type": "code",
      "execution_count": null,
      "metadata": {
        "collapsed": false
      },
      "outputs": [],
      "source": [
        "import tempfile\ntmpdir = tempfile.gettempdir()\nprint(tmpdir)"
      ]
    },
    {
      "cell_type": "markdown",
      "metadata": {},
      "source": [
        "Join paths\n\n"
      ]
    },
    {
      "cell_type": "code",
      "execution_count": null,
      "metadata": {
        "collapsed": false
      },
      "outputs": [],
      "source": [
        "mytmpdir = os.path.join(tmpdir, \"foobar\")"
      ]
    },
    {
      "cell_type": "markdown",
      "metadata": {},
      "source": [
        "Create a directory\n\n"
      ]
    },
    {
      "cell_type": "code",
      "execution_count": null,
      "metadata": {
        "collapsed": false
      },
      "outputs": [],
      "source": [
        "os.makedirs(os.path.join(tmpdir, \"foobar\", \"plop\", \"toto\"), exist_ok=True)\n\n# list containing the names of the entries in the directory given by path.\nos.listdir(mytmpdir)"
      ]
    },
    {
      "cell_type": "markdown",
      "metadata": {},
      "source": [
        "## File input/output\n\n"
      ]
    },
    {
      "cell_type": "code",
      "execution_count": null,
      "metadata": {
        "collapsed": false
      },
      "outputs": [],
      "source": [
        "filename = os.path.join(mytmpdir, \"myfile.txt\")\nprint(filename)\nlines = [\"Dans python tout est bon\", \"Enfin, presque\"]"
      ]
    },
    {
      "cell_type": "markdown",
      "metadata": {},
      "source": [
        "Write line by line\n\n"
      ]
    },
    {
      "cell_type": "code",
      "execution_count": null,
      "metadata": {
        "collapsed": false
      },
      "outputs": [],
      "source": [
        "fd = open(filename, \"w\")\nfd.write(lines[0] + \"\\n\")\nfd.write(lines[1] + \"\\n\")\nfd.close()"
      ]
    },
    {
      "cell_type": "markdown",
      "metadata": {},
      "source": [
        "Context manager to automatically close your file\n\n"
      ]
    },
    {
      "cell_type": "code",
      "execution_count": null,
      "metadata": {
        "collapsed": false
      },
      "outputs": [],
      "source": [
        "with open(filename, 'w') as f:\n    for line in lines:\n        f.write(line + '\\n')"
      ]
    },
    {
      "cell_type": "markdown",
      "metadata": {},
      "source": [
        "Read\nread one line at a time (entire file does not have to fit into memory)\n\n"
      ]
    },
    {
      "cell_type": "code",
      "execution_count": null,
      "metadata": {
        "collapsed": false
      },
      "outputs": [],
      "source": [
        "f = open(filename, \"r\")\nf.readline()    # one string per line (including newlines)\nf.readline()    # next line\nf.close()\n\n# read the whole file at once, return a list of lines\nf = open(filename, 'r')\nf.readlines()   # one list, each line is one string\nf.close()\n\n# use list comprehension to duplicate readlines without reading entire file at once\nf = open(filename, 'r')\n[line for line in f]\nf.close()\n\n# use a context manager to automatically close your file\nwith open(filename, 'r') as f:\n    lines = [line for line in f]"
      ]
    },
    {
      "cell_type": "markdown",
      "metadata": {},
      "source": [
        "## Explore, list directories\n\n\n"
      ]
    },
    {
      "cell_type": "markdown",
      "metadata": {},
      "source": [
        "Walk through directories and subdirectories ``os.walk(dir)``\n\n"
      ]
    },
    {
      "cell_type": "code",
      "execution_count": null,
      "metadata": {
        "collapsed": false
      },
      "outputs": [],
      "source": [
        "WD = os.path.join(tmpdir, \"foobar\")\n\nfor dirpath, dirnames, filenames in os.walk(WD):\n    print(dirpath, dirnames, filenames)"
      ]
    },
    {
      "cell_type": "markdown",
      "metadata": {},
      "source": [
        "Search for a file using a wildcard ``glob.glob(dir)``\n\n"
      ]
    },
    {
      "cell_type": "code",
      "execution_count": null,
      "metadata": {
        "collapsed": false
      },
      "outputs": [],
      "source": [
        "import glob\nfilenames = glob.glob(os.path.join(tmpdir, \"*\", \"*.txt\"))\nprint(filenames)"
      ]
    },
    {
      "cell_type": "markdown",
      "metadata": {},
      "source": [
        "Manipulating file names, basename and extension\n\n"
      ]
    },
    {
      "cell_type": "code",
      "execution_count": null,
      "metadata": {
        "collapsed": false
      },
      "outputs": [],
      "source": [
        "def split_filename_inparts(filename):\n    dirname_ = os.path.dirname(filename)\n    filename_noext_, ext_ = os.path.splitext(filename)\n    basename_ = os.path.basename(filename_noext_)\n    return dirname_, basename_, ext_\n\n\nprint(filenames[0], \"=>\", split_filename_inparts(filenames[0]))"
      ]
    },
    {
      "cell_type": "markdown",
      "metadata": {},
      "source": [
        "File operations: (recursive) copy, move, test if exists: ``shutil`` package\n\n"
      ]
    },
    {
      "cell_type": "code",
      "execution_count": null,
      "metadata": {
        "collapsed": false
      },
      "outputs": [],
      "source": [
        "import shutil"
      ]
    },
    {
      "cell_type": "markdown",
      "metadata": {},
      "source": [
        "Copy\n\n"
      ]
    },
    {
      "cell_type": "code",
      "execution_count": null,
      "metadata": {
        "collapsed": false
      },
      "outputs": [],
      "source": [
        "src = os.path.join(tmpdir, \"foobar\",  \"myfile.txt\")\ndst = os.path.join(tmpdir, \"foobar\",  \"plop\", \"myfile.txt\")\nshutil.copy(src, dst)\nprint(\"copy %s to %s\" % (src, dst))"
      ]
    },
    {
      "cell_type": "markdown",
      "metadata": {},
      "source": [
        "Test if file exists ?\n\n"
      ]
    },
    {
      "cell_type": "code",
      "execution_count": null,
      "metadata": {
        "collapsed": false
      },
      "outputs": [],
      "source": [
        "print(\"File %s exists ?\" % dst, os.path.exists(dst))"
      ]
    },
    {
      "cell_type": "markdown",
      "metadata": {},
      "source": [
        "Recursive copy,deletion and move\n\n"
      ]
    },
    {
      "cell_type": "code",
      "execution_count": null,
      "metadata": {
        "collapsed": false
      },
      "outputs": [],
      "source": [
        "src = os.path.join(tmpdir, \"foobar\",  \"plop\")\ndst = os.path.join(tmpdir, \"plop2\")\n\ntry:\n    print(\"Copy tree %s under %s\" % (src, dst))\n    # Note that by default (dirs_exist_ok=True), meaning that copy will fail\n    # if destination exists.\n    shutil.copytree(src, dst, dirs_exist_ok=True)\n    \n    print(\"Delete tree %s\" % dst)\n    shutil.rmtree(dst)\n\n    print(\"Move tree %s under %s\" % (src, dst))\n    shutil.move(src, dst)\nexcept (FileExistsError, FileNotFoundError) as e:\n    pass"
      ]
    },
    {
      "cell_type": "markdown",
      "metadata": {},
      "source": [
        "## Command execution with subprocess\n\nFor more advanced use cases, the underlying Popen interface can be used directly.\n\n"
      ]
    },
    {
      "cell_type": "code",
      "execution_count": null,
      "metadata": {
        "collapsed": false
      },
      "outputs": [],
      "source": [
        "import subprocess"
      ]
    },
    {
      "cell_type": "markdown",
      "metadata": {},
      "source": [
        "``subprocess.run([command, args*])``\n\n- Run the command described by args.\n- Wait for command to complete\n- return a CompletedProcess instance.\n- Does not capture stdout or stderr by default. To do so, pass PIPE for the stdout and/or stderr arguments.\n\n"
      ]
    },
    {
      "cell_type": "code",
      "execution_count": null,
      "metadata": {
        "collapsed": false
      },
      "outputs": [],
      "source": [
        "p = subprocess.run([\"ls\", \"-l\"])\nprint(p.returncode)"
      ]
    },
    {
      "cell_type": "markdown",
      "metadata": {},
      "source": [
        "Run through the shell\n\n"
      ]
    },
    {
      "cell_type": "code",
      "execution_count": null,
      "metadata": {
        "collapsed": false
      },
      "outputs": [],
      "source": [
        "subprocess.run(\"ls -l\", shell=True)"
      ]
    },
    {
      "cell_type": "markdown",
      "metadata": {},
      "source": [
        "Capture output\n\n"
      ]
    },
    {
      "cell_type": "code",
      "execution_count": null,
      "metadata": {
        "collapsed": false
      },
      "outputs": [],
      "source": [
        "out = subprocess.run(\n    [\"ls\", \"-a\", \"/\"], stdout=subprocess.PIPE, stderr=subprocess.STDOUT)\n# out.stdout is a sequence of bytes that should be decoded into a utf-8 string\nprint(out.stdout.decode('utf-8').split(\"\\n\")[:5])"
      ]
    },
    {
      "cell_type": "markdown",
      "metadata": {},
      "source": [
        "## Multiprocessing and multithreading\n\n[Difference between multiprocessing and multithreading](https://techdifferences.com/difference-between-multiprocessing-and-multithreading.html)\nis essential to perform efficient parallel processing on multi-cores computers.\n\n   **Multiprocessing**\n\n   A process is  a program instance that has been loaded into memory\n   and managed by the operating system.\n   Process = address space + execution context (thread of control)\n\n   - Process address space is made of (memory) segments for (i) code,\n     (ii) data (static/global), (iii) heap (dynamic memory allocation),\n     and the execution stack (functions' execution context).\n   - Execution context consists of (i) data registers, (ii) Stack Pointer (SP),\n     (iii) Program Counter (PC), and (iv) working Registers.\n\n   OS Scheduling of processes: context switching (ie. save/load Execution context)\n\n   Pros/cons\n\n   - Context switching expensive.\n   - (potentially) complex data sharing (not necessary true).\n   - Cooperating processes - no need for memory protection (separate address spaces).\n   - Relevant for parallel computation with memory allocation.\n\n   **Multithreading**\n\n   - Threads share the same address space (Data registers): access to code, heap and (global) data.\n   - Separate execution stack, PC and Working Registers.\n\n   Pros/cons\n\n   - **Faster context switching** only SP, PC and Working Registers.\n   - Can exploit fine-grain concurrency\n   - Simple data sharing through the shared address space.\n   - **But most of concurrent memory operations are serialized (blocked)\n     by the global interpreter lock (GIL)**.\n     The GIL prevents two threads writing to the same memory at the same time.\n   - Relevant for GUI, I/O (Network, disk) concurrent operation\n\n   **In Python**\n\n   - **As long the GIL exists favor multiprocessing over multithreading**\n   - Multithreading rely on ``threading`` module.\n   - Multiprocessing rely on ``multiprocessing`` module.\n\n"
      ]
    },
    {
      "cell_type": "markdown",
      "metadata": {},
      "source": [
        "**Example: Random forest**\n\nRandom forest are the obtained by Majority vote of decision tree on estimated \non bootstrapped samples.\n\nToy dataset\n\n"
      ]
    },
    {
      "cell_type": "code",
      "execution_count": null,
      "metadata": {
        "collapsed": false
      },
      "outputs": [],
      "source": [
        "import time\nimport numpy as np\nfrom sklearn.datasets import make_classification\nfrom sklearn.model_selection import train_test_split\nfrom sklearn.tree import DecisionTreeClassifier\nfrom sklearn.metrics import balanced_accuracy_score\n\n# Toy dataset\nX, y = make_classification(n_features=1000, n_samples=5000, n_informative=20,\n                           random_state=1, n_clusters_per_class=3)\nX_train, X_test, y_train, y_test = train_test_split(X, y, test_size=0.8,\n                                                    random_state=42)"
      ]
    },
    {
      "cell_type": "markdown",
      "metadata": {},
      "source": [
        "Random forest algorithm:\n(i) In parallel, fit decision trees on bootstrapped data samples. Make predictions.\n(ii) Majority vote on predictions\n\n"
      ]
    },
    {
      "cell_type": "markdown",
      "metadata": {},
      "source": [
        "1. In parallel, fit decision trees on bootstrapped data sample. Make predictions.\n\n"
      ]
    },
    {
      "cell_type": "code",
      "execution_count": null,
      "metadata": {
        "collapsed": false
      },
      "outputs": [],
      "source": [
        "def boot_decision_tree(X_train, X_test, y_train, predictions_list=None):\n    N = X_train.shape[0]\n    boot_idx = np.random.choice(np.arange(N), size=N, replace=True)\n    clf = DecisionTreeClassifier(random_state=0)\n    clf.fit(X_train[boot_idx], y_train[boot_idx])\n    y_pred = clf.predict(X_test)\n    if predictions_list is not None:\n        predictions_list.append(y_pred)\n    return y_pred"
      ]
    },
    {
      "cell_type": "markdown",
      "metadata": {},
      "source": [
        "Independent runs of decision tree, see variability of predictions\n\n"
      ]
    },
    {
      "cell_type": "code",
      "execution_count": null,
      "metadata": {
        "collapsed": false
      },
      "outputs": [],
      "source": [
        "for i in range(5):\n    y_test_boot = boot_decision_tree(X_train, X_test, y_train)\n    print(\"%.2f\" % balanced_accuracy_score(y_test, y_test_boot))"
      ]
    },
    {
      "cell_type": "markdown",
      "metadata": {},
      "source": [
        "2. Majority vote on predictions\n\n"
      ]
    },
    {
      "cell_type": "code",
      "execution_count": null,
      "metadata": {
        "collapsed": false
      },
      "outputs": [],
      "source": [
        "def vote(predictions):\n    maj = np.apply_along_axis(\n        lambda x: np.argmax(np.bincount(x)),\n        axis=1,\n        arr=predictions\n    )\n    return maj"
      ]
    },
    {
      "cell_type": "markdown",
      "metadata": {},
      "source": [
        "**Sequential execution**\n\nSequentially fit decision tree on bootstrapped samples, then apply majority vote\n\n"
      ]
    },
    {
      "cell_type": "code",
      "execution_count": null,
      "metadata": {
        "collapsed": false
      },
      "outputs": [],
      "source": [
        "nboot = 2\nstart = time.time()\ny_test_boot = np.dstack([boot_decision_tree(X_train, X_test, y_train)\n                         for i in range(nboot)]).squeeze()\ny_test_vote = vote(y_test_boot)\nprint(\"Balanced Accuracy: %.2f\" % balanced_accuracy_score(y_test, y_test_vote))\nprint(\"Sequential execution, elapsed time:\", time.time() - start)"
      ]
    },
    {
      "cell_type": "markdown",
      "metadata": {},
      "source": [
        "**Multithreading**\n\nConcurrent (parallel) execution of the function with two threads.\n\n"
      ]
    },
    {
      "cell_type": "code",
      "execution_count": null,
      "metadata": {
        "collapsed": false
      },
      "outputs": [],
      "source": [
        "from threading import Thread\n\npredictions_list = list()\nthread1 = Thread(target=boot_decision_tree,\n                 args=(X_train, X_test, y_train, predictions_list))\nthread2 = Thread(target=boot_decision_tree,\n                 args=(X_train, X_test, y_train, predictions_list))\n\n# Will execute both in parallel\nstart = time.time()\nthread1.start()\nthread2.start()\n\n# Joins threads back to the parent process\nthread1.join()\nthread2.join()\n\n# Vote on concatenated predictions\ny_test_boot = np.dstack(predictions_list).squeeze()\ny_test_vote = vote(y_test_boot)\nprint(\"Balanced Accuracy: %.2f\" % balanced_accuracy_score(y_test, y_test_vote))\nprint(\"Concurrent execution with threads, elapsed time:\", time.time() - start)"
      ]
    },
    {
      "cell_type": "markdown",
      "metadata": {},
      "source": [
        "**Multiprocessing**\n\nConcurrent (parallel) execution of the function with\nprocesses (jobs) executed in different address (memory) space.\n[Process-based parallelism](https://docs.python.org/3/library/multiprocessing.html)\n\n\n``Process()`` for parallel execution and ``Manager()`` for data sharing\n\n**Sharing data between process with Managers**\nTherefore, sharing data requires specific mechanism using  .\nManagers provide a way to create data which can be shared between\ndifferent processes, including sharing over a network between processes\nrunning on different machines. A manager object controls a server process\nwhich manages shared objects.\n\n"
      ]
    },
    {
      "cell_type": "code",
      "execution_count": null,
      "metadata": {
        "collapsed": false
      },
      "outputs": [],
      "source": [
        "from multiprocessing import Process, Manager\n\npredictions_list = Manager().list()\np1 = Process(target=boot_decision_tree,\n             args=(X_train, X_test, y_train, predictions_list))\np2 = Process(target=boot_decision_tree,\n             args=(X_train, X_test, y_train, predictions_list))\n\n# Will execute both in parallel\nstart = time.time()\np1.start()\np2.start()\n\n# Joins processes back to the parent process\np1.join()\np2.join()\n\n# Vote on concatenated predictions\ny_test_boot = np.dstack(predictions_list).squeeze()\ny_test_vote = vote(y_test_boot)\nprint(\"Balanced Accuracy: %.2f\" % balanced_accuracy_score(y_test, y_test_vote))\nprint(\"Concurrent execution with processes, elapsed time:\", time.time() - start)"
      ]
    },
    {
      "cell_type": "markdown",
      "metadata": {},
      "source": [
        "``Pool()`` of **workers (processes or Jobs)** for concurrent (parallel) execution of multiples\ntasks.\nPool can be used when *N* independent tasks need to be executed in parallel, when there are\nmore tasks than cores on the computer.\n\n1. Initialize a [Pool(), map(), apply_async(),](https://superfastpython.com/multiprocessing-pool-map-multiple-arguments/)\n   of *P* workers (Process, or Jobs), where *P* < number of cores in the computer.\n   Use `cpu_count` to get the number of logical cores in the current system, \n   See: [Number of CPUs and Cores in Python](https://superfastpython.com/number-of-cpus-python/).\n2. Map *N* tasks to the *P* workers, here we use the function \n   [Pool.apply_async()](https://superfastpython.com/multiprocessing-pool-apply_async/) that runs the\n   jobs asynchronously. Asynchronous means that calling `pool.apply_async` does not block the execution\n   of the caller that carry on, i.e., it returns immediately with a `AsyncResult` object for the task.\n\nthat the caller (than runs the sub-processes) is not blocked by the \nto the process pool does not block, allowing the caller that issued the task to carry on.#\n3. Wait for all jobs to complete `pool.join()`\n4. Collect the results\n\n"
      ]
    },
    {
      "cell_type": "code",
      "execution_count": null,
      "metadata": {
        "collapsed": false
      },
      "outputs": [],
      "source": [
        "from multiprocessing import Pool, cpu_count\n# Numbers of logical cores in the current system.\n# Rule of thumb: Divide by 2 to get nb of physical cores\nnjobs = int(cpu_count() / 2) \nstart = time.time()\nntasks = 12\n  \npool = Pool(njobs)\n# Run multiple tasks each with multiple arguments\nasync_results = [pool.apply_async(boot_decision_tree,\n                                  args=(X_train, X_test, y_train))\n                 for i in range(ntasks)]\n\n# Close the process pool & wait for all jobs to complete\npool.close()\npool.join()\n\n# Collect the results\ny_test_boot = np.dstack([ar.get() for ar in async_results]).squeeze()\n\n# Vote on concatenated predictions\n\ny_test_vote = vote(y_test_boot)\nprint(\"Balanced Accuracy: %.2f\" % balanced_accuracy_score(y_test, y_test_vote))\nprint(\"Concurrent execution with processes, elapsed time:\", time.time() - start)"
      ]
    },
    {
      "cell_type": "markdown",
      "metadata": {},
      "source": [
        "# Scripts and argument parsing\n\nExample, the word count script ::\n\n       import os\n       import os.path\n       import argparse\n       import re\n       import pandas as pd\n\n       if __name__ == \"__main__\":\n           # parse command line options\n           output = \"word_count.csv\"\n           parser = argparse.ArgumentParser()\n           parser.add_argument('-i', '--input',\n                               help='list of input files.',\n                               nargs='+', type=str)\n           parser.add_argument('-o', '--output',\n                               help='output csv file (default %s)' % output,\n                               type=str, default=output)\n           options = parser.parse_args()\n\n           if options.input is None :\n               parser.print_help()\n               raise SystemExit(\"Error: input files are missing\")\n           else:\n               filenames = [f for f in options.input if os.path.isfile(f)]\n\n           # Match words\n           regex = re.compile(\"[a-zA-Z]+\")\n\n           count = dict()\n           for filename in filenames:\n               fd = open(filename, \"r\")\n               for line in fd:\n                   for word in regex.findall(line.lower()):\n                       if not word in count:\n                           count[word] = 1\n                       else:\n                           count[word] += 1\n\n           fd = open(options.output, \"w\")\n\n           # Pandas\n           df = pd.DataFrame([[k, count[k]] for k in count], columns=[\"word\", \"count\"])\n           df.to_csv(options.output, index=False)\n\n"
      ]
    },
    {
      "cell_type": "markdown",
      "metadata": {},
      "source": [
        "# Networking\n\n\n"
      ]
    },
    {
      "cell_type": "code",
      "execution_count": null,
      "metadata": {
        "collapsed": false
      },
      "outputs": [],
      "source": [
        "# TODO"
      ]
    },
    {
      "cell_type": "markdown",
      "metadata": {},
      "source": [
        "## FTP\n\n"
      ]
    },
    {
      "cell_type": "markdown",
      "metadata": {},
      "source": [
        "FTP with ``ftplib``\n\n"
      ]
    },
    {
      "cell_type": "code",
      "execution_count": null,
      "metadata": {
        "collapsed": false
      },
      "outputs": [],
      "source": [
        "import ftplib\n\nftp = ftplib.FTP(\"ftp.cea.fr\")\nftp.login()\nftp.cwd('/pub/unati/people/educhesnay/pystatml')\nftp.retrlines('LIST')\n\nfd = open(os.path.join(tmpdir, \"README.md\"), \"wb\")\nftp.retrbinary('RETR README.md', fd.write)\nfd.close()\nftp.quit()"
      ]
    },
    {
      "cell_type": "markdown",
      "metadata": {},
      "source": [
        "FTP file download with ``urllib``\n\n"
      ]
    },
    {
      "cell_type": "code",
      "execution_count": null,
      "metadata": {
        "collapsed": false
      },
      "outputs": [],
      "source": [
        "import urllib\nftp_url = 'ftp://ftp.cea.fr/pub/unati/people/educhesnay/pystatml/README.md'\nurllib.request.urlretrieve(ftp_url, os.path.join(tmpdir, \"README2.md\"))"
      ]
    },
    {
      "cell_type": "markdown",
      "metadata": {},
      "source": [
        "## HTTP\n\n\n"
      ]
    },
    {
      "cell_type": "code",
      "execution_count": null,
      "metadata": {
        "collapsed": false
      },
      "outputs": [],
      "source": [
        "# TODO"
      ]
    },
    {
      "cell_type": "markdown",
      "metadata": {},
      "source": [
        "## Sockets\n\n\n"
      ]
    },
    {
      "cell_type": "code",
      "execution_count": null,
      "metadata": {
        "collapsed": false
      },
      "outputs": [],
      "source": [
        "# TODO"
      ]
    },
    {
      "cell_type": "markdown",
      "metadata": {},
      "source": [
        "## xmlrpc\n\n\n"
      ]
    },
    {
      "cell_type": "code",
      "execution_count": null,
      "metadata": {
        "collapsed": false
      },
      "outputs": [],
      "source": [
        "# TODO"
      ]
    },
    {
      "cell_type": "markdown",
      "metadata": {},
      "source": [
        "# Object Oriented Programming (OOP)\n\n**Sources**\n\n-  http://python-textbok.readthedocs.org/en/latest/Object\\_Oriented\\_Programming.html\n\n**Principles**\n\n-  **Encapsulate** data (attributes) and code (methods) into objects.\n\n-  **Class** = template or blueprint that can be used to create objects.\n\n-  An **object** is a specific instance of a class.\n\n-  **Inheritance**: OOP allows classes to inherit commonly used state\n   and behavior from other classes. Reduce code duplication\n\n-  **Polymorphism**: (usually obtained through polymorphism) calling\n   code is agnostic as to whether an object belongs to a parent class or\n   one of its descendants (abstraction, modularity). The same method\n   called on 2 objects of 2 different classes will behave differently.\n\n\n"
      ]
    },
    {
      "cell_type": "code",
      "execution_count": null,
      "metadata": {
        "collapsed": false
      },
      "outputs": [],
      "source": [
        "class Shape2D:\n    def area(self):\n        raise NotImplementedError()\n\n# __init__ is a special method called the constructor\n\n\n# Inheritance + Encapsulation\nclass Square(Shape2D):\n    def __init__(self, width):\n        self.width = width\n\n    def area(self):\n        return self.width ** 2\n\n\nclass Disk(Shape2D):\n    def __init__(self, radius):\n        self.radius = radius\n\n    def area(self):\n        return math.pi * self.radius ** 2"
      ]
    },
    {
      "cell_type": "markdown",
      "metadata": {},
      "source": [
        "Object creation\n\n"
      ]
    },
    {
      "cell_type": "code",
      "execution_count": null,
      "metadata": {
        "collapsed": false
      },
      "outputs": [],
      "source": [
        "square = Square(2)"
      ]
    },
    {
      "cell_type": "markdown",
      "metadata": {},
      "source": [
        "Call a method of the object\n\n"
      ]
    },
    {
      "cell_type": "code",
      "execution_count": null,
      "metadata": {
        "collapsed": false
      },
      "outputs": [],
      "source": [
        "square.area()"
      ]
    },
    {
      "cell_type": "markdown",
      "metadata": {},
      "source": [
        "More sophisticated use\n\n"
      ]
    },
    {
      "cell_type": "code",
      "execution_count": null,
      "metadata": {
        "collapsed": false
      },
      "outputs": [],
      "source": [
        "shapes = [Square(2), Disk(3)]\n\n# Polymorphism\nprint([s.area() for s in shapes])\n\ns = Shape2D()\ntry:\n    s.area()\nexcept NotImplementedError as e:\n    print(\"NotImplementedError\", e)"
      ]
    },
    {
      "cell_type": "markdown",
      "metadata": {},
      "source": [
        "# Style guide for Python programming\n\nSee [PEP 8](https://www.python.org/dev/peps/pep-0008/)\n\n- Spaces (four) are the preferred indentation method.\n- Two blank lines for top level function or classes definition.\n- One blank line to indicate logical sections.\n- Never use: ``from lib import *``\n- Bad: ``Capitalized_Words_With_Underscores``\n- Function and Variable Names: ``lower_case_with_underscores``\n- Class Names: ``CapitalizedWords`` (aka: ``CamelCase``)\n\n"
      ]
    },
    {
      "cell_type": "markdown",
      "metadata": {},
      "source": [
        "# Documenting\n\nSee [Documenting Python](https://realpython.com/documenting-python-code//)\nDocumenting = comments + docstrings (Python documentation string)\n\n- [Docstrings](https://www.datacamp.com/community/tutorials/docstrings-python)\n  are use as documentation for the class, module, and packages.\n  See it as \"living documentation\".\n- Comments are  used to explain non-obvious portions of the code. \"Dead documentation\".\n\nDocstrings for functions (same for classes and methods):\n\n"
      ]
    },
    {
      "cell_type": "code",
      "execution_count": null,
      "metadata": {
        "collapsed": false
      },
      "outputs": [],
      "source": [
        "def my_function(a, b=2):\n    \"\"\"\n    This function ...\n\n    Parameters\n    ----------\n    a : float\n        First operand.\n    b : float, optional\n        Second operand. The default is 2.\n\n    Returns\n    -------\n    Sum of operands.\n\n    Example\n    -------\n    >>> my_function(3)\n    5\n    \"\"\"\n    # Add a with b (this is a comment)\n    return a + b\n\n\nprint(help(my_function))"
      ]
    },
    {
      "cell_type": "markdown",
      "metadata": {},
      "source": [
        "Docstrings for scripts:\n\nAt the begining of a script add a pream::\n\n       \"\"\"\n       Created on Thu Nov 14 12:08:41 CET 2019\n\n       @author: firstname.lastname@email.com\n\n       Some description\n       \"\"\"\n\n"
      ]
    },
    {
      "cell_type": "markdown",
      "metadata": {},
      "source": [
        "# Modules and packages\n\nPython [packages and modules](https://docs.python.org/3/tutorial/modules.html)\nstructure python code into modular \"libraries\" to be shared.\n\n"
      ]
    },
    {
      "cell_type": "markdown",
      "metadata": {},
      "source": [
        "## Package\n\nPackages are a way of structuring Python\u2019s module namespace by using \u201cdotted module names\u201d.\nA package is a directory (here, ``stat_pkg``) containing a ``__init__.py`` file.\n\n"
      ]
    },
    {
      "cell_type": "markdown",
      "metadata": {},
      "source": [
        "### Example, ``package``\n\n    stat_pkg/\n    \u251c\u2500\u2500 __init__.py\n    \u2514\u2500\u2500 datasets_mod.py\n\nThe ``__init__.py`` can be empty.\nOr it can be used to define the package API, i.e., the modules (``*.py`` files)\nthat are exported and those that remain internal.\n\n"
      ]
    },
    {
      "cell_type": "markdown",
      "metadata": {},
      "source": [
        "### Example, file ``stat_pkg/__init__.py``\n\n    # 1) import function for modules in the packages\n    from .module import make_regression\n\n    # 2) Make them visible in the package\n    __all__ = [\"make_regression\"]\n\n"
      ]
    },
    {
      "cell_type": "markdown",
      "metadata": {},
      "source": [
        "## Module\n\nA module is a python file.\nExample, ``stat_pkg/datasets_mod.py``\n::\n\n    import numpy as np\n    def make_regression(n_samples=10, n_features=2, add_intercept=False):\n        ...\n        return X, y, coef\n\n"
      ]
    },
    {
      "cell_type": "markdown",
      "metadata": {},
      "source": [
        "Usage\n\n\n"
      ]
    },
    {
      "cell_type": "code",
      "execution_count": null,
      "metadata": {
        "collapsed": false
      },
      "outputs": [],
      "source": [
        "import stat_pkg as pkg\n\nX, y, coef = pkg.make_regression()\nprint(X.shape)"
      ]
    },
    {
      "cell_type": "markdown",
      "metadata": {},
      "source": [
        "## The search path\n\nWith a directive like ``import stat_pkg``, Python will searches for\n\n- a module, file named ``stat_pkg.py`` or,\n- a package, directory named ``stat_pkg`` containing a ``stat_pkg/__init__.py`` file.\n\nPython will search in a list of directories given by the variable\n``sys.path``. This variable is initialized from these locations:\n\n - The directory containing the input script (or the current directory when no file is specified).\n - **``PYTHONPATH``** (a list of directory names, with the same syntax as the shell variable ``PATH``).\n\nIn our case, to be able to import ``stat_pkg``, the parent directory of ``stat_pkg``\nmust be in ``sys.path``.\nYou can modify ``PYTHONPATH`` by any method, or access it via ``sys`` package, example:\n::\n    import sys\n    sys.path.append(\"/home/ed203246/git/pystatsml/python_lang\")\n\n"
      ]
    },
    {
      "cell_type": "markdown",
      "metadata": {},
      "source": [
        "# Unit testing\n\nWhen developing a library (e.g., a python package) that is bound to evolve and being corrected, we want to ensure that:\n(i) The code correctly implements some expected functionalities;\n(ii) the modifications and additions don't break those functionalities; \n\nUnit testing is a framework to asses to those two points. See sources:\n\n- [Unit testing reference doc](https://docs.python.org/3/library/unittest.html)\n- [Getting Started With Testing in Python](https://realpython.com/python-testing/)\n\n"
      ]
    },
    {
      "cell_type": "markdown",
      "metadata": {},
      "source": [
        "## unittest: test your code\n\n1) Write unit tests (test cases)\n\nIn a directory usually called ``tests`` create a [test case](https://docs.python.org/3/library/unittest.html#unittest.TestCase), i.e., a python file \n``test_datasets_mod.py`` (general syntax is ``test_<mymodule>.py``) that will execute some\nfunctionalities of the module and test if the output are as expected. \n`test_datasets_mod.py` file contains specific directives:\n\n- ``import unittest``,\n- ``class TestDatasets(unittest.TestCase)``, the test case class. The general syntax is ``class Test<MyModule>(unittest.TestCase)``\n- ``def test_make_regression(self)``, test a function of an element of the module. The general syntax is ``test_<my function>(self)``\n- ``self.assertTrue(np.allclose(X.shape, (10, 4)))``, test a specific functionality. The general syntax is ``self.assert<True|Equal|...>(<some boolean expression>)``\n- ``unittest.main()``, where tests should be executed.\n\nExample:\n\n::\n\n    import unittest\n    import numpy as np\n    from stat_pkg import make_regression\n\n    class TestDatasets(unittest.TestCase):\n\n        def test_make_regression(self):\n            X, y, coefs = make_regression(n_samples=10, n_features=3,\n                                          add_intercept=True)     \n            self.assertTrue(np.allclose(X.shape, (10, 4)))\n            self.assertTrue(np.allclose(y.shape, (10, )))\n            self.assertTrue(np.allclose(coefs.shape, (4, )))\n\n    if __name__ == '__main__':\n        unittest.main()\n\n"
      ]
    },
    {
      "cell_type": "markdown",
      "metadata": {},
      "source": [
        "2) Run the tests  (test runner)\n\nThe [test runner](https://wiki.python.org/moin/PythonTestingToolsTaxonomy) \norchestrates the execution of tests and provides the outcome to the user.\nMany [test runners](https://blog.kortar.org/?p=370) are available.\n\n[unittest](https://docs.python.org/3/library/unittest.html) is the first unit test framework,\nit comes with Python standard library.\nIt employs an object-oriented approach, grouping tests into classes known as test cases, \neach containing distinct methods representing individual tests.\n\nUnitest generally requires that tests are organized as importable modules,\n[see details](https://docs.python.org/3/library/unittest.html#command-line-interface).\nHere, we do not introduce this complexity: we directly execute a test file that isn\u2019t importable\nas a module.\n\n::\n\n    python tests/test_datasets_mod.py\n\n[Unittest test discovery](https://docs.python.org/3/library/unittest.html#unittest-test-discovery):\n(``-m unittest discover``) within (``-s``) ``tests`` directory, with verbose (``-v``) outputs.\n\n::\n\n   python -m unittest discover -v -s tests\n\n"
      ]
    },
    {
      "cell_type": "markdown",
      "metadata": {},
      "source": [
        "## Doctest: add unit tests in docstring\n\n[Doctest](https://docs.python.org/3/library/doctest.html) is an inbuilt test framework that comes bundled with Python by default.\nThe doctest module searches for code fragments that resemble interactive Python sessions and runs those sessions to confirm they operate as shown.\nIt promotes [Test-driven (TDD) methodology](https://medium.com/@muirujackson/python-test-driven-development-6235c479baa2).\n\n1) Add doc test in the docstrings, \nsee [python stat_pkg/supervised_models.py](https://github.com/duchesnay/pystatsml/blob/master/python_lang/stat_pkg/supervised_models.py):\n\n::\n\n    class LinearRegression:\n        \"\"\"Ordinary least squares Linear Regression.\n        ...\n        Examples\n        --------\n        >>> import numpy as np\n        >>> from stat_pkg import LinearRegression\n        >>> X = np.array([[1, 1], [1, 2], [2, 2], [2, 3]])\n        >>> # y = 1 * x_0 + 2 * x_1 + 3\n        >>> y = np.dot(X, np.array([1, 2])) + 3\n        >>> reg = LinearRegression().fit(X, y)\n        >>> reg.coef_\n        array([3., 1., 2.0])\n        >>> reg.predict(np.array([[3, 5]]))\n        array([16.])\n        \"\"\"\n    def __init__(self, fit_intercept=True):\n        self.fit_intercept = fit_intercept\n    ...\n\n2) Add the call to doctest module ad the end of the python file:\n\n::\n\n    if __name__ == \"__main__\":\n        import doctest\n        doctest.testmod()     \n\n3) Run doc tests:\n\n::\n\n    python stat_pkg/supervised_models.py\n\nTest failed with the output:\n\n::\n\n    **********************************************************************\n    File \".../supervised_models.py\", line 36, in __main__.LinearRegression\n    Failed example:\n        reg.coef_\n    Expected:\n        array([3., 1., 2.0])\n    Got:\n        array([3., 1., 2.])\n    **********************************************************************\n    1 items had failures:\n       1 of   7 in __main__.LinearRegression\n    ***Test Failed*** 1 failures.\n\n\n"
      ]
    },
    {
      "cell_type": "markdown",
      "metadata": {},
      "source": [
        "~~~~~~~~~~~~~~~~~~~~~~~~\n\n\n"
      ]
    },
    {
      "cell_type": "markdown",
      "metadata": {},
      "source": [
        "# Exercises\n\n\n"
      ]
    },
    {
      "cell_type": "markdown",
      "metadata": {},
      "source": [
        "## Exercise 1: functions\n\nCreate a function that acts as a simple calculator taking three parameters:\nthe two operand and the operation in \"+\", \"-\", and \"*\". As default use \"+\".\nIf the operation is misspecified, return a error message Ex: ``calc(4,5,\"*\")`` returns 20 Ex:\n``calc(3,5)`` returns 8 Ex: ``calc(1, 2, \"something\")`` returns error\nmessage\n\n\n"
      ]
    },
    {
      "cell_type": "markdown",
      "metadata": {},
      "source": [
        "## Exercise 2: functions + list + loop\n\nGiven a list of numbers, return a list where all adjacent duplicate\nelements have been reduced to a single element. Ex: ``[1, 2, 2, 3, 2]``\nreturns ``[1, 2, 3, 2]``. You may create a new list or modify the passed\nin list.\n\nRemove all duplicate values (adjacent or not) Ex: ``[1, 2, 2, 3, 2]``\nreturns ``[1, 2, 3]``\n\n\n"
      ]
    },
    {
      "cell_type": "markdown",
      "metadata": {},
      "source": [
        "## Exercise 3: File I/O\n\n1. Copy/paste the BSD 4 clause license (https://en.wikipedia.org/wiki/BSD_licenses)\ninto a text file. Read, the file and count the occurrences of each\nword within the file. Store the words' occurrence number in a dictionary.\n\n2. Write an executable python command ``count_words.py`` that parse\na list of input files provided after ``--input`` parameter.\nThe dictionary of occurrence is save in a csv file provides by ``--output``.\nwith default value word_count.csv.\nUse:\n- open\n- regular expression\n- argparse (https://docs.python.org/3/howto/argparse.html)\n\n"
      ]
    },
    {
      "cell_type": "markdown",
      "metadata": {},
      "source": [
        "## Exercise 4: OOP\n\n1. Create a class ``Employee`` with 2 attributes provided in the\n   constructor: ``name``, ``years_of_service``. With one method\n   ``salary`` with is obtained by ``1500 + 100 * years_of_service``.\n\n2. Create a subclass ``Manager`` which redefine ``salary`` method\n   ``2500 + 120 * years_of_service``.\n\n3. Create a small dictionary-nosed database where the key is the\n   employee's name. Populate the database with: samples =\n   Employee('lucy', 3), Employee('john', 1), Manager('julie', 10),\n   Manager('paul', 3)\n\n4. Return a table of made name, salary rows, i.e. a list of list [[name,\n   salary]]\n\n5. Compute the average salary\n\n"
      ]
    }
  ],
  "metadata": {
    "kernelspec": {
      "display_name": "Python 3",
      "language": "python",
      "name": "python3"
    },
    "language_info": {
      "codemirror_mode": {
        "name": "ipython",
        "version": 3
      },
      "file_extension": ".py",
      "mimetype": "text/x-python",
      "name": "python",
      "nbconvert_exporter": "python",
      "pygments_lexer": "ipython3",
      "version": "3.13.2"
    }
  },
  "nbformat": 4,
  "nbformat_minor": 0
}