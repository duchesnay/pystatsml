{
  "cells": [
    {
      "cell_type": "markdown",
      "metadata": {},
      "source": [
        "\nCreated on Sat Jan 16 10:03:29 2016\n\n@author: edouard.duchesnay@gmail.com\n"
      ]
    },
    {
      "cell_type": "markdown",
      "metadata": {},
      "source": [
        "# Exercise 1: functions\n\nCreate a function that acts as a simple calulator If the operation is\nnot specified, default to addition If the operation is misspecified,\nreturn an prompt message Ex: ``calc(4,5,\"multiply\")`` returns 20 Ex:\n``calc(3,5)`` returns 8 Ex: ``calc(1, 2, \"something\")`` returns error\nmessage\n\n\n"
      ]
    },
    {
      "cell_type": "code",
      "execution_count": null,
      "metadata": {
        "collapsed": false
      },
      "outputs": [],
      "source": [
        "def calc(a, b, op='add'):\n    if op == 'add':\n        return a + b\n    elif op == 'sub':\n        return a - b\n    else:\n        print('valid operations are add and sub')\n\n\n# call the function\ncalc(10, 4, op='add')   # returns 14\ncalc(10, 4, 'add')      # also returns 14: unnamed arguments are inferred by position\ncalc(10, 4)             # also returns 14: default for 'op' is 'add'\ncalc(10, 4, 'sub')      # returns 6\ncalc(10, 4, 'div')      # prints 'valid operations are add and sub'\n\na, b, op = 2, 3, \"+\"\n\n\ndef calc2(a, b, op='+'):\n    st = \"%.f %s %.f\" % (a, op, b)\n    return eval(st)\n\n\ncalc2(3, 3, \"+\")"
      ]
    },
    {
      "cell_type": "markdown",
      "metadata": {},
      "source": [
        "# Exercise 2: functions + list + loop\n\nGiven a list of numbers, return a list where all adjacent duplicate\nelements have been reduced to a single element. Ex: ``[1, 2, 2, 3, 2]``\nreturns ``[1, 2, 3, 2]``. You may create a new list or modify the passed\nin list.\n\nRemove all duplicate values (adjacent or not) Ex: ``[1, 2, 2, 3, 2]``\nreturns ``[1, 2, 3]``\n\n\n"
      ]
    },
    {
      "cell_type": "code",
      "execution_count": null,
      "metadata": {
        "collapsed": false
      },
      "outputs": [],
      "source": [
        "def remove_adjacent_duplicates(original_list):\n    new_list = []\n    new_list.append(original_list[0])\n    for num in original_list[1:]:\n        if num != new_list[-1]:\n            new_list.append(num)\n    return new_list\n\nremove_adjacent_duplicates([1, 2, 2, 3, 2])\n\ndef remove_duplicates(original_list):\n    new_list = []\n    for num in original_list:\n        if num not in new_list:\n            new_list.append(num)\n    return new_list\n\nremove_duplicates([3, 2, 2, 1, 2])\n\n# or this solution mights modify the order\n\ndef remove_duplicates(original_list):\n    return(list(set(original_list)))\n\nremove_duplicates([3, 2, 2, 1, 2])"
      ]
    },
    {
      "cell_type": "markdown",
      "metadata": {},
      "source": [
        "# Exercise 3: File I/O\n\n1. Copy/paste the BSD 4 clause license (https://en.wikipedia.org/wiki/BSD_licenses)\ninto a text file. Read, the file and count the occurrences of each\nword within the file. Store the words' occurrence number in a dictionary.\n\n2. Write an executable python command ``count_words.py`` that parse\na list of input files provided after ``--input`` parameter.\nThe dictionary of occurrence is save in a csv file provides by ``--output``.\nwith default value word_count.csv.\nUse:\n- open\n- regular expression\n- argparse (https://docs.python.org/3/howto/argparse.html)\n\n"
      ]
    },
    {
      "cell_type": "code",
      "execution_count": null,
      "metadata": {
        "collapsed": false
      },
      "outputs": [],
      "source": [
        "bsd_4clause = \"\"\"\nCopyright (c) <year>, <copyright holder>\nAll rights reserved.\n\nRedistribution and use in source and binary forms, with or without\nmodification, are permitted provided that the following conditions are met:\n1. Redistributions of source code must retain the above copyright\n   notice, this list of conditions and the following disclaimer.\n2. Redistributions in binary form must reproduce the above copyright\n   notice, this list of conditions and the following disclaimer in the\n   documentation and/or other materials provided with the distribution.\n3. All advertising materials mentioning features or use of this software\n   must display the following acknowledgement:\n   This product includes software developed by the <organization>.\n4. Neither the name of the <organization> nor the\n   names of its contributors may be used to endorse or promote products\n   derived from this software without specific prior written permission.\n\nTHIS SOFTWARE IS PROVIDED BY <COPYRIGHT HOLDER> ''AS IS'' AND ANY\nEXPRESS OR IMPLIED WARRANTIES, INCLUDING, BUT NOT LIMITED TO, THE IMPLIED\nWARRANTIES OF MERCHANTABILITY AND FITNESS FOR A PARTICULAR PURPOSE ARE\nDISCLAIMED. IN NO EVENT SHALL <COPYRIGHT HOLDER> BE LIABLE FOR ANY\nDIRECT, INDIRECT, INCIDENTAL, SPECIAL, EXEMPLARY, OR CONSEQUENTIAL DAMAGES\n(INCLUDING, BUT NOT LIMITED TO, PROCUREMENT OF SUBSTITUTE GOODS OR SERVICES;\nLOSS OF USE, DATA, OR PROFITS; OR BUSINESS INTERRUPTION) HOWEVER CAUSED AND\nON ANY THEORY OF LIABILITY, WHETHER IN CONTRACT, STRICT LIABILITY, OR TORT\n(INCLUDING NEGLIGENCE OR OTHERWISE) ARISING IN ANY WAY OUT OF THE USE OF THIS\nSOFTWARE, EVEN IF ADVISED OF THE POSSIBILITY OF SUCH DAMAGE.\n\"\"\"\n\nimport os\nimport tempfile\n\ntmpfilename = os.path.join(tempfile.gettempdir(),\n                       \"bsd.txt\")\n\nfd = open(tmpfilename, \"w\")\nfd.write(bsd_4clause)\nfd.close()\n\n\nfd = open(tmpfilename, \"r\")\n\ncount = dict()\ncount = {}\n\nfor line in fd:    \n    line = line.lower()\n    for word in line.split():\n        if not word in count:\n            count[word] = 1\n        else:\n            count[word] += 1\n\nfd.close()\n\nprint(count)\n\n\"\"\"\nComment to deal with missing import of urllib2\n\nimport urllib2\nurl = \"https://www.gnu.org/licenses/gpl-3.0.txt\"\nf = urllib2.urlopen(url)\ncontent = f.read()\nf.close()\ncontent = content.replace(\"\\n\", \" \")\ncontent = content.lower()\nc = content.split(' ')\nprint(len(c))\nfrom collections import Counter\nprint(Counter(c))\n\"\"\""
      ]
    },
    {
      "cell_type": "markdown",
      "metadata": {},
      "source": [
        "# Exercise 4: OOP\n\n1. Create a class ``Employee`` with 2 attributes provided in the\n   constructor: ``name``, ``years_of_service``. With one method\n   ``salary`` with is obtained by ``1500 + 100 * years_of_service``.\n\n2. Create a subclass ``Manager`` which redefine ``salary`` method\n   ``2500 + 120 * years_of_service``.\n\n3. Create a small dictionary database where the key is the\n   employee's name. Populate the database with: samples =\n   Employee('lucy', 3), Employee('john', 1), Manager('julie', 10),\n   Manager('paul', 3)\n\n4. Return a table of made name, salary rows, i.e. a list of list [[name,\n   salary]]\n\n5. Compute the average salary\n\n"
      ]
    },
    {
      "cell_type": "code",
      "execution_count": null,
      "metadata": {
        "collapsed": false
      },
      "outputs": [],
      "source": [
        "import pandas as pd\n\n\nclass Employee:\n    def __init__(self, name, years_of_service):\n        self.name = name\n        self.years_of_service = years_of_service\n\n    def salary(self):\n        return 1500 + 100 * self.years_of_service\n\n\nclass Manager(Employee):\n    def salary(self):\n        return 2500 + 120 * self.years_of_service\n\n\nsamples = [Employee(\"lucy\", 3),\n           Employee(\"john\", 1),\n           Manager('julie', 3),\n           Manager('paul', 1)]\n\nemployees = {e.name: e for e in samples}\n\nemployees.keys()\n\ndf = pd.DataFrame([[name, obj.salary()] for name, obj in employees.items()],\n             columns=['name', 'salary'])\n\n[[name, employees[name].salary()] for name\n      in employees]\n\nsum([e.salary() for e in employees.values()]) / len(employees)"
      ]
    }
  ],
  "metadata": {
    "kernelspec": {
      "display_name": "Python 3",
      "language": "python",
      "name": "python3"
    },
    "language_info": {
      "codemirror_mode": {
        "name": "ipython",
        "version": 3
      },
      "file_extension": ".py",
      "mimetype": "text/x-python",
      "name": "python",
      "nbconvert_exporter": "python",
      "pygments_lexer": "ipython3",
      "version": "3.13.2"
    }
  },
  "nbformat": 4,
  "nbformat_minor": 0
}