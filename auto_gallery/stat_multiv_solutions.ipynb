{
  "cells": [
    {
      "cell_type": "markdown",
      "metadata": {},
      "source": [
        "\n# Munivariate statistics exercises\n"
      ]
    },
    {
      "cell_type": "code",
      "execution_count": null,
      "metadata": {
        "collapsed": false
      },
      "outputs": [],
      "source": [
        "import pandas as pd\nimport numpy as np\nimport matplotlib.pyplot as plt\n#%matplotlib inline\nnp.random.seed(seed=42)  # make the example reproducible\n\n'''\n### Dot product and Euclidean norm\n'''\n\na = np.array([2,1])\nb = np.array([1,1])\n\ndef euclidian(x):\n    return np.sqrt(np.dot(x, x))\n\neuclidian(a)\n\neuclidian(a - b)\n\nnp.dot(b, a / euclidian(a))\n\nX = np.random.randn(100, 2)\nnp.dot(X, a / euclidian(a))\n\n'''\n### Covariance matrix and Mahalanobis norm\n'''\n\nN = 100\nmu = np.array([1, 1])\nCov = np.array([[1, .8],\n                [.8, 1]])\n\nX = np.random.multivariate_normal(mu, Cov, N)\n\nxbar = np.mean(X, axis=0)\nprint(xbar)\n\nXc = (X - xbar)\n\nnp.mean(Xc, axis=0)\n\nS = 1 / (N - 1) * np.dot(Xc.T, Xc)\nprint(S)\n\n#import scipy\n\nSinv = np.linalg.inv(S)\n\n\ndef mahalanobis(x, xbar, Sinv):\n    xc = x - xbar\n    return np.sqrt(np.dot(np.dot(xc, Sinv), xc))\n\ndists = pd.DataFrame(\n[[mahalanobis(X[i, :], xbar, Sinv),\n  euclidian(X[i, :] - xbar)] for i in range(X.shape[0])],\n            columns = ['Mahalanobis', 'Euclidean'])\n\nprint(dists[:10])\n\nx = X[0, :]\n\nimport scipy.spatial\nassert(mahalanobis(X[0, :], xbar, Sinv) == scipy.spatial.distance.mahalanobis(xbar, X[0, :], Sinv))\nassert(mahalanobis(X[1, :], xbar, Sinv) == scipy.spatial.distance.mahalanobis(xbar, X[1, :], Sinv))"
      ]
    }
  ],
  "metadata": {
    "kernelspec": {
      "display_name": "Python 3",
      "language": "python",
      "name": "python3"
    },
    "language_info": {
      "codemirror_mode": {
        "name": "ipython",
        "version": 3
      },
      "file_extension": ".py",
      "mimetype": "text/x-python",
      "name": "python",
      "nbconvert_exporter": "python",
      "pygments_lexer": "ipython3",
      "version": "3.13.2"
    }
  },
  "nbformat": 4,
  "nbformat_minor": 0
}