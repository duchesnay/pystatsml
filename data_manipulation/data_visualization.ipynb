{
 "cells": [
  {
   "cell_type": "markdown",
   "metadata": {},
   "source": [
    "# Data visualization: matplotlib & seaborn \n",
    "\n",
    "Sources:\n",
    "\n",
    "- [Matplotlib - Quick Guide](https://www.tutorialspoint.com/matplotlib/matplotlib_quick_guide.htm)\n",
    "\n",
    "## Parameter\n"
   ]
  },
  {
   "cell_type": "code",
   "execution_count": null,
   "metadata": {},
   "outputs": [],
   "source": [
    "import numpy as np\n",
    "import matplotlib.pyplot as plt\n",
    "import seaborn as sns\n",
    "\n",
    "# Adjust default figure size\n",
    "fig_w, fig_h = plt.rcParams.get('figure.figsize')\n",
    "plt.rcParams['figure.figsize'] = (fig_w, fig_h * .5)\n",
    "\n",
    "# inline plot (for jupyter)\n",
    "%matplotlib inline"
   ]
  },
  {
   "cell_type": "markdown",
   "metadata": {},
   "source": [
    "Set [style](https://matplotlib.org/stable/gallery/style_sheets/style_sheets_reference.html)"
   ]
  },
  {
   "cell_type": "code",
   "execution_count": null,
   "metadata": {},
   "outputs": [],
   "source": [
    "print(plt.style.available)\n",
    "plt.style.use('seaborn-v0_8-whitegrid')\n"
   ]
  },
  {
   "cell_type": "markdown",
   "metadata": {},
   "source": [
    "\n",
    "## Basic plots"
   ]
  },
  {
   "cell_type": "code",
   "execution_count": null,
   "metadata": {},
   "outputs": [],
   "source": [
    "plt.figure(figsize=(9, 3))\n",
    "x = np.linspace(0, 10, 50)\n",
    "sinus = np.sin(x)\n",
    "\n",
    "plt.plot(x, sinus)\n",
    "plt.show()"
   ]
  },
  {
   "cell_type": "code",
   "execution_count": null,
   "metadata": {},
   "outputs": [],
   "source": [
    "plt.figure(figsize=(9, 3))\n",
    "\n",
    "plt.plot(x, sinus, \"o\")\n",
    "plt.show()\n",
    "# use plt.plot to get color / marker abbreviations"
   ]
  },
  {
   "cell_type": "code",
   "execution_count": null,
   "metadata": {},
   "outputs": [],
   "source": [
    "# Rapid multiplot\n",
    "\n",
    "plt.figure(figsize=(9, 3))\n",
    "cosinus = np.cos(x)\n",
    "plt.plot(x, sinus, \"-b\", x, sinus, \"ob\", x, cosinus, \"-r\", x, cosinus, \"or\")\n",
    "plt.xlabel('this is x!')\n",
    "plt.ylabel('this is y!')\n",
    "plt.title('My First Plot')\n",
    "plt.show()"
   ]
  },
  {
   "cell_type": "code",
   "execution_count": null,
   "metadata": {},
   "outputs": [],
   "source": [
    "# Step by step\n",
    "\n",
    "plt.figure(figsize=(9, 3))\n",
    "plt.plot(x, sinus, label='sinus', color='blue', linestyle='--', linewidth=2)\n",
    "plt.plot(x, cosinus, label='cosinus', color='red', linestyle='-', linewidth=2)\n",
    "plt.legend()\n",
    "plt.show()"
   ]
  },
  {
   "cell_type": "markdown",
   "metadata": {},
   "source": [
    "## Scatter (2D) plots\n",
    "\n",
    "Load dataset"
   ]
  },
  {
   "cell_type": "code",
   "execution_count": null,
   "metadata": {},
   "outputs": [],
   "source": [
    "import pandas as pd\n",
    "try:\n",
    "    salary = pd.read_csv(\"../datasets/salary_table.csv\")\n",
    "except:\n",
    "    url = 'https://github.com/duchesnay/pystatsml/raw/master/datasets/salary_table.csv'\n",
    "    salary = pd.read_csv(url)\n",
    "\n",
    "df = salary\n",
    "print(df.head())"
   ]
  },
  {
   "cell_type": "markdown",
   "metadata": {},
   "source": [
    "### Simple scatter with colors"
   ]
  },
  {
   "cell_type": "code",
   "execution_count": null,
   "metadata": {},
   "outputs": [],
   "source": [
    "plt.figure(figsize=(3, 3), dpi=100)\n",
    "_ = sns.scatterplot(x=\"experience\", y=\"salary\", hue=\"education\", data=salary)"
   ]
  },
  {
   "cell_type": "markdown",
   "metadata": {},
   "source": [
    "Legend outside"
   ]
  },
  {
   "cell_type": "code",
   "execution_count": null,
   "metadata": {},
   "outputs": [],
   "source": [
    "ax = sns.relplot(x=\"experience\", y=\"salary\", hue=\"education\", data=salary)"
   ]
  },
  {
   "cell_type": "markdown",
   "metadata": {},
   "source": [
    "### Linear model"
   ]
  },
  {
   "cell_type": "code",
   "execution_count": null,
   "metadata": {},
   "outputs": [],
   "source": [
    "ax = sns.lmplot(x=\"experience\", y=\"salary\", hue=\"education\", data=salary)"
   ]
  },
  {
   "cell_type": "markdown",
   "metadata": {},
   "source": [
    "### Scatter plot with colors and symbols"
   ]
  },
  {
   "cell_type": "code",
   "execution_count": null,
   "metadata": {},
   "outputs": [],
   "source": [
    "ax = sns.relplot(x=\"experience\", y=\"salary\", hue=\"education\", style='management', data=salary)"
   ]
  },
  {
   "cell_type": "markdown",
   "metadata": {},
   "source": [
    "## Saving Figures"
   ]
  },
  {
   "cell_type": "code",
   "execution_count": null,
   "metadata": {},
   "outputs": [],
   "source": [
    "### bitmap format\n",
    "plt.plot(x, sinus)\n",
    "plt.savefig(\"sinus.png\")\n",
    "plt.close()\n",
    "\n",
    "# Prefer vectorial format (SVG: Scalable Vector Graphics) can be edited with \n",
    "# Inkscape, Adobe Illustrator, Blender, etc.\n",
    "plt.plot(x, sinus)\n",
    "plt.savefig(\"sinus.svg\")\n",
    "plt.close()\n",
    "\n",
    "# Or pdf\n",
    "plt.plot(x, sinus)\n",
    "plt.savefig(\"sinus.pdf\")\n",
    "plt.close()"
   ]
  },
  {
   "cell_type": "markdown",
   "metadata": {},
   "source": [
    "### Boxplot and violin plot: one factor\n",
    "\n",
    "Box plots are non-parametric: they display variation in samples of a statistical population without making any assumptions of the underlying statistical distribution."
   ]
  },
  {
   "cell_type": "code",
   "execution_count": null,
   "metadata": {},
   "outputs": [],
   "source": [
    "ax = sns.boxplot(x=\"management\", y=\"salary\", data=salary)\n",
    "ax = sns.stripplot(x=\"management\", y=\"salary\", data=salary, jitter=True, color=\"black\")"
   ]
  },
  {
   "cell_type": "code",
   "execution_count": null,
   "metadata": {},
   "outputs": [],
   "source": [
    "ax = sns.violinplot(x=\"management\", y=\"salary\", data=salary)\n",
    "ax = sns.stripplot(x=\"management\", y=\"salary\", data=salary, jitter=True, color=\"white\")"
   ]
  },
  {
   "cell_type": "markdown",
   "metadata": {},
   "source": [
    "### Boxplot and violin plot: two factors"
   ]
  },
  {
   "cell_type": "code",
   "execution_count": null,
   "metadata": {},
   "outputs": [],
   "source": [
    "ax = sns.boxplot(x=\"management\", y=\"salary\", hue=\"education\", data=salary)\n",
    "ax = sns.stripplot(x=\"management\", y=\"salary\", hue=\"education\", data=salary, jitter=True, dodge=True, linewidth=1)"
   ]
  },
  {
   "cell_type": "code",
   "execution_count": null,
   "metadata": {},
   "outputs": [],
   "source": [
    "ax = sns.violinplot(x=\"management\", y=\"salary\", hue=\"education\", data=salary)\n",
    "ax = sns.stripplot(x=\"management\", y=\"salary\", hue=\"education\", data=salary, jitter=True, dodge=True, linewidth=1)"
   ]
  },
  {
   "cell_type": "markdown",
   "metadata": {},
   "source": [
    "### Distributions and density plot\n",
    "\n",
    "#### Histogram as probability density function estimator\n",
    "\n",
    "[numpy.histogram](https://numpy.org/doc/stable/reference/generated/numpy.histogram.html#numpy.histogram) can be used to probability density function at the each histogram bin, setting `density=True` parameter.\n",
    "\n",
    "Warning, [histogram doesn't sum to 1](https://stackoverflow.com/questions/21532667/numpy-histogram-cumulative-density-does-not-sum-to-1). Histogram as PDF estimator should be multiplied by dx's to sum to 1."
   ]
  },
  {
   "cell_type": "code",
   "execution_count": null,
   "metadata": {},
   "outputs": [],
   "source": []
  },
  {
   "cell_type": "markdown",
   "metadata": {},
   "source": [
    "\n",
    "[Distributions with seaborn](https://seaborn.pydata.org/tutorial/distributions.html)\n"
   ]
  },
  {
   "cell_type": "code",
   "execution_count": null,
   "metadata": {},
   "outputs": [],
   "source": [
    "ax = sns.displot(x=\"salary\", hue=\"management\", kind=\"kde\", data=salary, fill=True)"
   ]
  },
  {
   "cell_type": "markdown",
   "metadata": {},
   "source": [
    "## Multiple axis"
   ]
  },
  {
   "cell_type": "code",
   "execution_count": null,
   "metadata": {},
   "outputs": [],
   "source": [
    "fig, axes = plt.subplots(3, 1, figsize=(9, 9), sharex=True)\n",
    "\n",
    "i = 0\n",
    "for edu, d in salary.groupby(['education']):\n",
    "    sns.kdeplot(x=\"salary\", hue=\"management\", data=d, fill=True, ax=axes[i], palette=\"muted\")\n",
    "    axes[i].set_title(edu)\n",
    "    i += 1"
   ]
  },
  {
   "cell_type": "markdown",
   "metadata": {},
   "source": [
    "## Pairwise scatter plots"
   ]
  },
  {
   "cell_type": "code",
   "execution_count": null,
   "metadata": {},
   "outputs": [],
   "source": [
    "ax = sns.pairplot(salary, hue=\"management\")"
   ]
  },
  {
   "cell_type": "markdown",
   "metadata": {},
   "source": [
    "## Time series"
   ]
  },
  {
   "cell_type": "code",
   "execution_count": null,
   "metadata": {},
   "outputs": [],
   "source": [
    "import seaborn as sns\n",
    "sns.set(style=\"darkgrid\")\n",
    "\n",
    "# Load an example dataset with long-form data\n",
    "fmri = sns.load_dataset(\"fmri\")\n",
    "\n",
    "# Plot the responses for different events and regions\n",
    "ax = sns.pointplot(x=\"timepoint\", y=\"signal\",\n",
    "             hue=\"region\", data=fmri)"
   ]
  }
 ],
 "metadata": {
  "anaconda-cloud": {},
  "kernelspec": {
   "display_name": "Python 3",
   "language": "python",
   "name": "python3"
  },
  "language_info": {
   "codemirror_mode": {
    "name": "ipython",
    "version": 3
   },
   "file_extension": ".py",
   "mimetype": "text/x-python",
   "name": "python",
   "nbconvert_exporter": "python",
   "pygments_lexer": "ipython3",
   "version": "3.12.4"
  }
 },
 "nbformat": 4,
 "nbformat_minor": 2
}
