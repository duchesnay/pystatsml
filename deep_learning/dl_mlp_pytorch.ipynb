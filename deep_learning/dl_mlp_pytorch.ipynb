{
 "cells": [
  {
   "cell_type": "markdown",
   "metadata": {},
   "source": [
    "# Multilayer Perceptron (MLP)\n",
    "\n",
    "\n",
    "Sources:\n",
    "\n",
    "Sources:\n",
    "\n",
    "- [3Blue1Brown video: But what is a neural network? | Deep learning chapter 1](https://www.youtube.com/watch?v=aircAruvnKk&list=PLZHQObOWTQDNU6R1_67000Dx_ZCJB-3pi&index=1)\n",
    "- [Stanford cs231n: Deep learning ](http://cs231n.stanford.edu/)\n",
    "- [Pytorch: WWW tutorials](https://pytorch.org/tutorials/)\n",
    "- [Pytorch: github tutorials](https://github.com/pytorch/tutorials)\n",
    "- [Pytorch: github examples](https://github.com/pytorch/examples)\n",
    "- [Pytorch examples](https://pytorch.org/tutorials/beginner/pytorch_with_examples.html)\n",
    "- [MNIST/pytorch nextjournal.com/gkoehler/pytorch-mnist](https://nextjournal.com/gkoehler/pytorch-mnist)\n",
    "- [Pytorch: github/pytorch/examples](https://github.com/pytorch/examples/tree/master/mnist)\n",
    "- [kaggle: MNIST/pytorch](https://www.kaggle.com/sdelecourt/cnn-with-pytorch-for-mnist)\n"
   ]
  },
  {
   "cell_type": "code",
   "execution_count": null,
   "metadata": {},
   "outputs": [],
   "source": [
    "%matplotlib inline\n",
    "\n",
    "import os\n",
    "import numpy as np\n",
    "import torch\n",
    "import torch.nn as nn\n",
    "import torch.nn.functional as F\n",
    "import torch.optim as optim\n",
    "from torch.optim import lr_scheduler\n",
    "import torchvision\n",
    "from torchvision import transforms\n",
    "from torchvision import datasets\n",
    "from torchvision import models\n",
    "#\n",
    "from pathlib import Path\n",
    "# Plot\n",
    "import matplotlib.pyplot as plt\n",
    "import seaborn as sns\n",
    "\n",
    "# Plot parameters\n",
    "plt.style.use('seaborn-v0_8-whitegrid')\n",
    "fig_w, fig_h = plt.rcParams.get('figure.figsize')\n",
    "plt.rcParams['figure.figsize'] = (fig_w, fig_h * .5)\n",
    "%matplotlib inline\n",
    "\n",
    "# Device configuration\n",
    "device = torch.device('cuda:0' if torch.cuda.is_available() else 'cpu')\n",
    "#device = 'cpu' # Force CPU\n",
    "print(device)"
   ]
  },
  {
   "cell_type": "markdown",
   "metadata": {},
   "source": [
    "## Single Layer Softmax Classifier (Multinomial Logistic Regression)\n",
    "\n",
    "Recall of Binary logistic regression\n",
    "\n",
    "<img src=\"figures/logistic.png\" width=\"300\">\n",
    "\n",
    "One neuron as output layer\n",
    "$$\n",
    "f(\\boldsymbol{x}) = \\sigma(\\boldsymbol{x}^{T} \\boldsymbol{w} + b)\n",
    "$$\n",
    "\n",
    "Where\n",
    "\n",
    "- Input: $\\boldsymbol{x}$: a vector of dimension $(p)$ (layer 0).\n",
    "- Parameters: $\\boldsymbol{w}$: a vector of dimension $(p)$ (layer 1). $b$ is the scalar bias.\n",
    "- Output: $f(\\boldsymbol{x})$ a vector of dimension 1. \n",
    "\n",
    "With multinomial logistic regression we have $k$ possible labels to predict. If we consider the MNIST Handwritten Digit Recognition, the inputs is a $28 \\times 28=784$ image and the output is a vector of $k=10$ labels or probabilities.\n",
    "\n",
    "<img src=\"figures/logistic_multinominal.png\" width=\"300\">\n",
    "\n",
    "$$\n",
    "f(\\boldsymbol{x}) = \\text{softmax}(\\boldsymbol{x}^{T} \\boldsymbol{W} + \\boldsymbol{b})\n",
    "$$\n",
    "\n",
    "- Input: $\\boldsymbol{x}$: a vector of dimension $(p=784)$ (layer 0).\n",
    "- Parameters: $\\boldsymbol{W}$: the matrix of coefficients of dimension $(p \\times k)$ (layer 1).\n",
    "  $b$ is a $(k)$-dimentional vector of bias.\n",
    "- Output: $f(\\boldsymbol{x})$ a vector of dimension $(k=10)$ possible labels \n",
    "\n",
    "The softmax function is a crucial component in many machine learning and deep learning models, particularly in the context of classification tasks. It is used to convert a vector of raw scores (logits) into a probability distribution. Here's a detailed explanation of the softmax function:\n",
    "The softmax function takes a vector of real numbers as input and outputs a vector of probabilities that sum to 1. The formula for the softmax function is:\n",
    "\n",
    "$$\n",
    "\\text{softmax}(z_i) = \\frac{e^{z_i}}{\\sum_{j} e^{z_j}}\n",
    "$$\n",
    "\n",
    "where:\n",
    "- $z_i$ is the $i$-th element of the input vector $\\mathbf{z}$.\n",
    "- $e$ is the base of the natural logarithm.\n",
    "- The sum in the denominator is over all elements of the input vector.\n",
    "\n",
    "Softmax Properties\n",
    "\n",
    "1. **Probability Distribution**: The output of the softmax function is a probability distribution, meaning that all the outputs are non-negative and sum to 1.\n",
    "2. **Exponential Function**: The use of the exponential function ensures that the outputs are positive and that larger input values correspond to larger probabilities.\n",
    "3. **Normalization**: The softmax function normalizes the input values by dividing by the sum of the exponentials of all input values, ensuring that the outputs sum to 1\n",
    "\n",
    "\n",
    "\n",
    "MNIST classfification using multinomial logistic\n",
    "\n",
    "<img src=\"figures/logistic_multinominal_MNIST.png\" width=\"800\">\n",
    "\n",
    "[source: Logistic regression MNIST](https://notebooks.azure.com/cntk/projects/edxdle/html/Lab2_LogisticRegression.ipynb)\n",
    "\n",
    "Here we fit a multinomial logistic regression with L2 penalty on a subset of\n",
    "the MNIST digits classification task.\n",
    "\n",
    "[source: scikit-learn.org](https://scikit-learn.org/stable/auto_examples/linear_model/plot_sparse_logistic_regression_mnist.html)"
   ]
  },
  {
   "cell_type": "markdown",
   "metadata": {},
   "source": [
    "Hyperparameters"
   ]
  },
  {
   "cell_type": "markdown",
   "metadata": {},
   "source": [
    "## Dataset: MNIST Handwritten Digit Recognition\n",
    "\n",
    "[MNIST Loader](https://github.com/duchesnay/pystatsml/blob/master/lib/pystatsml/datasets.py)"
   ]
  },
  {
   "cell_type": "code",
   "execution_count": null,
   "metadata": {},
   "outputs": [],
   "source": [
    "from pystatsml.datasets import load_mnist_pytorch\n",
    "\n",
    "dataloaders, WD = load_mnist_pytorch(batch_size_train=64, batch_size_test=10000)\n",
    "os.makedirs(os.path.join(WD, \"models\"), exist_ok=True)\n",
    "\n",
    "# Info about the dataset\n",
    "D_in = np.prod(dataloaders[\"train\"].dataset.data.shape[1:])\n",
    "D_out = len(dataloaders[\"train\"].dataset.targets.unique())\n",
    "print(\"Datasets shapes:\", {x: dataloaders[x].dataset.data.shape for x in ['train', 'test']})\n",
    "print(\"N input features:\", D_in, \"Output classes:\", D_out)"
   ]
  },
  {
   "cell_type": "markdown",
   "metadata": {},
   "source": [
    "Now let's take a look at some mini-batches examples.\n"
   ]
  },
  {
   "cell_type": "code",
   "execution_count": null,
   "metadata": {},
   "outputs": [],
   "source": [
    "batch_idx, (example_data, example_targets) = next(enumerate(dataloaders[\"train\"]))\n",
    "print(\"Train batch:\", example_data.shape, example_targets.shape)\n",
    "batch_idx, (example_data, example_targets) = next(enumerate(dataloaders[\"test\"]))\n",
    "print(\"Val batch:\", example_data.shape, example_targets.shape)"
   ]
  },
  {
   "cell_type": "markdown",
   "metadata": {},
   "source": [
    "So one test data batch is a tensor of shape: . This means we have 1000 examples of 28x28 pixels in grayscale\n",
    "(i.e. no rgb channels, hence the one). We can plot some of them using matplotlib.\n",
    "\n"
   ]
  },
  {
   "cell_type": "code",
   "execution_count": null,
   "metadata": {},
   "outputs": [],
   "source": [
    "def show_data_label_prediction(data, y_true, y_pred=None, shape=(2, 3)):\n",
    "    y_pred = [None] * len(y_true) if y_pred is None else y_pred\n",
    "    fig = plt.figure()\n",
    "    for i in range(np.prod(shape)):\n",
    "        plt.subplot(*shape, i+1)\n",
    "        plt.tight_layout()\n",
    "        plt.imshow(data[i][0], cmap='gray', interpolation='none')\n",
    "        plt.title(\"True: {} Pred: {}\".format(y_true[i], y_pred[i]))\n",
    "        plt.xticks([])\n",
    "        plt.yticks([])\n",
    "\n",
    "show_data_label_prediction(data=example_data, y_true=example_targets, y_pred=None, shape=(2, 3))"
   ]
  },
  {
   "cell_type": "code",
   "execution_count": null,
   "metadata": {},
   "outputs": [],
   "source": [
    "X_train = dataloaders[\"train\"].dataset.data.numpy()\n",
    "X_train = X_train.reshape((X_train.shape[0], -1))\n",
    "y_train = dataloaders[\"train\"].dataset.targets.numpy()\n",
    "\n",
    "X_test = dataloaders[\"test\"].dataset.data.numpy()\n",
    "X_test = X_test.reshape((X_test.shape[0], -1))\n",
    "y_test = dataloaders[\"test\"].dataset.targets.numpy()\n",
    "\n",
    "print(X_train.shape, y_train.shape)"
   ]
  },
  {
   "cell_type": "code",
   "execution_count": null,
   "metadata": {},
   "outputs": [],
   "source": [
    "import matplotlib.pyplot as plt\n",
    "import numpy as np\n",
    "\n",
    "from sklearn.linear_model import LogisticRegression\n",
    "#from sklearn.model_selection import train_test_split\n",
    "from sklearn.preprocessing import StandardScaler\n",
    "from sklearn.utils import check_random_state\n",
    "\n",
    "scaler = StandardScaler()\n",
    "X_train = scaler.fit_transform(X_train)\n",
    "X_test = scaler.transform(X_test)\n",
    "\n",
    "# Turn up tolerance for faster convergence\n",
    "#clf = LogisticRegression(C=50., multi_class='multinomial', solver='sag', tol=0.1)\n",
    "clf = LogisticRegression(C=50., solver='sag', tol=0.1)\n",
    "clf.fit(X_train, y_train)\n",
    "#sparsity = np.mean(clf.coef_ == 0) * 100\n",
    "score = clf.score(X_test, y_test)\n",
    "\n",
    "print(\"Test score with penalty: %.4f\" % score)"
   ]
  },
  {
   "cell_type": "code",
   "execution_count": null,
   "metadata": {},
   "outputs": [],
   "source": [
    "coef = clf.coef_.copy()\n",
    "plt.figure(figsize=(10, 5))\n",
    "scale = np.abs(coef).max()\n",
    "for i in range(10):\n",
    "    l1_plot = plt.subplot(2, 5, i + 1)\n",
    "    l1_plot.imshow(coef[i].reshape(28, 28), interpolation='nearest',\n",
    "                   cmap=plt.cm.RdBu, vmin=-scale, vmax=scale)\n",
    "    l1_plot.set_xticks(())\n",
    "    l1_plot.set_yticks(())\n",
    "    l1_plot.set_xlabel('Class %i' % i)\n",
    "plt.suptitle('Classification vector for...')\n",
    "\n",
    "plt.show()"
   ]
  },
  {
   "cell_type": "markdown",
   "metadata": {},
   "source": [
    "## Model: Two Layer MLP\n",
    "\n",
    "### MLP with Scikit-learn"
   ]
  },
  {
   "cell_type": "code",
   "execution_count": null,
   "metadata": {},
   "outputs": [],
   "source": [
    "from sklearn.neural_network import MLPClassifier\n",
    "\n",
    "mlp = MLPClassifier(hidden_layer_sizes=(100, ), max_iter=10, alpha=1e-4,\n",
    "                    solver='sgd', verbose=10, tol=1e-4, random_state=1,\n",
    "                    learning_rate_init=0.01, batch_size=64)\n",
    "\n",
    "mlp.fit(X_train, y_train)\n",
    "print(\"Training set score: %f\" % mlp.score(X_train, y_train))\n",
    "print(\"Test set score: %f\" % mlp.score(X_test, y_test))\n",
    "\n",
    "print(\"Coef shape=\", len(mlp.coefs_))\n",
    "\n",
    "fig, axes = plt.subplots(4, 4)\n",
    "# use global min / max to ensure all weights are shown on the same scale\n",
    "vmin, vmax = mlp.coefs_[0].min(), mlp.coefs_[0].max()\n",
    "for coef, ax in zip(mlp.coefs_[0].T, axes.ravel()):\n",
    "    ax.matshow(coef.reshape(28, 28), cmap=plt.cm.gray, vmin=.5 * vmin,\n",
    "               vmax=.5 * vmax)\n",
    "    ax.set_xticks(())\n",
    "    ax.set_yticks(())\n",
    "\n",
    "plt.show()"
   ]
  },
  {
   "cell_type": "markdown",
   "metadata": {},
   "source": [
    "### MLP with pytorch"
   ]
  },
  {
   "cell_type": "code",
   "execution_count": null,
   "metadata": {},
   "outputs": [],
   "source": [
    "class TwoLayerMLP(nn.Module):\n",
    "\n",
    "    def __init__(self, d_in, d_hidden, d_out):\n",
    "        super(TwoLayerMLP, self).__init__()\n",
    "        self.d_in = d_in\n",
    "        \n",
    "        self.linear1 = nn.Linear(d_in, d_hidden)\n",
    "        self.linear2 = nn.Linear(d_hidden, d_out)\n",
    "\n",
    "    def forward(self, X):\n",
    "        X = X.view(-1, self.d_in)\n",
    "        X = self.linear1(X)\n",
    "        return F.log_softmax(self.linear2(X), dim=1)"
   ]
  },
  {
   "cell_type": "markdown",
   "metadata": {},
   "source": [
    "#### Train the Model\n",
    "\n",
    "- First we want to make sure our network is in training mode.\n",
    "\n",
    "- Iterate over epochs\n",
    "\n",
    "- Alternate train and validation dataset\n",
    "\n",
    "- Iterate over all training/val data once per epoch. Loading the individual batches is handled by the DataLoader.\n",
    "\n",
    "- Set the gradients to zero using `optimizer.zero_grad()` since PyTorch by default accumulates gradients.\n",
    "\n",
    "- Forward pass:\n",
    "  * `model(inputs)`: Produce the output of our network.\n",
    "  * `torch.max(outputs, 1)`: softmax predictions.\n",
    "  * `criterion(outputs, labels)`: loss between the output and the ground truth label.\n",
    "                    \n",
    "- In training mode, backward pass `backward()`: collect a new set of gradients which we propagate back into each of the network's parameters using `optimizer.step()`.\n",
    "\n",
    "- We'll also keep track of the progress with some printouts. In order to create a nice training curve later on we also create two lists for saving training and testing losses. On the x-axis we want to display the number of training examples the network has seen during training.\n",
    "\n",
    "- Save model state: Neural network modules as well as optimizers have the ability to save and load their internal state using `.state_dict()`. With this we can continue training from previously saved state dicts if needed - we'd just need to call `.load_state_dict(state_dict)`."
   ]
  },
  {
   "cell_type": "code",
   "execution_count": null,
   "metadata": {},
   "outputs": [],
   "source": [
    "# %load train_val_model.py\n",
    "from pystatsml.dl_utils import train_val_model"
   ]
  },
  {
   "cell_type": "markdown",
   "metadata": {},
   "source": [
    "Run one epoch and save the model"
   ]
  },
  {
   "cell_type": "code",
   "execution_count": null,
   "metadata": {},
   "outputs": [],
   "source": [
    "model = TwoLayerMLP(D_in, 50, D_out).to(device)\n",
    "print(next(model.parameters()).is_cuda)\n",
    "optimizer = optim.SGD(model.parameters(), lr=0.01, momentum=0.5)\n",
    "criterion = nn.NLLLoss()\n",
    "\n",
    "# Explore the model\n",
    "for parameter in model.parameters():\n",
    "    print(parameter.shape)\n",
    "\n",
    "print(\"Total number of parameters =\", np.sum([np.prod(parameter.shape) for parameter in model.parameters()]))\n",
    "\n",
    "model, losses, accuracies = train_val_model(model, criterion, optimizer, dataloaders,\n",
    "                       num_epochs=1, log_interval=1)\n",
    "\n",
    "print(next(model.parameters()).is_cuda)\n",
    "torch.save(model.state_dict(), \n",
    "           os.path.join(WD, 'models/mod-%s.pth' % model.__class__.__name__))"
   ]
  },
  {
   "cell_type": "markdown",
   "metadata": {},
   "source": [
    "Use the model to make new predictions. Consider the device, ie, load data on device `example_data.to(device)` from prediction, then move back to cpu `example_data.cpu()`."
   ]
  },
  {
   "cell_type": "code",
   "execution_count": null,
   "metadata": {},
   "outputs": [],
   "source": [
    "batch_idx, (example_data, example_targets) = next(enumerate(dataloaders[\"test\"]))\n",
    "example_data = example_data.to(device)\n",
    "\n",
    "with torch.no_grad():\n",
    "  output = model(example_data).cpu()\n",
    "\n",
    "example_data = example_data.cpu()\n",
    "\n",
    "# Softmax predictions \n",
    "preds = output.argmax(dim=1)\n",
    "\n",
    "print(\"Output shape=\", output.shape, \"label shape=\", preds.shape)\n",
    "print(\"Accuracy = {:.2f}%\".format((example_targets == preds).sum().item() * 100. / len(example_targets)))\n",
    "\n",
    "show_data_label_prediction(data=example_data, y_true=example_targets, y_pred=preds, shape=(3, 4))"
   ]
  },
  {
   "cell_type": "markdown",
   "metadata": {},
   "source": [
    "Plot missclassified samples"
   ]
  },
  {
   "cell_type": "code",
   "execution_count": null,
   "metadata": {},
   "outputs": [],
   "source": [
    "errors = example_targets != preds\n",
    "#print(errors, np.where(errors))\n",
    "print(\"Nb errors = {}, (Error rate = {:.2f}%)\".format(errors.sum(), 100 * errors.sum().item() / len(errors)))\n",
    "err_idx = np.where(errors)[0]\n",
    "show_data_label_prediction(data=example_data[err_idx], y_true=example_targets[err_idx],\n",
    "                           y_pred=preds[err_idx], shape=(3, 4))"
   ]
  },
  {
   "cell_type": "markdown",
   "metadata": {},
   "source": [
    "#### Continue training from checkpoints: reload the model and run 10 more epochs"
   ]
  },
  {
   "cell_type": "code",
   "execution_count": null,
   "metadata": {},
   "outputs": [],
   "source": [
    "model = TwoLayerMLP(D_in, 50, D_out)\n",
    "model.load_state_dict(torch.load(os.path.join(WD, 'models/mod-%s.pth' % model.__class__.__name__)))\n",
    "model.to(device)\n",
    "\n",
    "optimizer = optim.SGD(model.parameters(), lr=0.01, momentum=0.5)\n",
    "criterion = nn.NLLLoss()\n",
    "\n",
    "model, losses, accuracies = train_val_model(model, criterion, optimizer, dataloaders,\n",
    "                       num_epochs=10, log_interval=2)\n",
    "\n",
    "_ = plt.plot(losses['train'], '-b', losses['test'], '--r')"
   ]
  },
  {
   "cell_type": "markdown",
   "metadata": {},
   "source": [
    "## Test several MLP architectures\n",
    "\n",
    "- Define a `MultiLayerMLP([D_in, 512, 256, 128, 64, D_out])` class that take the size of the layers as parameters of the constructor.\n",
    "- Add some non-linearity with relu acivation function"
   ]
  },
  {
   "cell_type": "code",
   "execution_count": null,
   "metadata": {},
   "outputs": [],
   "source": [
    "class MLP(nn.Module):\n",
    "\n",
    "    def __init__(self, d_layer):\n",
    "        super(MLP, self).__init__()\n",
    "        self.d_layer = d_layer\n",
    "        # Add linear layers\n",
    "        layer_list = [nn.Linear(d_layer[l], d_layer[l+1])\n",
    "                      for l in range(len(d_layer) - 1)]\n",
    "        self.linears = nn.ModuleList(layer_list)\n",
    "\n",
    "    def forward(self, X):\n",
    "        X = X.view(-1, self.d_layer[0])\n",
    "        # relu(Wl x) for all hidden layer\n",
    "        for layer in self.linears[:-1]:\n",
    "            X = F.relu(layer(X))\n",
    "        # softmax(Wl x) for output layer\n",
    "        return F.log_softmax(self.linears[-1](X), dim=1)"
   ]
  },
  {
   "cell_type": "code",
   "execution_count": null,
   "metadata": {},
   "outputs": [],
   "source": [
    "model = MLP([D_in, 512, 256, 128, 64, D_out]).to(device)\n",
    "\n",
    "optimizer = optim.SGD(model.parameters(), lr=0.01, momentum=0.5)\n",
    "criterion = nn.NLLLoss()\n",
    "\n",
    "model, losses, accuracies = \\\n",
    "    train_val_model(model, criterion, optimizer, dataloaders,\n",
    "                    num_epochs=10, log_interval=2)\n",
    "\n",
    "_ = plt.plot(losses['train'], '-b', losses['test'], '--r')"
   ]
  },
  {
   "cell_type": "markdown",
   "metadata": {},
   "source": [
    "## Reduce the size of training dataset\n",
    "\n",
    "Reduce the size of the training dataset by considering only `10` minibatche for size`16`."
   ]
  },
  {
   "cell_type": "code",
   "execution_count": null,
   "metadata": {},
   "outputs": [],
   "source": [
    "train_size = 10 * 16\n",
    "\n",
    "# Stratified sub-sampling\n",
    "targets = dataloaders[\"train\"].dataset.targets.numpy()\n",
    "nclasses = len(set(targets))\n",
    "\n",
    "indices = np.concatenate([np.random.choice(np.where(targets == lab)[0],\n",
    "                                           int(train_size / nclasses),replace=False) \n",
    "    for lab in set(targets)])\n",
    "np.random.shuffle(indices)\n",
    "\n",
    "train_loader = torch.utils.data.DataLoader(dataloaders[\"train\"].dataset,\n",
    "                                           batch_size=16,\n",
    "        sampler=torch.utils.data.SubsetRandomSampler(indices))\n",
    "\n",
    "# Check train subsampling\n",
    "train_labels = np.concatenate([labels.numpy() for inputs, labels in train_loader])\n",
    "print(\"Train size=\", len(train_labels), \" Train label count=\",\n",
    "      {lab:np.sum(train_labels == lab) for lab in set(train_labels)})\n",
    "print(\"Batch sizes=\", [inputs.size(0) for inputs, labels in train_loader])\n",
    "\n",
    "# Put together train and val\n",
    "dataloaders = dict(train=train_loader, test=dataloaders[\"test\"])\n",
    "                   \n",
    "# Info about the dataset\n",
    "D_in = np.prod(dataloaders[\"train\"].dataset.data.shape[1:])\n",
    "D_out = len(dataloaders[\"train\"].dataset.targets.unique())\n",
    "print(\"Datasets shape\", {x: dataloaders[x].dataset.data.shape\n",
    "                         for x in dataloaders.keys()})\n",
    "print(\"N input features\", D_in, \"N output\", D_out)"
   ]
  },
  {
   "cell_type": "code",
   "execution_count": null,
   "metadata": {},
   "outputs": [],
   "source": [
    "model = MLP([D_in, 512, 256, 128, 64, D_out]).to(device)\n",
    "optimizer = optim.SGD(model.parameters(), lr=0.01, momentum=0.5)\n",
    "criterion = nn.NLLLoss()\n",
    "\n",
    "model, losses, accuracies = \\\n",
    "    train_val_model(model, criterion, optimizer, dataloaders,\n",
    "                    num_epochs=100, log_interval=20)\n",
    "\n",
    "_ = plt.plot(losses['train'], '-b', losses['test'], '--r')"
   ]
  },
  {
   "cell_type": "markdown",
   "metadata": {},
   "source": [
    "Use an opimizer with an adaptative learning rate: Adam"
   ]
  },
  {
   "cell_type": "code",
   "execution_count": null,
   "metadata": {},
   "outputs": [],
   "source": [
    "model = MLP([D_in, 512, 256, 128, 64, D_out]).to(device)\n",
    "optimizer = torch.optim.Adam(model.parameters(), lr=0.001)\n",
    "criterion = nn.NLLLoss()\n",
    "\n",
    "model, losses, accuracies = train_val_model(model, criterion, optimizer, dataloaders,\n",
    "                       num_epochs=100, log_interval=20)\n",
    "\n",
    "_ = plt.plot(losses['train'], '-b', losses['test'], '--r')"
   ]
  },
  {
   "cell_type": "markdown",
   "metadata": {},
   "source": [
    "## Run MLP on CIFAR-10 dataset\n",
    "\n",
    "The CIFAR-10 dataset consists of 60000 32x32 colour images in 10 classes, with 6000 images per class. There are 50000 training images and 10000 test images.\n",
    "\n",
    "The dataset is divided into five training batches and one test batch, each with 10000 images. The test batch contains exactly 1000 randomly-selected images from each class. The training batches contain the remaining images in random order, but some training batches may contain more images from one class than another. Between them, the training batches contain exactly 5000 images from each class.\n",
    "\n",
    "Here are the classes in the dataset, as well as 10 random images from each:\n",
    "- airplane \t\t\t\t\t\t\t\t\t\t\n",
    "- automobile \t\t\t\t\t\t\t\t\t\t\n",
    "- bird \t\t\t\t\t\t\t\t\t\t\n",
    "- cat \t\t\t\t\t\t\t\t\t\t\n",
    "- deer \t\t\t\t\t\t\t\t\t\t\n",
    "- dog \t\t\t\t\t\t\t\t\t\t\n",
    "- frog \t\t\t\t\t\t\t\t\t\t\n",
    "- horse \t\t\t\t\t\t\t\t\t\t\n",
    "- ship \t\t\t\t\t\t\t\t\t\t\n",
    "- truck"
   ]
  },
  {
   "cell_type": "markdown",
   "metadata": {},
   "source": [
    "Load CIFAR-10 dataset [CIFAR-10 Loader](https://github.com/duchesnay/pystatsml/blob/master/lib/pystatsml/datasets.py)"
   ]
  },
  {
   "cell_type": "code",
   "execution_count": null,
   "metadata": {},
   "outputs": [],
   "source": [
    "from pystatsml.datasets import load_cifar10_pytorch\n",
    "\n",
    "dataloaders, _ = load_cifar10_pytorch(batch_size_train=100, batch_size_test=100)\n",
    "\n",
    "# Info about the dataset\n",
    "D_in = np.prod(dataloaders[\"train\"].dataset.data.shape[1:])\n",
    "D_out = len(set(dataloaders[\"train\"].dataset.targets))\n",
    "print(\"Datasets shape:\", {x: dataloaders[x].dataset.data.shape for x in dataloaders.keys()})\n",
    "print(\"N input features:\", D_in, \"N output:\", D_out)"
   ]
  },
  {
   "cell_type": "markdown",
   "metadata": {},
   "source": [
    "Run MLP Classifier with hidden layers of sizes: 512, 256, 128, and 64:"
   ]
  },
  {
   "cell_type": "code",
   "execution_count": null,
   "metadata": {},
   "outputs": [],
   "source": [
    "model = MLP([D_in, 512, 256, 128, 64, D_out]).to(device)\n",
    "optimizer = torch.optim.Adam(model.parameters(), lr=0.001)\n",
    "criterion = nn.NLLLoss()\n",
    "\n",
    "model, losses, accuracies = \\\n",
    "    train_val_model(model, criterion, optimizer, dataloaders,\n",
    "                       num_epochs=50, log_interval=10)\n",
    "\n",
    "_ = plt.plot(losses['train'], '-b', losses['test'], '--r')"
   ]
  }
 ],
 "metadata": {
  "kernelspec": {
   "display_name": "Python 3",
   "language": "python",
   "name": "python3"
  },
  "language_info": {
   "codemirror_mode": {
    "name": "ipython",
    "version": 3
   },
   "file_extension": ".py",
   "mimetype": "text/x-python",
   "name": "python",
   "nbconvert_exporter": "python",
   "pygments_lexer": "ipython3",
   "version": "3.12.6"
  }
 },
 "nbformat": 4,
 "nbformat_minor": 1
}
