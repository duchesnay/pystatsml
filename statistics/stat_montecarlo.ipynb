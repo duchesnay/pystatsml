{
 "cells": [
  {
   "cell_type": "markdown",
   "metadata": {},
   "source": [
    "# Resampling and Monte Carlo Methods\n",
    "\n",
    "Sources:\n",
    "\n",
    "- [Scipy Resampling and Monte Carlo Methods](https://docs.scipy.org/doc/scipy/tutorial/stats/resampling.html)"
   ]
  },
  {
   "cell_type": "code",
   "execution_count": null,
   "metadata": {},
   "outputs": [],
   "source": [
    "# Manipulate data\n",
    "import numpy as np\n",
    "import pandas as pd\n",
    "\n",
    "# Statistics\n",
    "import scipy.stats\n",
    "import statsmodels.api as sm\n",
    "#import statsmodels.stats.api as sms\n",
    "import statsmodels.formula.api as smf\n",
    "from statsmodels.stats.stattools import jarque_bera\n",
    "\n",
    "# Plot\n",
    "import matplotlib.pyplot as plt\n",
    "import seaborn as sns\n",
    "\n",
    "# Adjust default figure size\n",
    "fig_w, fig_h = plt.rcParams.get('figure.figsize')\n",
    "plt.rcParams['figure.figsize'] = (fig_w, fig_h * .5)\n",
    "%matplotlib inline"
   ]
  },
  {
   "cell_type": "markdown",
   "metadata": {
    "vscode": {
     "languageId": "plaintext"
    }
   },
   "source": [
    "## Monte-Carlo simulation of Random Walk Process\n",
    "\n",
    "\n",
    "### One-dimensional random walk\n",
    "\n",
    "More information: [Random Walks, Central Limit Theorem](https://www.youtube.com/watch?v=BUJCF900I0A)\n",
    "\n",
    "At each step $i$ the process moves with +1 or -1 with equal probability, ie, $X_i \\in \\{+1, -1\\}$ with $P(X_i=+1)=P(X_i=-1)=1/2$.\n",
    "Steps $X_i$'s are i.i.d..\n",
    "\n",
    "Let $S_n = \\sum^n_i X_i$, or $S_i$ (at time $i$) is $S_i = S_{i-1} + X_i$\n",
    "\n",
    "Realizations of random walks obtained by Monte Carlo simulation\n",
    "Plot Few random walks (trajectories), ie, $S_n$ for $n=0$ to $200$"
   ]
  },
  {
   "cell_type": "code",
   "execution_count": null,
   "metadata": {},
   "outputs": [],
   "source": [
    "np.random.seed(seed=42)  # make the example reproducible\n",
    "\n",
    "n = 200 # trajectory depth\n",
    "nsamp = 50000 #nb of trajectories\n",
    "\n",
    "# X: each row (axis 0) contains one trajectory axis 1\n",
    "#Xn = np.array([np.random.choice(a=[-1, +1], size=n,\n",
    "#                                replace=True, p=np.ones(2) / 2)\n",
    "#               for i in range(nsamp)])\n",
    "\n",
    "Xn = np.array([np.random.choice(a=np.array([-1, +1]), size=n,\n",
    "                                replace=True, p=np.ones(2)/2)\n",
    "               for i in range(nsamp)])\n",
    "\n",
    "# Sum of random walks (trajectories)\n",
    "Sn = Xn.sum(axis=1)\n",
    "\n",
    "print(\"True Stat. Mean={:.03f}, Sd={:.02f}\".\\\n",
    "    format(0, np.sqrt(n) * 1))\n",
    "\n",
    "print(\"Est. Stat. Mean={:.03f}, Sd={:.02f}\".\\\n",
    "    format(Sn.mean(), Sn.std()))\n",
    "\n"
   ]
  },
  {
   "cell_type": "markdown",
   "metadata": {},
   "source": [
    "Plot cumulative sum of 100 random walks (trajectories)\n"
   ]
  },
  {
   "cell_type": "code",
   "execution_count": null,
   "metadata": {},
   "outputs": [],
   "source": [
    "Sn_traj = Xn[:100, :].cumsum(axis=1)\n",
    "_ = pd.DataFrame(Sn_traj.T).plot(legend=False)"
   ]
  },
  {
   "cell_type": "markdown",
   "metadata": {},
   "source": [
    "Distribution of $S_n$ vs $\\mathcal{N}(0, \\sqrt(n))$"
   ]
  },
  {
   "cell_type": "code",
   "execution_count": null,
   "metadata": {},
   "outputs": [],
   "source": [
    "x_low, x_high = Sn.mean()-3*Sn.std(), Sn.mean()+3*Sn.std()\n",
    "h_ = plt.hist(Sn, range=(x_low, x_high), density=True, bins=43, alpha=0.4, color='g',\n",
    "             label=\"Histogram\")\n",
    "\n",
    "x_range = np.linspace(x_low, x_high, 30)\n",
    "prob_x_range = scipy.stats.norm.pdf(x_range, loc=Sn.mean(), scale=Sn.std())\n",
    "_ = plt.plot(x_range, prob_x_range, 'r-', label=\"PDF: P(X)\")\n",
    "#print(h_)"
   ]
  },
  {
   "cell_type": "markdown",
   "metadata": {},
   "source": [
    "## Permutation Tests\n"
   ]
  },
  {
   "cell_type": "markdown",
   "metadata": {},
   "source": [
    "## The Bootstrap"
   ]
  },
  {
   "cell_type": "code",
   "execution_count": null,
   "metadata": {},
   "outputs": [],
   "source": []
  }
 ],
 "metadata": {
  "kernelspec": {
   "display_name": "pystatsml_teacher",
   "language": "python",
   "name": "python3"
  },
  "language_info": {
   "codemirror_mode": {
    "name": "ipython",
    "version": 3
   },
   "file_extension": ".py",
   "mimetype": "text/x-python",
   "name": "python",
   "nbconvert_exporter": "python",
   "pygments_lexer": "ipython3",
   "version": "3.12.4"
  }
 },
 "nbformat": 4,
 "nbformat_minor": 2
}
