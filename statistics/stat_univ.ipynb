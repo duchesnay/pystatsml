{
 "cells": [
  {
   "cell_type": "markdown",
   "metadata": {},
   "source": [
    "# Univariate Statistics\n",
    "\n",
    "Basics univariate statistics are required to explore dataset:\n",
    "\n",
    "- Discover associations between a variable of interest and potential predictors. It is strongly recommended to start with simple univariate methods before moving to complex multivariate predictors. \n",
    "\n",
    "- Assess the prediction performances of machine learning predictors.\n",
    "\n",
    "- Most of the univariate statistics are based on the linear model which is one of the main model in machine learning.\n",
    "\n",
    "## Libraries"
   ]
  },
  {
   "cell_type": "markdown",
   "metadata": {},
   "source": [
    "**Statistics**\n",
    "\n",
    "- Descriptive statistics and distributions: [Numpy](https://numpy.org/doc/stable/reference/routines.statistics.html)\n",
    "- Distributions and tests: [scipy.stats](https://docs.scipy.org/doc/scipy/reference/tutorial/stats.html)\n",
    "- Advanced statistics (linear models, tests, time series): [Statsmodels](https://www.statsmodels.org/), see also [Statsmodels API](https://www.statsmodels.org/stable/api.html):\n",
    "    * `statsmodels.api`: Imported using `import statsmodels.api as sm`.\n",
    "    * `statsmodels.formula.api`: A convenience interface for specifying models using formula strings and DataFrames. Canonically imported using `import statsmodels.formula.api as smf`\n",
    "    * `statsmodels.tsa.api`: Time-series models and methods. Canonically imported using `import statsmodels.tsa.api as tsa`."
   ]
  },
  {
   "cell_type": "code",
   "execution_count": null,
   "metadata": {},
   "outputs": [],
   "source": [
    "# Manipulate data\n",
    "import numpy as np\n",
    "import pandas as pd\n",
    "\n",
    "# Statistics\n",
    "import scipy.stats\n",
    "import statsmodels.api as sm\n",
    "#import statsmodels.stats.api as sms\n",
    "import statsmodels.formula.api as smf\n",
    "from statsmodels.stats.stattools import jarque_bera"
   ]
  },
  {
   "cell_type": "markdown",
   "metadata": {},
   "source": [
    "**Plots**"
   ]
  },
  {
   "cell_type": "code",
   "execution_count": null,
   "metadata": {},
   "outputs": [],
   "source": [
    "import matplotlib.pyplot as plt\n",
    "import seaborn as sns\n",
    "import pystatsml.plot_utils\n",
    "\n",
    "# Plot parameters\n",
    "plt.style.use('seaborn-v0_8-whitegrid')\n",
    "fig_w, fig_h = plt.rcParams.get('figure.figsize')\n",
    "plt.rcParams['figure.figsize'] = (fig_w, fig_h * .5)"
   ]
  },
  {
   "cell_type": "markdown",
   "metadata": {},
   "source": [
    "**Datasets**\n",
    "\n",
    "Salary"
   ]
  },
  {
   "cell_type": "code",
   "execution_count": null,
   "metadata": {},
   "outputs": [],
   "source": [
    "try:\n",
    "    salary = pd.read_csv(\"../datasets/salary_table.csv\")\n",
    "except:\n",
    "    url = 'https://github.com/duchesnay/pystatsml/raw/master/datasets/salary_table.csv'\n",
    "    salary = pd.read_csv(url)"
   ]
  },
  {
   "cell_type": "markdown",
   "metadata": {},
   "source": [
    "Iris"
   ]
  },
  {
   "cell_type": "code",
   "execution_count": null,
   "metadata": {},
   "outputs": [],
   "source": [
    "# Load iris datset\n",
    "iris = sm.datasets.get_rdataset(\"iris\").data\n",
    "iris.columns = [s.replace('.', '') for s in iris.columns]\n",
    "iris.columns"
   ]
  },
  {
   "cell_type": "markdown",
   "metadata": {},
   "source": [
    "## Descriptive Statistics\n",
    "\n",
    "### Mean\n",
    "\n",
    "Properties of the expected value operator $\\operatorname{E}(\\cdot)$ of a random variable $X$\n",
    "\n",
    "\\begin{align}\n",
    "    E(X + c) &= E(X) + c \\\\ \n",
    "    E(X + Y) &= E(X) + E(Y) \\\\ \n",
    "    E(aX)    &= a E(X)\n",
    "\\end{align}\n",
    "\n",
    "\n",
    "The estimator $\\bar{x}$ on a sample of size $n$: $x = x_1, ..., x_n$ is given by\n",
    "$$\n",
    "    \\bar{x} = \\frac{1}{n} \\sum_i x_i\n",
    "$$\n",
    "\n",
    "$\\bar{x}$ is itself a random variable with properties:\n",
    "\n",
    "- $E(\\bar{x}) = \\bar{x}$,\n",
    "\n",
    "- $\\operatorname{Var}(\\bar{x}) = \\frac{\\operatorname{Var}(X)}{n}$.\n",
    "\n",
    "### Variance\n",
    "\n",
    "$$\n",
    "    \\operatorname{Var}(X) = E((X - E(X))^2) =  E(X^2) - (E(X))^2\n",
    "$$\n",
    "\n",
    "The estimator is\n",
    "$$\n",
    "    \\sigma_x^2 = \\frac{1}{n-1} \\sum_i (x_i - \\bar{x})^2\n",
    "$$\n",
    "\n",
    "Note here the subtracted 1 degree of freedom (df) in the divisor. In standard statistical practice, $df=1$ provides an unbiased estimator of the variance of a hypothetical infinite population. With $df=0$ it instead provides a maximum likelihood estimate of the variance for normally distributed variables.\n",
    "\n",
    "### Standard deviation\n",
    "\n",
    "$$\n",
    "    \\operatorname{Std}(X) = \\sqrt{\\operatorname{Var}(X)}\n",
    "$$\n",
    "\n",
    "The estimator is simply $\\sigma_x = \\sqrt{\\sigma_x^2}$.\n",
    "\n",
    "### Covariance\n",
    "\n",
    "$$\n",
    "    \\operatorname{Cov}(X, Y) = E((X - E(X))(Y - E(Y))) =  E(XY) - E(X)E(Y).\n",
    "$$\n",
    "\n",
    "Properties:\n",
    "\n",
    "\\begin{align}\n",
    "    \\operatorname{Cov}(X, X) &= \\operatorname{Var}(X)\\\\\n",
    "    \\operatorname{Cov}(X, Y) &= \\operatorname{Cov}(Y, X)\\\\\n",
    "    \\operatorname{Cov}(cX, Y) &= c \\operatorname{Cov}(X, Y)\\\\\n",
    "    \\operatorname{Cov}(X+c, Y) &= \\operatorname{Cov}(X, Y)\\\\\n",
    "\\end{align}\n",
    "\n",
    "\n",
    "The estimator with $df=1$ is\n",
    "$$\n",
    "    \\sigma_{xy} = \\frac{1}{n-1} \\sum_i (x_i - \\bar{x}) (y_i - \\bar{y}).\n",
    "$$\n",
    "\n",
    "### Correlation\n",
    "\n",
    "$$\n",
    "    \\operatorname{Cor}(X, Y) = \\frac{\\operatorname{Cov}(X, Y)}{\\operatorname{Std}(X)\\operatorname{Std}(Y)}\n",
    "$$\n",
    "\n",
    "The estimator is\n",
    "$$\n",
    "    \\rho_{xy} = \\frac{\\sigma_{xy}}{\\sigma_{x} \\sigma_{y}}.\n",
    "$$\n",
    "\n",
    "### Standard Error (SE) \n",
    "\n",
    "The standard error (SE) is the standard deviation (of the sampling distribution) of a statistic: \n",
    "$$\n",
    "    \\operatorname{SE}(X) = \\frac{\\operatorname{Std}(X)}{\\sqrt{n}}.\n",
    "$$\n",
    "\n",
    "It is most commonly considered for the mean with the estimator\n",
    "\n",
    "\\begin{align}\n",
    "\\operatorname{SE}(X) &= \\operatorname{Std}(X) = \\sigma_{\\bar{x}}\\\\\n",
    "      &= \\frac{\\sigma_x}{\\sqrt{n}}.\n",
    "\\end{align}\n",
    "\n",
    "\n",
    "### Descriptives statistics with Numpy\n",
    "\n",
    "- Generate 2 random samples: $x \\sim N(1.78, 0.1)$ and $y \\sim N(1.66, 0.1)$, both of size 10.\n",
    "- Compute $\\bar{x}, \\sigma_x, \\sigma_{xy}$ (`xbar, xvar, xycov`) using only the `np.sum()` operation. \n",
    "\n",
    "Explore the `np.` module to find out which Numpy functions performs the same computations and compare them (using `assert`) with your previous results.\n",
    "\n",
    "Caution! By default `np.var()` used the biased estimator (with ddof=0). Set ddof=1 to use unbiased estimator."
   ]
  },
  {
   "cell_type": "code",
   "execution_count": null,
   "metadata": {},
   "outputs": [],
   "source": [
    "n = 10\n",
    "np.random.seed(seed=42)  # make the example reproducible\n",
    "x = np.random.normal(loc=1.78, scale=.1, size=n)\n",
    "y = np.random.normal(loc=1.66, scale=.1, size=n)\n",
    "\n",
    "xbar = np.mean(x)\n",
    "assert xbar == np.sum(x) / x.shape[0]\n",
    "\n",
    "xvar = np.var(x, ddof=1)\n",
    "assert xvar == np.sum((x - xbar) ** 2) / (n - 1)"
   ]
  },
  {
   "cell_type": "markdown",
   "metadata": {},
   "source": [
    "Covariance"
   ]
  },
  {
   "cell_type": "code",
   "execution_count": null,
   "metadata": {},
   "outputs": [],
   "source": [
    "xycov = np.cov(x, y)\n",
    "print(xycov)\n",
    "\n",
    "ybar = np.sum(y) / n\n",
    "assert np.allclose(xycov[0, 1], np.sum((x - xbar) * (y - ybar)) / (n - 1))\n",
    "assert np.allclose(xycov[0, 0], xvar)\n",
    "assert np.allclose(xycov[1, 1], np.var(y, ddof=1))"
   ]
  },
  {
   "cell_type": "markdown",
   "metadata": {},
   "source": [
    "### Descriptives Statistics on Iris Dataset"
   ]
  },
  {
   "cell_type": "markdown",
   "metadata": {},
   "source": [
    "**With Pandas**\n",
    "\n",
    "Columns' means"
   ]
  },
  {
   "cell_type": "code",
   "execution_count": null,
   "metadata": {},
   "outputs": [],
   "source": [
    "iris[['SepalLength', 'SepalWidth', 'PetalLength', 'PetalWidth']].mean()"
   ]
  },
  {
   "cell_type": "markdown",
   "metadata": {},
   "source": [
    "Columns' std-dev. Pandas normalizes by N-1 by default."
   ]
  },
  {
   "cell_type": "code",
   "execution_count": null,
   "metadata": {},
   "outputs": [],
   "source": [
    "iris[['SepalLength', 'SepalWidth', 'PetalLength', 'PetalWidth']].std()"
   ]
  },
  {
   "cell_type": "markdown",
   "metadata": {},
   "source": [
    "**With Numpy**"
   ]
  },
  {
   "cell_type": "code",
   "execution_count": null,
   "metadata": {},
   "outputs": [],
   "source": [
    "X = iris[['SepalLength', 'SepalWidth', 'PetalLength', 'PetalWidth']].values\n",
    "X.mean(axis=0)"
   ]
  },
  {
   "cell_type": "markdown",
   "metadata": {},
   "source": [
    "Columns' std-dev. Numpy normalizes by N by default. Set ddof=1 to normalize by N-1 to get the unbiased estimator."
   ]
  },
  {
   "cell_type": "code",
   "execution_count": null,
   "metadata": {},
   "outputs": [],
   "source": [
    "X.std(axis=0, ddof=1)"
   ]
  },
  {
   "cell_type": "markdown",
   "metadata": {},
   "source": [
    "## Probability Distributions\n",
    "\n",
    "- Probabilities of occurrence of possible outcomes\n",
    "- Description of a random phenomenon in terms of its sample space\n",
    "\n",
    "\n",
    "Terminology:\n",
    "\n",
    "- Random variable, RV: $X$: takes values from a sample space.\n",
    "- **Probability Density Function** [PDF](https://en.wikipedia.org/wiki/Probability_density_function): $P(X) \\in [0, 1]$ for $X \\in \\mathbb{R}$ or **Probability mass function** [PMF](https://en.wikipedia.org/wiki/Probability_mass_function) if $X$ is a discrete RV.\n",
    "- **Cumulative Distribution Function** [CDF](https://en.wikipedia.org/wiki/Cumulative_distribution_function) $P(X \\leq x)$.\n",
    "- **Percent Point Function** or [Quantile Function](https://en.wikipedia.org/wiki/Quantile_function) (inverse of CDF), i.e., values of $x$ such $P(X \\leq x)=$ a given quantile.\n",
    "\n",
    "### Histogram as probability [density function estimator](https://en.wikipedia.org/wiki/Density_estimation)\n",
    "\n",
    "[numpy.histogram](https://numpy.org/doc/stable/reference/generated/numpy.histogram.html#numpy.histogram) can be used to probability density function at the each histogram bin, setting `density=True` parameter. Warning, [histogram doesn't sum to 1](https://stackoverflow.com/questions/21532667/numpy-histogram-cumulative-density-does-not-sum-to-1). Histogram as PDF estimator should be multiplied by dx's to sum to 1."
   ]
  },
  {
   "cell_type": "code",
   "execution_count": null,
   "metadata": {},
   "outputs": [],
   "source": [
    "x = np.random.normal(size=50000)\n",
    "hist, bins = np.histogram(x, bins=50, density=True)\n",
    "dx = np.diff(bins)\n",
    "print(\"Sum(Hist)=\", np.sum(hist), \"Sum(Hist * dx)=\", np.sum(hist * dx))\n",
    "\n",
    "pdf = scipy.stats.norm.pdf(bins) # True probability density function\n",
    "\n",
    "fig, (ax1, ax2) = plt.subplots(nrows=1, ncols=2, sharex=True)\n",
    "ax1.bar(bins[1:], hist, width=dx, fill=False, label=\"Estimation\")\n",
    "ax1.plot(bins, pdf, 'r-', label=\"True Norm.\")\n",
    "ax1.legend()\n",
    "ax2.bar(bins[1:], (hist * dx).cumsum(), fill=False, width=dx)\n",
    "fig.tight_layout()"
   ]
  },
  {
   "cell_type": "markdown",
   "metadata": {},
   "source": [
    "### [Kernel Density Estimation (KDE)](https://en.wikipedia.org/wiki/Kernel_density_estimation)\n",
    "\n",
    "TODO"
   ]
  },
  {
   "cell_type": "markdown",
   "metadata": {},
   "source": [
    "### Normal distribution\n",
    "\n",
    "The normal distribution, noted $\\mathcal{N}(\\mu, \\sigma)$ with parameters: $\\mu$ mean (location) and $\\sigma>0$ std-dev. Estimators: $\\bar{x}$ and $\\sigma_{x}$.\n",
    "\n",
    "The normal distribution, noted $\\mathcal{N}$, is useful because of the central limit theorem (CLT) which states that: given certain conditions, the arithmetic mean of a sufficiently large number of iterates of independent random variables, each with a well-defined expected value and well-defined variance, will be approximately normally distributed, regardless of the underlying distribution.\n",
    "\n",
    "Documentation:\n",
    "\n",
    "- [numpy.random.normal](https://numpy.org/doc/stable/reference/random/generated/numpy.random.normal.html)\n",
    "- [scipy.stats.norm](https://docs.scipy.org/doc/scipy/reference/generated/scipy.stats.norm.html#scipy.stats.norm)\n"
   ]
  },
  {
   "cell_type": "markdown",
   "metadata": {},
   "source": [
    "Random number generator using Numpy"
   ]
  },
  {
   "cell_type": "code",
   "execution_count": null,
   "metadata": {},
   "outputs": [],
   "source": [
    "# using numpy:\n",
    "x = np.random.normal(loc=10, scale=10, size=(3, 2))"
   ]
  },
  {
   "cell_type": "markdown",
   "metadata": {},
   "source": [
    "Distribution using Scipy\n",
    "\n",
    "- Random number generator $X \\sim \\mathcal{N}(\\mu,\\,\\sigma^{2})$: `norm.rvs(loc=mean, scale=sd, size=n)`\n",
    "- **Probability Density Function (PDF)**: $P(X) \\in [0, 1]$ for $X \\in \\mathbb{R}$: `norm.pdf(values, loc=mean, scale=sd)`\n",
    "- **Cumulative Distribution Function (CDF)** $P(X \\leq x)$ : `norm.cdf(x, loc=mean, scale=sd)`\n",
    "- Percent Point Function (inverse of CDF), i.e., values of $x$ such $P(X < x)=$ a given percentiles : `norm.ppf(q, loc=0, scale=1)`\n"
   ]
  },
  {
   "cell_type": "code",
   "execution_count": null,
   "metadata": {},
   "outputs": [],
   "source": [
    "mean, sd, n = 0, 1, 10000\n",
    "\n",
    "# Random number generator\n",
    "x_rv = scipy.stats.norm.rvs(loc=mean, scale=sd, size=n)\n",
    "x_range = np.linspace(mean-3*sd, mean+3*sd, 100)\n",
    "\n",
    "# PDF: P(values)\n",
    "pdf_x_range = scipy.stats.norm.pdf(x_range, loc=mean, scale=sd)"
   ]
  },
  {
   "cell_type": "code",
   "execution_count": null,
   "metadata": {},
   "outputs": [],
   "source": [
    "# CDF: P(X < values)\n",
    "cdf_x_range = scipy.stats.norm.cdf(x_range, loc=mean, scale=sd)\n",
    "\n",
    "# PPF: Values such P(X < values) = percentiles\n",
    "percentiles_of_cdf = [0.025, 0.10, 0.25, 0.5, 0.75, 0.90, 0.975]\n",
    "x_for_percentiles_of_cdf = scipy.stats.norm.ppf(percentiles_of_cdf,\n",
    "                                                loc=mean, scale=sd)\n",
    "\n",
    "# Percentiles of CDF = CDF(x values for CDF percentiles)\n",
    "assert np.allclose(percentiles_of_cdf,\n",
    "                   scipy.stats.norm.cdf(x_for_percentiles_of_cdf))\n",
    "\n",
    "# Values for percentiles of CDF\n",
    "[\"P(X<{:.02f})={:.1%}\".format(val, ppf) for \n",
    " ppf, val in zip(percentiles_of_cdf,\n",
    "                 scipy.stats.norm.ppf(percentiles_of_cdf,\n",
    "                                      loc=mean, scale=sd))]"
   ]
  },
  {
   "cell_type": "markdown",
   "metadata": {},
   "source": [
    "Plot histogram, true distribution (PDF), and area of CDF"
   ]
  },
  {
   "cell_type": "code",
   "execution_count": null,
   "metadata": {},
   "outputs": [],
   "source": [
    "_ = plt.hist(x_rv, density=True, bins=100, fill=False,\n",
    "             label=\"Histogram (Estimator)\")\n",
    "_ = plt.plot(x_range, pdf_x_range, 'r-', label=\"PDF: P(X)\")\n",
    "\n",
    "# PPF: Values such P(X < values) = 2.5%\n",
    "percentile_of_cdf = 0.025\n",
    "x_for_percentile_of_cdf = scipy.stats.norm.ppf(percentile_of_cdf,\n",
    "                                               loc=mean, scale=sd)\n",
    "\n",
    "x_range = np.linspace(mean-3*sd, mean+3*sd, 10000)\n",
    "pdf_x_range = scipy.stats.norm.pdf(x_range, loc=mean, scale=sd)\n",
    "pdf_x_range[x_range > x_for_percentile_of_cdf] = 0\n",
    "_ = plt.fill_between(x=x_range, y1=np.zeros(len(pdf_x_range)), y2=pdf_x_range,\n",
    "                     alpha=.5,\n",
    "                     label=\"CDF=P(X<{:.02f})={:.01%}\".format(x_for_percentile_of_cdf,\n",
    "                                                             percentile_of_cdf),\n",
    "                     color='r')\n",
    "_ = plt.legend()"
   ]
  },
  {
   "cell_type": "markdown",
   "metadata": {},
   "source": [
    "### The Chi-Square Distribution\n",
    "\n",
    "The chi-square or $\\chi_n^2$ distribution with $n$ degrees of freedom (df) is the distribution of a sum of the squares of $n$ independent standard normal random variables $\\mathcal{N}(0, 1)$. Let $X \\sim \\mathcal{N}(\\mu, \\sigma^2)$, then, $Z=(X - \\mu)/\\sigma \\sim \\mathcal{N}(0, 1)$, then:\n",
    "\n",
    "- The squared standard $Z^2 \\sim \\chi_1^2$ (one df).\n",
    "\n",
    "- **The distribution of sum of squares** of $n$ normal random variables: $\\sum_i^n Z_i^2 \\sim \\chi_n^2$\n",
    "\n",
    "The sum of two $\\chi^2$ RV with $p$ and $q$ df is a $\\chi^2$ RV with $p+q$ df. This is useful when summing/subtracting sum of squares.\n",
    "\n",
    "The $\\chi^2$-distribution is used to model **errors** measured as **sum of squares** or the distribution of the sample **variance**.\n",
    "\n",
    "The chi-squared distribution is a special case of the gamma distribution, with gamma parameters a = df/2, loc = 0 and scale = 2.\n",
    "\n",
    "Documentation:\n",
    "- [numpy.random.chisquare](https://numpy.org/doc/stable/reference/random/generated/numpy.random.chisquare.html)\n",
    "- [scipy.stats.chi2](https://docs.scipy.org/doc/scipy/reference/generated/scipy.stats.chi2.html#scipy.stats.chi2)"
   ]
  },
  {
   "cell_type": "code",
   "execution_count": null,
   "metadata": {},
   "outputs": [],
   "source": [
    "df, mean, sd, n = 30, 0, 1, 10000\n",
    "x_rv = scipy.stats.chi2.rvs(df=df, loc=mean, scale=sd, size=n)\n",
    "x_range = np.linspace(mean-3*sd, mean+3*sd, 100)\n",
    "prob_x_range = scipy.stats.chi2.pdf(x_range, df=df, loc=mean, scale=sd)\n",
    "cdf_x_range = scipy.stats.chi2.cdf(x_range, df=df ,loc=mean, scale=sd)"
   ]
  },
  {
   "cell_type": "markdown",
   "metadata": {},
   "source": [
    "### The Fisher's F-Distribution\n",
    "\n",
    "The $F$-distribution, $F_{n, p}$, with $n$ and $p$ degrees of freedom is the ratio of two independent $\\chi^2$ variables. Let $X \\sim \\chi_n^2$ and $Y \\sim \\chi_p^2$ then: \n",
    "$$\n",
    "    F_{n, p} = \\frac{X/n}{Y/p}\n",
    "$$\n",
    "\n",
    "The $F$-distribution plays a central role in hypothesis testing answering the question: **Are two variances equals?, is the ratio or two errors significantly large ?**.\n",
    "\n",
    "Documentation:\n",
    "- [scipy.stats.f](https://docs.scipy.org/doc/scipy/reference/generated/scipy.stats.f.html#scipy.stats.f)\n"
   ]
  },
  {
   "cell_type": "code",
   "execution_count": null,
   "metadata": {},
   "outputs": [],
   "source": [
    "dfn, dfd, mean, sd, n = 30, 5, 0, 1, 10000\n",
    "x_rv = scipy.stats.f.rvs(dfn=dfn, dfd=dfd, loc=mean, scale=sd, size=n)\n",
    "x_range = np.linspace(mean-3*sd, mean+3*sd, 100)\n",
    "prob_x_range = scipy.stats.f.pdf(x_range, dfn=dfn, dfd=dfd, loc=mean, scale=sd)\n",
    "cdf_x_range = scipy.stats.f.cdf(x_range, dfn=dfn, dfd=dfd, loc=mean, scale=sd)\n",
    "\n",
    "fvalues = np.linspace(.1, 5, 100)\n",
    "# pdf(x, df1, df2): Probability density function at x of F.\n",
    "plt.plot(fvalues, scipy.stats.f.pdf(fvalues, 1, 30), 'b-', label=\"F(1, 30)\")\n",
    "plt.plot(fvalues, scipy.stats.f.pdf(fvalues, 5, 30), 'r-', label=\"F(5, 30)\")\n",
    "_ = plt.legend()"
   ]
  },
  {
   "cell_type": "markdown",
   "metadata": {},
   "source": [
    "### The Student's $t$-Distribution\n",
    "\n",
    "Let $M \\sim \\mathcal{N}(0, 1)$ and $V \\sim \\chi_n^2$. The $t$-distribution, $T_n$, with $n$ degrees of freedom is the ratio:\n",
    "$$\n",
    "    T_n = \\frac{M}{\\sqrt{V/n}}\n",
    "$$\n",
    "\n",
    "The distribution of the difference between an estimated parameter and its true (or assumed) value divided by the standard deviation of the estimated parameter (standard error) follow a $t$-distribution.\n",
    "\n",
    "Documentation: [scipy.stats.t](https://docs.scipy.org/doc/scipy/reference/generated/scipy.stats.t.html#scipy.stats.t)\n"
   ]
  },
  {
   "cell_type": "code",
   "execution_count": null,
   "metadata": {},
   "outputs": [],
   "source": [
    "df, mean, sd, n = 30, 0, 1, 10000\n",
    "x_rv = scipy.stats.t.rvs(df=df, loc=mean, scale=sd, size=n)\n",
    "x_range = np.linspace(mean-5*sd, mean+5*sd, 100)\n",
    "prob_x_range = scipy.stats.t.pdf(x_range, df=df, loc=mean, scale=sd)\n",
    "cdf_x_range = scipy.stats.t.cdf(x_range, df=df, loc=mean, scale=sd)\n",
    "\n",
    "plt.plot(x_range, scipy.stats.t.pdf(x_range, 30), 'r-', label=\"T(30, 0, 1)\")\n",
    "plt.plot(x_range, scipy.stats.t.pdf(x_range, 2), 'b-', label=\"T(2, 0, 1)\")\n",
    "plt.plot(x_range, scipy.stats.norm.pdf(x_range, loc=mean, scale=sd), 'g--',\n",
    "         label=\"N(0, 1)\")\n",
    "_ = plt.legend()"
   ]
  },
  {
   "cell_type": "markdown",
   "metadata": {},
   "source": [
    "## Central Limit Theorem (CLT)\n",
    "\n",
    "See [3Blue1Brown: But what is the Central Limit Theorem?](https://www.youtube.com/watch?v=zeJD6dqJ5lo).\n",
    "\n",
    "Let $\\{X_1, ..., X_i,..., X_n\\}$ be a sequence of independent and identically distributed (i.i.d.) ($\\sim X$) random variables (RV) with parameters:\n",
    "\n",
    "- $E[X_i] = \\mu_X$,\n",
    "- $Var[X_i] = \\sigma_X^2 < \\ \\infty$ (finite variance)."
   ]
  },
  {
   "cell_type": "markdown",
   "metadata": {},
   "source": [
    "### Distribution of the Sum of Samples\n",
    "\n",
    "Let $S_n = \\sum^n_i X_i$ the sum of those RV. Then, the sum of RV converge in distribution to a normal distribution:\n",
    "\n",
    "$$\n",
    "S_n = \\sum^n_i X_i \\rightarrow \\mathcal{N}(n \\mu_X, \\sqrt{n}\\sigma_X)\n",
    "$$\n",
    "\n",
    "Note that the centered and scaled sum converge in distribution to a normal distribution of parameters $0, 1$: $\\frac{\\sum^n_i X_i -n\\mu}{\\sqrt{n}\\sigma_X}\\rightarrow\\mathcal{N}(0, 1)$"
   ]
  },
  {
   "cell_type": "markdown",
   "metadata": {},
   "source": [
    "### The Distribution of the Sample Mean\n",
    "\n",
    "Central Limit Theorem also apply for the sample mean:\n",
    "Let i.i.d. samples $X_i$ from from *almost any* distribution of parameters $\\mu_X, \\sigma_X$. Then the sample mean $\\bar{X}$, for samples of size 30 or more, is approximately normally distributed:\n",
    "\n",
    "$$\n",
    "\\bar{X} = \\frac{\\sum^n_i X_i}{n} \\rightarrow \\mathcal{N}(\\mu_X, \\frac{\\sigma_X}{\\sqrt{n}})\n",
    "$$\n",
    "\n",
    "Simple but useful demonstrations:\n",
    "\n",
    "$$\n",
    "E[\\bar{X}_n] =  E[\\frac{1}{n}\\sum^n_i X_i] =\\frac{1}{n} \\sum^n_i E[X_i],\\\\\n",
    "\\text{since}~X_i~\\text{are i.i.d., i.e., }~E[X_i] = \\mu_X \\forall i~\\text{then} \\\\\n",
    "=\\frac{1}{n}  n \\mu_X = \\mu_X\n",
    "$$\n",
    "\n",
    "$$\n",
    "Var[\\bar{X}_n] = Var[\\frac{1}{n}\\sum^n_i X_i] = (\\frac{1}{n})^2  \\sum^2_X Var[X_i],\\\\\n",
    "\\text{since}~X_i~\\text{are i.i.d., i.e., }~Var[X_i] = \\sigma^2_X \\forall i~\\text{then}\\\\\n",
    "= (\\frac{1}{n})^2  n \\sigma^2_X = \\sigma_X^2/n\n",
    "$$\n",
    "and\n",
    "$$\n",
    "Sd[\\bar{X}_n] = \\sigma_X/\\sqrt{n}\n",
    "$$\n",
    "\n",
    "Note that the **standard deviation of the sample mean is the standard deviation of the parent RV scaled by** $\\sqrt{n}$. The larger the sample size, the better the approximation.\n",
    "\n",
    "The Central Limit Theorem is illustrated for several common population distributions in [The Sampling Distribution of the Sample Mean](https://stats.libretexts.org/Bookshelves/Introductory_Statistics/Introductory_Statistics_(Shafer_and_Zhang)/06%3A_Sampling_Distributions/6.02%3A_The_Sampling_Distribution_of_the_Sample_Mean)."
   ]
  },
  {
   "cell_type": "markdown",
   "metadata": {},
   "source": [
    "### Examples\n",
    "\n",
    "**Distribution of the sum of samples from the uniform distribution**\n",
    "\n",
    "See [Scipy Uniform Distribution](https://docs.scipy.org/doc/scipy/reference/generated/scipy.stats.uniform.html)"
   ]
  },
  {
   "cell_type": "code",
   "execution_count": null,
   "metadata": {},
   "outputs": [],
   "source": [
    "n_sample = 1000\n",
    "n_repeat = 10000\n",
    "\n",
    "# Distribution parameters, true mean and standard deviation\n",
    "a, b = 0, 1\n",
    "mu_unif, sd_unif = 1 / 2 * (b - a), np.sqrt(1 / 12 * (b - a) ** 2)\n",
    "\n",
    "# Xn's\n",
    "xn_s = np.array([scipy.stats.uniform.rvs(size=n_sample).sum()\n",
    "                for i in range(n_repeat)])\n",
    "\n",
    "# Xn's centered and scaled\n",
    "xn_s_cs = (xn_s - n_sample * mu_unif) / (np.sqrt(n_sample) * sd_unif)\n",
    "\n",
    "h_ = plt.hist(xn_s_cs, range=(-3, 3), density=True, bins=43, fill=False,\n",
    "              label=\"Sum(Unif.)\")\n",
    "\n",
    "# Normal distribution\n",
    "x_range = np.linspace(-3, 3, 30)\n",
    "prob_x_range = scipy.stats.norm.pdf(x_range, loc=0, scale=1)\n",
    "plt.plot(x_range, prob_x_range, 'r-', label=\"N(0, 1)\")\n",
    "_ = plt.legend()"
   ]
  },
  {
   "cell_type": "markdown",
   "metadata": {},
   "source": [
    "**Distribution of the sum of samples from the the exponential distribution**\n",
    "\n",
    "See [Scipy Exponential Distribution](https://docs.scipy.org/doc/scipy/reference/generated/scipy.stats.expon.html)"
   ]
  },
  {
   "cell_type": "code",
   "execution_count": null,
   "metadata": {},
   "outputs": [],
   "source": [
    "n_sample = 1000\n",
    "n_repeat = 10000\n",
    "\n",
    "# Distribution parameters, true mean and standard deviation\n",
    "lambda_ = 1\n",
    "mu_exp, sd_exp = 1 / lambda_, np.sqrt(1 / (lambda_ ** 2))\n",
    "\n",
    "# Xn's\n",
    "xn_s = np.array([scipy.stats.expon.rvs(size=n_sample).sum()\n",
    "                for i in range(n_repeat)])\n",
    "\n",
    "# Xn's centered and scaled\n",
    "xn_s_cs = (xn_s - n_sample * mu_exp) / (np.sqrt(n_sample) * sd_exp)\n",
    "\n",
    "h_ = plt.hist(xn_s_cs, range=(-3, 3), density=True, bins=43, fill=False,\n",
    "              label=\"Sum(Exp.)\")\n",
    "\n",
    "# Normal distribution\n",
    "x_range = np.linspace(-3, 3, 30)\n",
    "prob_x_range = scipy.stats.norm.pdf(x_range, loc=0, scale=1)\n",
    "plt.plot(x_range, prob_x_range, 'r-', label=\"N(0, 1)\")\n",
    "_ = plt.legend()"
   ]
  },
  {
   "cell_type": "markdown",
   "metadata": {},
   "source": [
    "**Distribution of the mean from the Binomial distribution**\n",
    "\n",
    "\n",
    "[Binomial distribution](https://en.wikipedia.org/wiki/Binomial_distribution) with [scipy](https://docs.scipy.org/doc/scipy/reference/generated/scipy.stats.binom.html):\n"
   ]
  },
  {
   "cell_type": "code",
   "execution_count": null,
   "metadata": {},
   "outputs": [],
   "source": [
    "n_sample = 1000\n",
    "n_repeat = 10000\n",
    "\n",
    "# Binomial distribution parameters\n",
    "n, p = n_sample, 0.5\n",
    "\n",
    "# Distribution parameters, true mean and standard deviation\n",
    "mu, sd = n * p , np.sqrt(n * p * (1 - p))\n",
    "\n",
    "# Xbar's\n",
    "xbar_s = np.array([scipy.stats.binom.rvs(n=n, p=p, size=n_sample).mean()\n",
    "                   for i in range(n_repeat)])\n",
    "\n",
    "print(\"True stat.: mu={:.01f}, sd={:.03f}\".format(mu, sd / np.sqrt(n_sample)))\n",
    "print(\"Est. stat.: mu={:.01f}, sd={:.03f}\".format(xbar_s.mean(), xbar_s.std()))\n"
   ]
  },
  {
   "cell_type": "markdown",
   "metadata": {},
   "source": [
    "## Statistical inference and Decision Making using Hypothesis Testing\n",
    "\n",
    "\n",
    "[Inferential statistics](https://en.wikipedia.org/wiki/Statistical_inference) involves the use of a sample (1) to estimate some characteristic in a large population; and (2) to test a research hypothesis about a given population.\n",
    "\n",
    "### Typology of tests\n",
    "\n",
    "Tests should be adapted to the type of variable:\n",
    "\n",
    "1. For **categorical variables** tests use **count** of categories, **proportions, or frequencies**. Examples:\n",
    "\n",
    "- Test a proportion: 200 heads have been found over 300 flips, is this coin biased toward head or could it be observed by chance?\n",
    "- 1,000 voters are questioned about their vote. 55% said they had voted for candidate A and 45% for candidate B. Is this a significant difference?\n",
    "\n",
    "2. For **numerical variables tests use means, standard-deviations or medians**. Examples:\n",
    "\n",
    "- Test the effect of some condition (treatment or some action):\n",
    "   * We observed an increase of monthly revenue of 100 stores after marketing campaign. Could this increase be attributed to chance or to the marketing campaign?\n",
    "   * Arterial hypertension of 50 patients has been reduced by some medication. Is it pure randomness?\n",
    "\n",
    "- Test the association between two variables:\n",
    "    * Height and sex: In a sample of 25 individuals (15 females, 10 males), is female height is different from male height?\n",
    "    * Age and arterial hypertension: In a sample of 25 individuals is age height correlated with arterial hypertension ?\n",
    "\n",
    "Tests can be grouped in two categories:\n",
    "\n",
    "1. **Parametric tests** assume that the data follow some distribution, and can be summarized by a parameters: mean and standard-deviation for quantitative variables; count proportion or frequencies for categorical variables.\n",
    "\n",
    "2. **Non-Parametric tests**. Non-parametric tests are not based on a model of the data and therefore do not make the assumption that they follow a certain distribution. Non-Parametric tests are generally based on ranking of values or medians."
   ]
  },
  {
   "cell_type": "markdown",
   "metadata": {},
   "source": [
    "### General Testing Procedure\n",
    "\n",
    "#### 1. **Model the data** (for parametric tests).\n",
    "\n",
    "E.g., the height of males and females can be represented by their means, i.e., assuming two normal distributions. Then fit the model to the data, i.e., estimate the model parameters (frequency, mean, correlation, regression coefficient). E.g., compute the means of females and males height.\n",
    "\n",
    "#### 2. Calculate a **decision statistic** (for all tests)\n",
    "\n",
    "- Formulate the null hypothesis $H_0$, i.e., what would be situation under pure chance? E.g., if sex has no effect on individuals' height males and females means height will be equals.\n",
    "\n",
    "- Derive a test statistic on the data capturing deviation from null hypothesis taking account the number of samples. For parametric statistics, the test statistic is derived from model parameters, e.g., the differences of means of males and females height, taking account the number of samples.\n",
    "\n",
    "#### 3. Inference\n",
    "\n",
    "Assess the deviation of the test statistic from its expected value under $H_0$ (pure chance). Two possibilities:\n",
    "\n",
    "**P-value** based on null hypothesis:\n",
    "\n",
    "What is the probability that the computed test statistic $\\bar{X}$ would be observed under pure chance? I.e.,  What is the probability that the test statistics under $H_0$ would be more extreme, i.e., \"larger\" or \"smaller\" than $\\bar{X}$?\n",
    "* Calculate the distribution of test statistic $X$ under $H_0$.\n",
    "* Compute the probability (P-value) to obtain a larger test statistic by chance (under the null hypothesis).\n",
    "\n",
    "For a symmetric distribution the two sided p-value $P$ is defined as: \n",
    "- $P(\\bar{X} \\leq X | H_0) = P/2$, or\n",
    "- $P(X \\geq \\bar{X}) = P/2$\n",
    "\n",
    "$\\bar{X}$ is declared to be **significantly different to the null hypothesis** if the p-value is less than a **significance level** $\\alpha$ generally considered as $5\\%$.\n",
    "\n",
    "**Confidence interval (CI)**\n",
    "\n",
    "CI is a range of values $x_1, x_2$ that is likely (given a **confidence level**, e.g., $95\\%$) to contain the true value of the statistic $\\bar{X}$. Outside this range the value is considered to be unlikely. Note that the confidence level is $1 - \\alpha$, the significance level.\n",
    "See [Interpreting Confidence Intervals](https://www.youtube.com/watch?v=ftYdEm6pEkE)\n",
    "\n",
    "The 95% CI (Confidence Interval) is the range of values $x_1, x_2$ such\n",
    "$P(x_1 < \\bar{X} < x_2) = 95\\%$. \n",
    "\n",
    "For a symmetric distribution the two sided $95\\% (= 1 - 5\\%)$ confidence interval, is defined as: \n",
    "- $x_1$ such $P(\\bar{X} \\leq x_1) = 2.5\\% =5\\%/2$\n",
    "- $x_2$ such $P(x_2 \\leq \\bar{X}) = 2.5\\%$\n",
    "\n",
    "Terminology\n",
    "\n",
    "- Margin of error = $\\bar{X} - x_1$ (for symmetric distribution).\n",
    "- Confidence Interval = $[x_1, x_2]$.\n",
    "- Confidence level is 1 - significance level"
   ]
  },
  {
   "cell_type": "markdown",
   "metadata": {},
   "source": [
    "### Categorical variable: the Binomial Test\n",
    "\n",
    "\n",
    "**Simplified example (small sample)** of the [the binomial test](https://en.wikipedia.org/wiki/Binomial_test): Three voters are questioned about their vote. Two voted for candidate A and one for B. How likely this difference Is this a significant difference, \n",
    "\n",
    "**1. Model the data:** Let $x$ the number of vote for A. It follows a [Binomial distribution](https://en.wikipedia.org/wiki/Binomial_distribution). Compute the model parameters: $N=3$, and $\\hat{p}=2/3$ (the frequency of number of vote A over the number of voters).\n",
    "\n",
    "**2. Compute a test statistic** measuring the deviation of the number of vote for A ($x=2$) over three voters from the expected values under the null hypothesis where $x$ would be $1.5$. Similarly, we could consider the deviation of the observed proportion $\\hat{p}=2/3$ from $\\pi_0=50\\%$.\n",
    "\n",
    "**3. To make inference**, we have to compute the probability to obtain more than two votes for A by chance. We need the distribution of $x$ under $H_0$ ($P(x|H0)$) to sum all the probabilities where $x$ is larger or equal to 2, i.e., $P(x\\geq 2| H_0)$. With such small sample size ($n=3$) this distribution is obtained by enumerating all configurations that produce a given number of heads $x$:\n",
    "\n",
    "\n",
    "| 1 | 2 | 3 | count vote for A |\n",
    "|---|---|---|------------------|\n",
    "|   |   |   | 0                |\n",
    "| H |   |   | 1        |       |\n",
    "|   | H |   | 1                |\n",
    "|   |   | H | 1                |\n",
    "| H | H |   | 2                |\n",
    "| H |   | H | 2                |\n",
    "|   | H | H | 2                |\n",
    "| H | H | H | 3                |\n",
    "\n",
    "\n",
    "Eight possibles configurations, probabilities of different values for $x$ are:\n",
    "\n",
    "- $P(x=0) = 1/8$\n",
    "- $P(x=1) = 3/8$\n",
    "- $P(x=2) = 3/8$\n",
    "- $P(x=3) = 1/8$\n",
    "\n",
    "Plot of the distribution of the number of $x$ (A vote over  3 voters) under the null hypothesis:"
   ]
  },
  {
   "cell_type": "code",
   "execution_count": null,
   "metadata": {},
   "outputs": [],
   "source": [
    "plt.bar([0, 1, 2, 3], [1/8, 3/8, 3/8, 1/8], width=.95, fill=False)\n",
    "_ = plt.xticks([0, 1, 2, 3], [0, 1, 2, 3])\n",
    "_ = plt.xlabel(\"Dist. of the nb of head over 3 flip under the null hyp.\")"
   ]
  },
  {
   "cell_type": "markdown",
   "metadata": {},
   "source": [
    "Finally, we compute the probability (P-value) to observe a value larger or equal that $x=2$ (or $P=2/3$) under the null hypothesis?\n",
    "This probability is the $p$-value:\n",
    "$$\n",
    "P(x\\geq 2| H_0) = P(x=2| H_0) + P(x=3| H_0) = 3/8 + 1/8 = 1/2\n",
    "$$\n",
    "\n",
    "**P-value = 0.5**, meaning that there is 50\\% of chance to get $x=2$ or larger by chance."
   ]
  },
  {
   "cell_type": "markdown",
   "metadata": {},
   "source": [
    "**large sample example:** 100 voters are questioned about their vote. 60 declared they voted for candidate A and 40 for candidate B. Is this a significant difference?\n",
    "\n",
    "**1. Model the data:** Let $x$ the number of vote for A. $x$ follows a binomial distribution. Compute model parameters: $n=100, \\hat{p}=60/100$. Where $\\hat{p}$ is the observed proportion of A.\n",
    "\n",
    "**2. Compute a test statistic** that measure the deviation of $x=60$ (vote for A) from the expected value: $n\\pi_0=50$ under the null hypothesis, i.e., where $\\pi_0=50\\%$. The distribution of the number of vote for A ($x$) follow the  [Binomial distribution](https://en.wikipedia.org/wiki/Binomial_distribution) of parameters $N=100, P=0.5$ approximated with normal distribution when $n$ is large enough.\n",
    "\n",
    "For large sample, the most usual (and easiest) approximation is through the standard normal distribution, in which a z-test is performed of the test statistic $Z$, given by:\n",
    "$$\n",
    "Z = \\frac{x - n\\pi_0}{\\sqrt{n p_0 (1 - \\pi_0)}}\n",
    "$$\n",
    "one may rearrange and write the z-test above as deviation of $\\hat{p}$ from $\\pi_0=50\\%$\n",
    "$$\n",
    "Z = \\frac{\\hat{p} - \\pi_0}{\\sqrt{\\pi_0 (1 - \\pi_0)}}\\sqrt{n}\n",
    "$$\n",
    "\n",
    "Note that the statistic is the product of two parts:\n",
    "\n",
    "- The **effect size**: $\\frac{\\hat{p} - \\pi_0}{\\sqrt{\\pi_0 (1 - \\pi_0)}}$ that measure a standardized deviation.\n",
    "- The squared root of the sample size $\\sqrt{n}$.\n",
    "\n",
    "Large statistic is obtained with large deviation with large sample size.\n",
    "\n",
    "**5. Inference**\n",
    "\n",
    "Compute the p-value using [Scipy to compute the CDF](https://docs.scipy.org/doc/scipy/reference/generated/scipy.stats.binom.html) of the binomial distribution:"
   ]
  },
  {
   "cell_type": "code",
   "execution_count": null,
   "metadata": {},
   "outputs": [],
   "source": [
    "n, k, pi0 = 100, 60, 0.5\n",
    "pval_greater = 1 - scipy.stats.binom.cdf(k, n, pi0)\n",
    "pval_greater = scipy.stats.binom.sf(k, n, pi0)\n",
    "\n",
    "# Two sidded pval = 2 * pval_greater\n",
    "pval = pval_greater * 2\n",
    "print(\"P-value (Two sided): P(X<={:0d} or X>={:0d}|H0)={:.4f}\".format(n-k, k, pval))"
   ]
  },
  {
   "cell_type": "markdown",
   "metadata": {},
   "source": [
    "[Scipy normal distribution](https://docs.scipy.org/doc/scipy/reference/generated/scipy.stats.norm.html)"
   ]
  },
  {
   "cell_type": "code",
   "execution_count": null,
   "metadata": {},
   "outputs": [],
   "source": [
    "n = 100\n",
    "z = (0.6 - 0.5) / (0.5 * (1 - 0.5)) * np.sqrt(n)\n",
    "#z = (60 - n * 0.5 + 1/2) / (n * 0.5 * (1 - 0.5)) * np.sqrt(n)\n",
    "\n",
    "scipy.stats.norm.sf(z, loc=0) * 2"
   ]
  },
  {
   "cell_type": "markdown",
   "metadata": {},
   "source": [
    "Plot of the binomial distribution and the probability to observe more than 60 vote for A by chance:"
   ]
  },
  {
   "cell_type": "code",
   "execution_count": null,
   "metadata": {},
   "outputs": [],
   "source": [
    "\n",
    "stat_vals = np.linspace(30, 70, 41)\n",
    "stat_probs = scipy.stats.binom.pmf(stat_vals, n, pi0) # H0: 0.5\n",
    "stat_obs = k\n",
    "\n",
    "pystatsml.plot_utils.plot_pvalue_under_h0(stat_vals, stat_probs,\n",
    "                                          stat_obs=60, stat_h0=50,\n",
    "                                          thresh_low=40, thresh_high=60)"
   ]
  },
  {
   "cell_type": "markdown",
   "metadata": {},
   "source": [
    "Simply use [Scipy binomial test](https://docs.scipy.org/doc/scipy/reference/generated/scipy.stats.binomtest.html) that the probability of success is p."
   ]
  },
  {
   "cell_type": "code",
   "execution_count": null,
   "metadata": {},
   "outputs": [],
   "source": [
    "test = scipy.stats.binomtest(k=k, n=n, p=pi0, alternative='two-sided')\n",
    "ci_low, ci_high = test.proportion_ci(confidence_level=0.95, method='exact')\n",
    "\n",
    "print(\"Estimate: {:.2f}, p-val: {:e}, CI: [{:.5f}, {:.5f}]\".\\\n",
    "    format(test.statistic, test.pvalue, ci_low, ci_high))"
   ]
  },
  {
   "cell_type": "markdown",
   "metadata": {},
   "source": [
    "### Quantitative variable: One Sample T-test\n",
    "\n",
    "The [one sample t-test](https://en.wikipedia.org/wiki/Student%27s_t-test#One-sample_t-test) is used to determine whether a sample comes from a population with a specific mean. For example you want to test if the average height of a population is $1.75~m$.\n",
    "\n",
    "This test is used when we have two measurements for each individual at two different times or under two conditions: for each individual, we calculate the difference between the two conditions and test the positivity (increase) or negativity (decrease) of the mean of the differences.\n",
    "\n",
    "Example: is the arterial hypertension of 50 patients measured before and after some medication has been reduced by the treatment?\n",
    "\n",
    "\n",
    "Example: [Monthly revenue figures of for 100 stores before and after a marketing campaigns](https://julius.ai/use-case/how-to-perform-a-paired-samples-t-test). We compute the difference ($x_i = x_i^\\text{after} - x_i^\\text{before}$) for each store $i$.\n",
    "If the average difference $\\bar{x}=1/n \\sum_i x_i$ is significantly positive (resp. negative), then the marketing campaigns will be considered as efficient (resp. detrimental)."
   ]
  },
  {
   "cell_type": "code",
   "execution_count": null,
   "metadata": {},
   "outputs": [],
   "source": [
    "df = pd.read_csv(\"../datasets/Monthly Revenue (in thousands).csv\")\n",
    "print(df.head())\n",
    "df = df.pivot(index='store_id', columns='time', values='revenue')\n",
    "# Keep only the 30 first samples\n",
    "df = df[:30]\n",
    "df.after -= 3 # force to smaller effect size\n",
    "print(df.head())\n",
    "x = df.after - df.before"
   ]
  },
  {
   "cell_type": "markdown",
   "metadata": {},
   "source": [
    "\n",
    "**1. Model the data (parametric test)**\n",
    "\n",
    "We model the observation as the sample mean $\\bar{x}$ plus some error $\\varepsilon_i$, i.e., $x_i = \\bar{x} + \\varepsilon_i$\n",
    "The $\\varepsilon_i$ are called the **residuals**.\n",
    "\n",
    "Assumptions:\n",
    "\n",
    "- The $x_i$'s are not expected to follow a normal distribution. But the $\\varepsilon_i$ should be approximately normally distributed.\n",
    "- The $\\varepsilon_i$  must be independent and identically distributed $i.i.d.$.\n",
    " \n",
    "Indeed according to the central limit theorem, if the sampling of the parent population $x$ is independent then the sample mean $\\bar{x}$ will be approximately normal.\n",
    "\n",
    "Fit: estimate the model parameters, the mean $\\bar{x}=1/n \\sum_i x_i=2.26$ (thousands of dollars) and standard deviation $s$.\n",
    "Warning, when computing the std or the variance, set `ddof=1`. The default value, `ddof=0`, leads to the biased estimator of the variance."
   ]
  },
  {
   "cell_type": "code",
   "execution_count": null,
   "metadata": {},
   "outputs": [],
   "source": [
    "xbar = np.mean(x)      # sample mean\n",
    "mu0 = 0                # mean under H0\n",
    "s = np.std(x, ddof=1)  # sample standard deviation\n",
    "n = len(x)             # sample size\n",
    "df = n - 1"
   ]
  },
  {
   "cell_type": "markdown",
   "metadata": {},
   "source": [
    "**2. Compute a test statistic** \n",
    "\n",
    "- Formulate hypothesis:\n",
    "\n",
    "  * Null hypothesis: $H_0: \\bar{x}=0$, i.e., the marketing campaign had no effect on sales.\n",
    "  * Alternative hypothesis: $H_0: \\bar{x}\\neq 0$, i.e., the marketing campaign had positive ($\\bar{x}>0$) or negative effect ($\\bar{x}<0$) on sales.\n",
    "  \n",
    "  Note that is is a **two-sided test** of effects on both ways.\n",
    "\n",
    "- Compute a test statistic that measure the deviation of $\\bar{x}=2.26$ from the expected value under the null hypothesis (no effect of the campaign) which is: $\\mu_0=0$. The test statistic $T$, is given by:\n",
    "$$\n",
    "T = \\frac{\\bar{x} - \\mu_0}{s}\\sqrt{n}\n",
    "$$\n",
    "\n",
    "Note that the statistic is the product of two parts:\n",
    "\n",
    "- The **effect size**: $\\frac{\\bar{x} - \\mu_0}{s}$ that measure a standardized deviation. It a \"signal to noise ratio\" of what is explained by the model divided by the error.\n",
    "\n",
    "- The squared root of the sample size.\n",
    "\n",
    "Under the null hypothesis the distribution of T follow the [Student t-distribution](https://en.wikipedia.org/wiki/Student%27s_t-distribution) of parameters df=$n-1$.\n",
    "Note that according the central limit theorem, if the observations are independent, then $T$ will be approximately normal $\\mathcal{N}(0,1)$."
   ]
  },
  {
   "cell_type": "code",
   "execution_count": null,
   "metadata": {},
   "outputs": [],
   "source": [
    "tval = (xbar - mu0) / s * np.sqrt(n)"
   ]
  },
  {
   "cell_type": "markdown",
   "metadata": {},
   "source": [
    "**3. Inference**\n",
    "\n",
    "**P-value (null hypothesis)** is computed using [Scipy to compute the CDF](https://docs.scipy.org/doc/scipy/reference/generated/scipy.stats.t.html) of the student distribution."
   ]
  },
  {
   "cell_type": "code",
   "execution_count": null,
   "metadata": {},
   "outputs": [],
   "source": [
    "pval_greater = 1 - scipy.stats.t.cdf(tval, df)\n",
    "pval_greater = scipy.stats.t.sf(tval, df)\n",
    "# T distribution is symmetric\n",
    "# => pval_lower = pval_greater\n",
    "# => two-sided = pval_greater * 2\n",
    "pval = 2 * pval_greater"
   ]
  },
  {
   "cell_type": "markdown",
   "metadata": {},
   "source": [
    "Plot observed T value under null hypothesis\n",
    "\n",
    "- the distribution of t-statistic under the null hypothesis $P_{T}(X|H_0)$,\n",
    "- the two sided p-value, CDF of $P_{T}(X\\leq-T) + P_{T}(X\\geq T|H_0)$, and\n",
    "- the observed $T$ value"
   ]
  },
  {
   "cell_type": "code",
   "execution_count": null,
   "metadata": {},
   "outputs": [],
   "source": [
    "stat_vals = np.linspace(-5, 5, 100)\n",
    "stat_probs = scipy.stats.t.pdf(x=stat_vals, df=df, loc=0) # H0 => loc=0\n",
    "\n",
    "pystatsml.plot_utils.plot_pvalue_under_h0(stat_vals, stat_probs,\n",
    "                                          stat_obs=tval, stat_h0=0,\n",
    "                                          thresh_low=-tval, thresh_high=tval)"
   ]
  },
  {
   "cell_type": "markdown",
   "metadata": {},
   "source": [
    "**Confidence interval (alternative hypothesis)** of the observed estimate $\\bar{x}$ is given by:\n",
    "$$\n",
    "\\bar{x} \\pm t_{\\alpha/2}\\frac{s}{\\sqrt{n}}\n",
    "$$\n",
    "Where $t_{\\alpha/2}$ is the statistic critical value, obtained by the the CMF of the t-distribution with $n-1$ degrees of freedom.\n",
    "\n",
    "Use the Percent Point Function [PPF](https://docs.scipy.org/doc/scipy/reference/generated/scipy.stats.t.html#scipy.stats.t) or quantile function of the to compute the critical value .\n",
    "\n",
    "See [Confidence Interval for a population mean, t distribution](https://www.youtube.com/watch?v=6r5IZCjvIHI).\n"
   ]
  },
  {
   "cell_type": "code",
   "execution_count": null,
   "metadata": {},
   "outputs": [],
   "source": [
    "# Critical value for t at alpha / 2:\n",
    "t_alpha2 = -scipy.stats.t.ppf(q=0.05/2, df=df, loc=0)\n",
    "\n",
    "ci_low = xbar - t_alpha2 * s / np.sqrt(n)\n",
    "ci_high = xbar + t_alpha2 * s / np.sqrt(n)\n",
    "\n",
    "print(\"Estimate: {:.2f}, t-val: {:.2f}, p-val: {:e}, df: {}, CI: [{:.5f}, {:.5f}]\".\n",
    "      format(xbar, tval, pval, df, ci_low, ci_high))"
   ]
  },
  {
   "cell_type": "markdown",
   "metadata": {},
   "source": [
    "Simply use [Scipy one sample t-test](https://docs.scipy.org/doc/scipy/reference/generated/scipy.stats.ttest_1samp.html)"
   ]
  },
  {
   "cell_type": "code",
   "execution_count": null,
   "metadata": {},
   "outputs": [],
   "source": [
    "ttest = scipy.stats.ttest_1samp(x, 0, alternative='two-sided')\n",
    "ci_low, ci_high = ttest.confidence_interval()\n",
    "\n",
    "print(\"Estimate: {:.2f}, t-val: {:.2f}, p-val: {:e}, df: {}, CI: [{:.5f}, {:.5f}]\".\n",
    "      format(ttest._estimate, ttest.statistic, ttest.pvalue, ttest.df, ci_low, ci_high))"
   ]
  },
  {
   "cell_type": "markdown",
   "metadata": {},
   "source": [
    "[Boostraping for Confidence Intervals](https://www.youtube.com/watch?v=TqOeMYtOc1w)"
   ]
  },
  {
   "cell_type": "markdown",
   "metadata": {},
   "source": [
    "## Statistical Tests of Pairwise Associations\n",
    "\n",
    "Univariate statistical analysis: explore association betweens pairs of variables.\n",
    "\n",
    "\n",
    "- In statistics, a **categorical variable** or **factor** is a variable that can take on one of a limited, and usually fixed, number of possible values, thus assigning each individual to a particular group or \"category\". The levels are the possibles values of the variable. Number of levels = 2: binomial; Number of levels > 2: multinomial. There is no intrinsic ordering to the categories.  For example, gender is a categorical variable having two categories (male and female) and there is no intrinsic ordering to the categories. For example, Sex (Female, Male), Hair color (blonde, brown, etc.).\n",
    "\n",
    "- An **ordinal variable** is a categorical variable with a clear ordering of the levels. For example: drinks per day (none, small, medium and high).\n",
    "\n",
    "- A **continuous** or **quantitative variable** $x \\in \\mathbb{R}$ is one that can take any value in a range of possible values, possibly infinite.  E.g.: salary, experience in years, weight.\n",
    "\n",
    "[What statistical test should I use?](http://www.ats.ucla.edu/stat/mult_pkg/whatstat/)\n",
    "\n",
    "![Statistical tests](images/stat_tests_flowchart.png)\n"
   ]
  },
  {
   "cell_type": "markdown",
   "metadata": {},
   "source": [
    "### Pearson Correlation: Test Association Between Two Quantitative Variables\n",
    "\n",
    "Test the correlation coefficient of two quantitative variables. The test calculates a Pearson correlation coefficient and the $p$-value for testing non-correlation.\n",
    "\n",
    "Let $x$ and $y$ two quantitative variables, where $n$ samples were obeserved. The linear correlation coeficient is defined as :\n",
    "\n",
    "$$r=\\frac{\\sum_{i=1}^n(x_i-\\bar x)(y_i-\\bar y)}{\\sqrt{\\sum_{i=1}^n(x_i-\\bar x)^2}\\sqrt{\\sum_{i=1}^n(y_i-\\bar y)^2}}.$$\n",
    "\n",
    "Under $H_0$, the test statistic $t=\\sqrt{n-2}\\frac{r}{\\sqrt{1-r^2}}$ follow Student distribution with $n-2$ degrees of freedom."
   ]
  },
  {
   "cell_type": "code",
   "execution_count": null,
   "metadata": {},
   "outputs": [],
   "source": [
    "n = 50\n",
    "x = np.random.normal(size=n)\n",
    "y = 2 * x + np.random.normal(size=n)\n",
    "\n",
    "# Compute with scipy\n",
    "cor, pval = scipy.stats.pearsonr(x, y)\n",
    "print(cor, pval)"
   ]
  },
  {
   "cell_type": "markdown",
   "metadata": {},
   "source": [
    "### Two sample (Student) T-test: Compare Two Means\n",
    "\n",
    "![Two-sample model](images/model_two-sample.png){width=7cm}\n",
    "\n",
    "The two-sample $t$-test (Snedecor and Cochran, 1989) is used to determine if two population means are equal. There are several variations on this test.\n",
    "If data are paired (e.g. 2 measures, before and after treatment for each individual) use the one-sample $t$-test of the difference. The variances of the two samples may be assumed to be equal (a.k.a. homoscedasticity) or unequal (a.k.a. heteroscedasticity).\n",
    "\n",
    "1. Model the data\n",
    "\n",
    "Assumptions:\n",
    "\n",
    "- Independence of **residuals** ($\\varepsilon_i$). This assumptions **must** be satisfied.\n",
    "- Normality of residuals. Approximately normally distributed can be accepted.\n",
    "- Homosedasticity use T-test, Heterosedasticity use Welch t-test.\n",
    "\n",
    "Assume that the two random variables are normally distributed: $y_1 \\sim \\mathcal{N}(\\mu_{1}, \\sigma_{1}), y_2 \\sim \\mathcal{N}(\\mu_{2}, \\sigma_2)$.\n",
    "\n",
    "Fit: estimate the model parameters, means and variances: $\\bar{y_1}, s^2_{y_1}, \\bar{y_2}, s^2_{y_2}$.\n",
    "\n",
    "2. t-test\n",
    "\n",
    "The general principle is \n",
    "\n",
    "$$\n",
    "t &= \\frac{\\text{difference of means}}{\\text{standard dev of error}} = \\frac{\\bar{y_1}-\\bar{y_2}}{s_{\\bar{y_1}-\\bar{y_2}}}\\\\\n",
    "  &= \\frac{\\bar{y_1}-\\bar{y_2}}{\\sqrt{\\sum\\varepsilon^2}}\\sqrt{n-2}\n",
    "$$\n",
    "\n",
    "Since $y_1$ and $y_2$ are independent:\n",
    "\n",
    "$$\n",
    "s^2_{\\bar{y_1}-\\bar{y_2}} &= s^2_{\\bar{y_1}} + s^2_{\\bar{y_2}} = \\frac{s^2_{y_1}}{n_1} + \\frac{s^2_{y_2}}{n_2},~\\text{thus}\\\\\n",
    "s_{\\bar{y_1}-\\bar{y_2}} &= \\sqrt{\\frac{s^2_{y_1}}{n_1} + \\frac{s^2_{y_2}}{n_2}}\n",
    "$$\n",
    "\n",
    "#### Equal or unequal sample sizes, unequal variances (Welch's $t$-test)\n",
    "\n",
    "Welch's $t$-test defines the $t$ statistic as\n",
    "\n",
    "$$\n",
    "t = \\frac{\\bar{y_1} - \\bar{y_2}}{\\sqrt{\\frac{s^2_{y_1}}{n_1} + \\frac{s^2_{y_2}}{n_2}}}.\n",
    "$$\n",
    "\n",
    "To compute the $p$-value one needs the degrees of freedom associated with this variance estimate. It is approximated using the Welch–Satterthwaite equation:\n",
    "\n",
    "$$\n",
    "\\nu \\approx \\frac{\\left(\\frac{s^2_{y_1}}{n_1} + \\frac{s^2_{y_2}}{n_2}\\right)^2}{\\frac{s^4_{y_1}}{n_1^2(n_1-1)} + \\frac{s^4_{y_2}}{n_2^2(n_2-1)}}.\n",
    "$$\n",
    "\n",
    "#### Equal or unequal sample sizes, equal variances\n",
    "\n",
    "If we assume equal variance (ie, $s^2_{y_1} = s^2_{y_1} = s^2$), where $s^2$ is an estimator of the common variance of the two samples:\n",
    "\n",
    "$$\n",
    "s^2 &= \\frac{s_{y_1}^2(n_1-1)+s_{y_2}^2(n_2-1)}{n_1+n_2-2}\\\\\n",
    "    &= \\frac{\\sum_i^{n_1} (y_{1i} -\\bar{y_1})^2 + \\sum_j^{n_2} (y_{2j} -\\bar{y_2})^2}{(n_1 - 1) + (n_2 - 1)}\n",
    "$$\n",
    "\n",
    "\n",
    "then\n",
    "\n",
    "$$\n",
    "s_{\\bar{y_1}-\\bar{y_2}} = \\sqrt{\\frac{s^2}{n_1} + \\frac{s^2}{n_2}} = s \\sqrt{\\frac{1}{n_1} + \\frac{1}{n_2}}\n",
    "$$\n",
    "\n",
    "Therefore, the $t$ statistic, that is used to test whether the means are different is:\n",
    "\n",
    "$$\n",
    "t = \\frac{\\bar{y_1} - \\bar{y_2}}{s \\cdot \\sqrt{\\frac{1}{n_1}+\\frac{1}{n_2}}},\n",
    "$$\n",
    "\n",
    "#### Equal sample sizes, equal variances\n",
    "\n",
    "If we simplify the problem assuming equal samples of size $n_1 = n_2 = n/2$ we get\n",
    "\n",
    "$$\n",
    "t &= \\frac{\\bar{y_1} - \\bar{y_2}}{s} \\cdot \\sqrt{n}\\\\\n",
    "&\\approx \\frac{\\text{difference of means}}{\\text{standard deviation of the noise}} \\cdot \\sqrt{n} = \\approx \\text{effect size} \\cdot \\sqrt{n}\n",
    "$$\n",
    "\n",
    "\n",
    "#### Example\n",
    "\n",
    "Given the following two samples, test whether their means are equal using the **standard t-test, assuming equal variance**."
   ]
  },
  {
   "cell_type": "code",
   "execution_count": null,
   "metadata": {},
   "outputs": [],
   "source": [
    "height = np.array([1.83, 1.83, 1.73, 1.82, 1.83, 1.73, 1.99, 1.85, 1.68, 1.87,\n",
    "                   1.66, 1.71, 1.73, 1.64, 1.70, 1.60, 1.79, 1.73, 1.62, 1.77])\n",
    "\n",
    "grp = np.array([\"M\"] * 10 + [\"F\"] * 10)\n",
    "\n",
    "# Compute with scipy\n",
    "ttest = scipy.stats.ttest_ind(height[grp == \"M\"], height[grp == \"F\"], equal_var=True)\n",
    "\n",
    "print(\"Estimate: {:.2f}, t-val: {:.2f}, p-val: {:e}, df: {}\".\\\n",
    "    format(ttest._estimate, ttest.statistic, ttest.pvalue, ttest.df))"
   ]
  },
  {
   "cell_type": "markdown",
   "metadata": {},
   "source": [
    "### ANOVA F-test: Quantitative as a function of Categorical Factor with Three Levels or More\n",
    "\n",
    "Analysis of variance (ANOVA) provides a statistical test of whether or not the means of several (k) groups are equal, and therefore generalizes the $t$-test to more than two groups. ANOVAs are useful for comparing (testing) three or more means (groups or variables) for statistical significance. It is conceptually similar to multiple two-sample $t$-tests, but is less conservative.\n",
    "\n",
    "Here we will consider one-way ANOVA with one independent variable, ie one-way ANOVA, [see](https://en.wikipedia.org/wiki/F-test):\n",
    "\n",
    "- Test if any group is on average superior, or inferior, to the others versus the null hypothesis that all four strategies yield the same mean response\n",
    "\n",
    "- Detect any of several possible differences.\n",
    "\n",
    "- The advantage of the ANOVA $F$-test is that we do not need to pre-specify which strategies are to be compared, and we do not need to adjust for making multiple comparisons.\n",
    "\n",
    "- The disadvantage of the ANOVA $F$-test is that if we reject the null hypothesis, we do not know which strategies can be said to be significantly different from the others.\n",
    "\n",
    "\n",
    "1. Model the data\n",
    "\n",
    "Assumptions\n",
    "\n",
    "- The samples are randomly selected in an independent manner from the k populations.\n",
    "- All k populations have distributions that are approximately normal. Check by plotting groups distribution.\n",
    "- The k population variances are equal. Check by plotting groups distribution.\n",
    "\n",
    "The question is: Is there a difference in Petal Width in species from iris dataset?\n",
    "Let $y_1, y_2$ and $y_3$ be Petal Width in three species.\n",
    "\n",
    "Here we assume (see assumptions) that the three populations were sampled from three random variables that are normally distributed. I.e., $Y_1 \\sim N(\\mu_1, \\sigma_1), Y_2 \\sim N(\\mu_2, \\sigma_2)$ and $Y_3 \\sim N(\\mu_3, \\sigma_3)$.\n",
    "\n",
    "**2. Fit: estimate the model parameters**\n",
    "\n",
    "Estimate means and variances: $\\bar{y}_i, \\sigma_i,\\;\\; \\forall i \\in \\{1, 2, 3\\}$.\n",
    "\n",
    "**3. $F$-test**\n",
    "\n",
    "The formula for the one-way ANOVA F-test statistic is\n",
    "\n",
    "$$\n",
    "F &= \\frac{\\text{Explained variance}}{\\text{Unexplained variance}}\\\\\n",
    "&=\\frac{\\text{Between-group variability}}{\\text{Within-group variability}} = \\frac{s^2_B}{s^2_W}.\n",
    "$$\n",
    "\n",
    "\n",
    "The \"explained variance\", or \"between-group variability\" is\n",
    "\n",
    "$$\n",
    "s^2_B = \\sum_i n_i(\\bar{y}_{i\\cdot} - \\bar{y})^2/(K-1),\n",
    "$$\n",
    "\n",
    "where $\\bar{y}_{i\\cdot}$ denotes the sample mean in the $i$th group, $n_i$ is the number of observations in the $i$th group, $\\bar{y}$ denotes the overall mean of the data, and $K$ denotes the number of groups.\n",
    "\n",
    "The \"unexplained variance\", or \"within-group variability\" is\n",
    "\n",
    "$$\n",
    "s^2_W = \\sum_{ij} (y_{ij}-\\bar{y}_{i\\cdot})^2/(N-K), \n",
    "$$\n",
    "\n",
    "where $y_{ij}$ is the $j$th observation in the $i$th out of $K$ groups and $N$ is the overall sample size. This $F$-statistic follows the $F$-distribution with $K-1$ and $N-K$ degrees of freedom under the null hypothesis. The statistic will be large if the between-group variability is large relative to the within-group variability, which is unlikely to happen if the population means of the groups all have the same value.\n",
    "\n",
    "Note that when there are only two groups for the one-way ANOVA F-test, $F=t^2$ where $t$ is the Student's $t$ statistic.\n",
    "\n",
    "#### Example with the Iris Dataset:"
   ]
  },
  {
   "cell_type": "code",
   "execution_count": null,
   "metadata": {},
   "outputs": [],
   "source": [
    "# Group means\n",
    "means = iris.groupby(\"Species\").mean().reset_index()\n",
    "print(means)\n",
    "\n",
    "# Group Stds (equal variances ?)\n",
    "stds = iris.groupby(\"Species\").std(ddof=1).reset_index()\n",
    "print(stds)\n",
    "\n",
    "# Plot groups\n",
    "ax = sns.violinplot(x=\"Species\", y=\"SepalLength\", data=iris)\n",
    "ax = sns.swarmplot(x=\"Species\", y=\"SepalLength\", data=iris,\n",
    "                   color=\"white\")\n",
    "ax = sns.swarmplot(x=\"Species\", y=\"SepalLength\",  color=\"black\",\n",
    "                   data=means, size=10)\n",
    "\n",
    "# ANOVA\n",
    "lm = smf.ols('SepalLength ~ Species', data=iris).fit()\n",
    "sm.stats.anova_lm(lm, typ=2) # Type 2 ANOVA DataFrame"
   ]
  },
  {
   "cell_type": "markdown",
   "metadata": {},
   "source": [
    "### Chi-square, $\\chi^2$: Categorical v.s. Categorical Factors\n",
    "\n",
    "Computes the chi-square, $\\chi^2$, statistic and $p$-value for the hypothesis test of independence of frequencies in the observed contingency table (cross-table). The observed frequencies are tested against an expected contingency table obtained by computing expected frequencies based on the marginal sums under the assumption of independence.\n",
    "\n",
    "#### Example\n",
    "\n",
    "20 participants: 10 exposed to some chemical product and 10 non exposed (exposed = 1 or 0). Among the 20 participants 10 had cancer 10 not (cancer = 1 or 0). $\\chi^2$ tests the association between those two variables."
   ]
  },
  {
   "cell_type": "code",
   "execution_count": null,
   "metadata": {},
   "outputs": [],
   "source": [
    "# Dataset:\n",
    "# 15 samples:\n",
    "# 10 first exposed\n",
    "exposed = np.array([1] * 10 + [0] * 10)\n",
    "# 8 first with cancer, 10 without, the last two with.\n",
    "cancer = np.array([1] * 8 + [0] * 10 + [1] * 2)\n",
    "\n",
    "crosstab = pd.crosstab(exposed, cancer, rownames=['exposed'],\n",
    "                       colnames=['cancer'])\n",
    "print(\"Observed table:\")\n",
    "print(\"---------------\")\n",
    "print(crosstab)\n",
    "\n",
    "chi2, pval, dof, expected = scipy.stats.chi2_contingency(crosstab)\n",
    "print(\"Statistics:\")\n",
    "print(\"-----------\")\n",
    "print(\"Chi2 = %f, pval = %f\" % (chi2, pval))\n",
    "print(\"Expected table:\")\n",
    "print(\"---------------\")\n",
    "print(expected)"
   ]
  },
  {
   "cell_type": "markdown",
   "metadata": {},
   "source": [
    "Computing expected cross-table"
   ]
  },
  {
   "cell_type": "code",
   "execution_count": null,
   "metadata": {},
   "outputs": [],
   "source": [
    "# Compute expected cross-table based on proportion\n",
    "exposed_marg = crosstab.sum(axis=0)\n",
    "exposed_freq = exposed_marg / exposed_marg.sum()\n",
    "\n",
    "cancer_marg = crosstab.sum(axis=1)\n",
    "cancer_freq = cancer_marg / cancer_marg.sum()\n",
    "\n",
    "print('Exposed frequency? Yes: %.2f' % exposed_freq[0],\n",
    "      'No: %.2f' % exposed_freq[1])\n",
    "print('Cancer frequency? Yes: %.2f' % cancer_freq[0],\n",
    "      'No: %.2f' % cancer_freq[1])\n",
    "\n",
    "print('Expected frequencies:')\n",
    "print(np.outer(exposed_freq, cancer_freq))\n",
    "\n",
    "print('Expected cross-table (frequencies * N): ')\n",
    "print(np.outer(exposed_freq, cancer_freq) * len(exposed))"
   ]
  },
  {
   "cell_type": "markdown",
   "metadata": {},
   "source": [
    "### Non-parametric Tests of Pairwise Associations\n",
    "\n",
    "#### Spearman Rank-Order Correlation (Quantitative vs Quantitative)\n",
    "\n",
    "The Spearman correlation is a non-parametric measure of the monotonicity of the relationship between two datasets.\n",
    "\n",
    "When to use it? Observe the data distribution:\n",
    "- presence of **outliers**\n",
    "- the distribution of the residuals is not Gaussian.\n",
    "\n",
    "Like other correlation coefficients, this one varies between -1 and +1 with 0 implying no correlation. Correlations of -1 or +1 imply an exact monotonic relationship. Positive correlations imply that as $x$ increases, so does $y$. Negative correlations imply that as $x$ increases, $y$ decreases."
   ]
  },
  {
   "cell_type": "code",
   "execution_count": null,
   "metadata": {},
   "outputs": [],
   "source": [
    "np.random.seed(3)\n",
    "\n",
    "# Age uniform distribution between 20 and 40\n",
    "age = np.random.uniform(20, 60, 40)\n",
    "\n",
    "# Systolic blood presure, 2 groups:\n",
    "# - 15 subjects at 0.05 * age + 6\n",
    "# - 25 subjects at 0.15 * age + 10\n",
    "sbp = np.concatenate((0.05 * age[:15] + 6, 0.15 * age[15:] + 10)) + \\\n",
    "    .5 * np.random.normal(size=40)\n",
    "\n",
    "sns.regplot(x=age, y=sbp)\n",
    "\n",
    "# Non-Parametric Spearman\n",
    "cor, pval = scipy.stats.spearmanr(age, sbp)\n",
    "print(\"Non-Parametric Spearman cor test, cor: %.4f, pval: %.4f\" % (cor, pval))\n",
    "\n",
    "# \"Parametric Pearson cor test\n",
    "cor, pval = scipy.stats.pearsonr(age, sbp)\n",
    "print(\"Parametric Pearson cor test: cor: %.4f, pval: %.4f\" % (cor, pval))"
   ]
  },
  {
   "cell_type": "markdown",
   "metadata": {},
   "source": [
    "#### Wilcoxon Signed-Rank Rest (Quantitative vs Cte)\n",
    "\n",
    "[Wikipedia](https://en.wikipedia.org/wiki/Wilcoxon_signed-rank_test):\n",
    "The Wilcoxon signed-rank test is a non-parametric statistical hypothesis test used when comparing two related samples, matched samples, or repeated measurements on a single sample to assess whether their population mean ranks differ (i.e. it is a paired difference test). It is equivalent to one-sample test of the difference of paired samples.\n",
    "\n",
    "It can be used as an alternative to the paired Student's $t$-test, $t$-test for matched pairs, or the $t$-test for dependent samples when the population cannot be assumed to be normally distributed.\n",
    "\n",
    "When to use it? Observe the data distribution:\n",
    "- presence of outliers\n",
    "- the distribution of the residuals is not Gaussian\n",
    "\n",
    "It has a lower sensitivity compared to $t$-test. May be problematic to use when the sample size is small.\n",
    "\n",
    "Null hypothesis $H_0$: difference between the pairs follows a symmetric distribution around zero."
   ]
  },
  {
   "cell_type": "code",
   "execution_count": null,
   "metadata": {},
   "outputs": [],
   "source": [
    "n = 20\n",
    "# Buisness Volume time 0\n",
    "bv0 = np.random.normal(loc=3, scale=.1, size=n)\n",
    "# Buisness Volume time 1\n",
    "bv1 = bv0 + 0.1 + np.random.normal(loc=0, scale=.1, size=n)\n",
    "\n",
    "# create an outlier\n",
    "bv1[0] -= 10\n",
    "\n",
    "# Paired t-test\n",
    "print(scipy.stats.ttest_rel(bv0, bv1))\n",
    "\n",
    "# Wilcoxon\n",
    "print(scipy.stats.wilcoxon(bv0, bv1))"
   ]
  },
  {
   "cell_type": "markdown",
   "metadata": {},
   "source": [
    "#### Mann–Whitney $U$ test (Quantitative vs Categorical Factor with Two Levels)\n",
    "\n",
    "In statistics, the Mann–Whitney $U$ test (also called the Mann–Whitney–Wilcoxon, Wilcoxon rank-sum test or Wilcoxon–Mann–Whitney test) is a nonparametric test of the null hypothesis that two samples come from the same population against an alternative hypothesis, especially that a particular population tends to have larger values than the other.\n",
    "\n",
    "It can be applied on unknown distributions contrary to e.g. a $t$-test that has to be applied only on normal distributions, and it is nearly as efficient as the $t$-test on normal distributions."
   ]
  },
  {
   "cell_type": "code",
   "execution_count": null,
   "metadata": {},
   "outputs": [],
   "source": [
    "n = 20\n",
    "# Buismess Volume group 0\n",
    "bv0 = np.random.normal(loc=1, scale=.1, size=n)\n",
    "\n",
    "# Buismess Volume group 1\n",
    "bv1 = np.random.normal(loc=1.2, scale=.1, size=n)\n",
    "\n",
    "# create an outlier\n",
    "bv1[0] -= 10\n",
    "\n",
    "# Two-samples t-test\n",
    "print(scipy.stats.ttest_ind(bv0, bv1))\n",
    "\n",
    "# Wilcoxon\n",
    "print(scipy.stats.mannwhitneyu(bv0, bv1))"
   ]
  },
  {
   "cell_type": "markdown",
   "metadata": {},
   "source": [
    "## Linear Model\n",
    "\n",
    "![Linear model](images/model_lm.png){width=5cm}\n",
    "\n",
    "\n",
    "Given $n$ random samples $(y_i, x_{1i}, \\ldots, x_{pi}), \\, i = 1, \\ldots, n$, the linear regression models the relation between the observations $y_i$ and the independent variables $x_i^p$ is formulated as\n",
    "\n",
    "$$\n",
    "    y_i = \\beta_0 + \\beta_1 x_{1i} + \\cdots + \\beta_p x_{pi} + \\varepsilon_i \\qquad i = 1, \\ldots, n \n",
    "$$\n",
    "\n",
    "- The $\\beta$'s are the model parameters, ie, the regression coeficients.\n",
    "- $\\beta_0$ is the intercept or the bias.\n",
    "- $\\varepsilon_i$ are the **residuals**.\n",
    "- **An independent variable (IV)**. It is a variable that stands alone and isn't changed by the other variables you are trying to measure. For example, someone's age might be an independent variable. Other factors (such as what they eat, how much they go to school, how much television they watch) aren't going to change a person's age. In fact, when you are looking for some kind of relationship between variables you are trying to see if the independent variable causes some kind of change in the other variables, or dependent variables. In Machine Learning, these variables are also called the **predictors**.\n",
    "\n",
    "- A **dependent variable**. It is something that depends on other factors. For example, a test score could be a dependent variable because it could change depending on several factors such as how much you studied, how much sleep you got the night before you took the test, or even how hungry you were when you took it. Usually when you are looking for a relationship between two things you are trying to find out what makes the dependent variable change the way it does. In Machine Learning this variable is called a **target variable**.\n",
    "\n",
    "### Assumptions\n",
    "\n",
    "1. Independence of residuals ($\\varepsilon_i$). This assumptions **must** be satisfied\n",
    "2. Normality of residuals ($\\varepsilon_i$). Approximately normally distributed can be accepted.\n",
    "\n",
    "[Regression diagnostics:  testing the assumptions of linear regression](http://people.duke.edu/~rnau/testing.htm)"
   ]
  },
  {
   "cell_type": "markdown",
   "metadata": {},
   "source": [
    "### Simple Regression: Test Association Between Two Quantitative Variables\n",
    "\n",
    "Using the dataset \"salary\", explore the association between the dependant variable (e.g. Salary) and the independent variable (e.g.: Experience is quantitative), considering only non-managers."
   ]
  },
  {
   "cell_type": "code",
   "execution_count": null,
   "metadata": {},
   "outputs": [],
   "source": [
    "df = salary[salary.management == 'N']"
   ]
  },
  {
   "cell_type": "markdown",
   "metadata": {},
   "source": [
    "**1. Model the data**\n",
    "\n",
    "Model the data on some **hypothesis** e.g.: salary is a linear function of the experience.\n",
    "\n",
    "$$\n",
    "    \\text{salary}_i = \\beta_0 + \\beta~\\text{experience}_i + \\epsilon_i,\n",
    "$$\n",
    "\n",
    "more generally\n",
    "\n",
    "$$\n",
    "    y_i = \\beta_0 + \\beta~x_i + \\epsilon_i\n",
    "$$\n",
    "\n",
    "This can be rewritten in the matrix form using the design matrix made of values of independant variable and the intercept:\n",
    "\n",
    "$$\n",
    "\\begin{split}\\begin{bmatrix}y_1 \\\\ y_2 \\\\ y_3 \\\\ y_4 \\\\ y_5  \\end{bmatrix}\n",
    "  =\n",
    "  \\begin{bmatrix}1 & x_1  \\\\1 & x_2  \\\\1 & x_3  \\\\1 & x_4  \\\\1 & x_5    \\end{bmatrix}\n",
    "  \\begin{bmatrix} \\beta_0 \\\\ \\beta_1  \\end{bmatrix}\n",
    "  +\n",
    "  \\begin{bmatrix} \\epsilon_1 \\\\ \\epsilon_2 \\\\ \\epsilon_3 \\\\ \\epsilon_4 \\\\ \\epsilon_5 \\end{bmatrix}\\end{split}\n",
    "$$\n",
    "\n",
    "- $\\beta$: the slope or coefficient or parameter of the model,\n",
    "\n",
    "- $\\beta_0$: the **intercept** or **bias** is the second parameter of the model,\n",
    "\n",
    "- $\\epsilon_i$: is the $i$th error, or residual with $\\epsilon \\sim \\mathcal{N}(0, \\sigma^2)$.\n",
    "\n",
    "The simple regression is equivalent to the Pearson correlation.\n",
    "\n",
    "**2. Fit: estimate the model parameters**\n",
    "\n",
    "The goal it so estimate $\\beta$, $\\beta_0$ and $\\sigma^2$.\n",
    "\n",
    "Minimizes the **mean squared error (MSE)** or the **Sum squared error (SSE)**. The so-called **Ordinary Least Squares (OLS)** finds $\\beta, \\beta_0$ that minimizes the $SSE = \\sum_i \\epsilon_i^2$\n",
    "\n",
    "$$\n",
    "SSE = \\sum_i(y_i - \\beta~x_i - \\beta_0)^2\n",
    "$$\n",
    "\n",
    "Recall from calculus that an extreme point can be found by computing where the derivative is zero, i.e. to find the intercept, we perform the steps:\n",
    "\n",
    "$$\n",
    "\\frac{\\partial SSE}{\\partial \\beta_0} = \\sum_i(y_i - \\beta~x_i - \\beta_0) = 0\\\\\n",
    "\\sum_i y_i = \\beta~\\sum_i x_i + n~\\beta_0\\\\\n",
    "n~\\bar{y} = n~\\beta~\\bar{x} + n~\\beta_0\\\\\n",
    "\\beta_0 = \\bar{y} - \\beta~\\bar{x}\n",
    "$$\n",
    "\n",
    "To find the regression coefficient, we perform the steps:\n",
    "\n",
    "$$\n",
    "\\frac{\\partial SSE}{\\partial \\beta} = \\sum_i x_i(y_i - \\beta~x_i - \\beta_0) = 0\n",
    "$$\n",
    "\n",
    "Plug in $\\beta_0$:\n",
    "\n",
    "$$\n",
    "\\sum_i x_i(y_i - \\beta~x_i - \\bar{y} + \\beta \\bar{x}) = 0\\\\\n",
    "\\sum_i x_i y_i - \\bar{y}\\sum_i x_i = \\beta \\sum_i(x_i - \\bar{x})\n",
    "$$\n",
    "\n",
    "Divide both sides by $n$:\n",
    "\n",
    "$$\n",
    "\\frac{1}{n}\\sum_i x_i y_i  - \\bar{y}\\bar{x} = \\frac{1}{n}\\beta \\sum_i(x_i - \\bar{x})\\\\\n",
    "\\beta = \\frac{\\frac{1}{n}\\sum_i x_i y_i  - \\bar{y}\\bar{x}}{\\frac{1}{n}\\sum_i(x_i - \\bar{x})} = \\frac{Cov(x, y)}{Var(x)}.\n",
    "$$"
   ]
  },
  {
   "cell_type": "code",
   "execution_count": null,
   "metadata": {},
   "outputs": [],
   "source": [
    "y, x = df.salary, df.experience\n",
    "beta, beta0, r_value, p_value, std_err = scipy.stats.linregress(x,y)\n",
    "print(\"y = %f x + %f,  r: %f, r-squared: %f,\\np-value: %f, std_err: %f\" \n",
    "      % (beta, beta0, r_value, r_value**2, p_value, std_err))\n",
    "\n",
    "print(\"Regression line with the scatterplot\")\n",
    "yhat = beta * x  +  beta0 # regression line\n",
    "plt.plot(x, yhat, 'r-', x, y,'o')\n",
    "plt.xlabel('Experience (years)')\n",
    "plt.ylabel('Salary')\n",
    "plt.show()"
   ]
  },
  {
   "cell_type": "markdown",
   "metadata": {},
   "source": [
    "### Multiple Regression\n",
    "\n",
    "**Theory**\n",
    "\n",
    "Multiple Linear Regression is the most basic supervised learning algorithm.\n",
    "\n",
    "Given: a set of training data $\\{x_1, ... , x_N\\}$ with corresponding targets $\\{y_1, . . . , y_N\\}$.\n",
    "\n",
    "In linear regression, we assume that the model that generates the data involves only a linear combination of the input variables, i.e.\n",
    "\n",
    "$$\n",
    "y_i = \\beta_0 + \\beta_1 x_{i1} + ... + \\beta_P x_{iP} + \\varepsilon_i,\n",
    "$$\n",
    "\n",
    "or, simplified\n",
    "\n",
    "$$\n",
    "y_i  = \\beta_0 + \\sum_{j=1}^{P-1} \\beta_j x_i^j + \\varepsilon_i.\n",
    "$$\n",
    "\n",
    "Extending each sample with an intercept, $x_i := [1, x_i] \\in R^{P+1}$ allows us to use a more general notation based on linear algebra and write it as a simple dot product:\n",
    "\n",
    "$$\n",
    "y_i = \\mathbf{x}_i^T\\mathbf{\\beta} + \\varepsilon_i,\n",
    "$$\n",
    "\n",
    "where $\\beta \\in R^{P+1}$ is a vector of weights that define the $P+1$ parameters of the model. From now we have $P$ regressors + the intercept.\n",
    "\n",
    "Using the matrix notation:\n",
    "\n",
    "$$\n",
    "\\begin{split}\\begin{bmatrix}y_1 \\\\ y_2 \\\\ y_3 \\\\ y_4 \\\\ y_5  \\end{bmatrix}\n",
    "  =\n",
    "  \\begin{bmatrix}1 & x_{11}  & \\ldots & x_{1P}\\\\1 & x_{21} & \\ldots & x_{2P}  \\\\1 & x_{31} & \\ldots & x_{3P}  \\\\1 & x_{41} & \\ldots & x_{4P}  \\\\1 & x_5 & \\ldots & x_5    \\end{bmatrix}\n",
    "  \\begin{bmatrix} \\beta_0 \\\\ \\beta_1 \\\\ \\vdots \\\\ \\beta_P \\end{bmatrix}\n",
    "  +\n",
    "  \\begin{bmatrix} \\epsilon_1 \\\\ \\epsilon_2 \\\\ \\epsilon_3 \\\\ \\epsilon_4 \\\\ \\epsilon_5 \\end{bmatrix}\\end{split}\n",
    "$$\n",
    "\n",
    "Let $X = [x_0^T, ... , x_N^T]$ be the ($N \\times P+1$) **design matrix** of $N$ samples of $P$ input features with one column of one and let be $y = [y_1, ... , y_N]$ be a vector of the $N$ targets.\n",
    "\n",
    "$$\n",
    "y = X \\beta + \\varepsilon\n",
    "$$\n",
    "\n",
    "Minimize the Mean Squared Error MSE loss:\n",
    "\n",
    "$$\n",
    "MSE(\\beta) = \\frac{1}{N}\\sum_{i=1}^{N}(y_i - \\mathbf{x}_i^T\\beta)^2\n",
    "$$\n",
    "\n",
    "Using the matrix notation, the **mean squared error (MSE) loss can be rewritten**:\n",
    "\n",
    "$$\n",
    "MSE(\\beta) = \\frac{1}{N}||y - X\\beta||_2^2.\n",
    "$$\n",
    "\n",
    "The $\\beta$ that minimizes the MSE can be found by:\n",
    "\n",
    "\\begin{align}\n",
    "\\nabla_\\beta \\left(\\frac{1}{N} ||y - X\\beta||_2^2\\right) &= 0\\\\\n",
    "\\frac{1}{N}\\nabla_\\beta (y - X\\beta)^T (y - X\\beta) &= 0\\\\\n",
    "\\frac{1}{N}\\nabla_\\beta (y^Ty - 2 \\beta^TX^Ty + \\beta^T X^TX\\beta) &= 0\\\\\n",
    "    -2X^Ty + 2 X^TX\\beta &= 0\\\\\n",
    "    X^TX\\beta &= X^Ty\\\\\n",
    "    \\beta &= (X^TX)^{-1} X^Ty,\n",
    "\\end{align}\n",
    "\n",
    "\n",
    "where $(X^TX)^{-1} X^T$ is a pseudo inverse of $X$."
   ]
  },
  {
   "cell_type": "markdown",
   "metadata": {},
   "source": [
    "Simulated dataset where:\n",
    "\n",
    "$$\n",
    "\\begin{split}\\begin{bmatrix}y_1 \\\\ \\vdots \\\\ y_{50}  \\end{bmatrix}\n",
    "  =\n",
    "  \\begin{bmatrix}\n",
    "  1 & x_{1,1}  & x_{1,2} & x_{1,3} \\\\\n",
    "  \\vdots & \\vdots  & \\vdots & \\vdots \\\\\n",
    "  1 & x_{50,1}  & x_{50,2} & x_{50,3} \\\\\n",
    "  \\end{bmatrix}\n",
    "  \\begin{bmatrix} 10 \\\\ 1 \\\\ 0.5 \\\\ 0.1 \\end{bmatrix}\n",
    "  +\n",
    "  \\begin{bmatrix} \\epsilon_1 \\\\ \\vdots \\\\ \\epsilon_{50} \\end{bmatrix}\\end{split}\n",
    "$$"
   ]
  },
  {
   "cell_type": "code",
   "execution_count": null,
   "metadata": {},
   "outputs": [],
   "source": [
    "from scipy import linalg\n",
    "np.random.seed(seed=42)  # make the example reproducible\n",
    "\n",
    "# Dataset\n",
    "N, P = 50, 4\n",
    "X = np.random.normal(size= N * P).reshape((N, P))\n",
    "## Our model needs an intercept so we add a column of 1s:\n",
    "X[:, 0] = 1\n",
    "print(X[:5, :])\n",
    "\n",
    "betastar = np.array([10, 1., .5, 0.1])\n",
    "e = np.random.normal(size=N)\n",
    "y = np.dot(X, betastar) + e"
   ]
  },
  {
   "cell_type": "markdown",
   "metadata": {},
   "source": [
    "**Fit with `numpy`**\n",
    "\n",
    "Estimate the parameters"
   ]
  },
  {
   "cell_type": "code",
   "execution_count": null,
   "metadata": {},
   "outputs": [],
   "source": [
    "Xpinv = linalg.pinv(X)\n",
    "betahat = np.dot(Xpinv, y)\n",
    "print(\"Estimated beta:\\n\", betahat)"
   ]
  },
  {
   "cell_type": "markdown",
   "metadata": {},
   "source": [
    "### Linear Model with Statsmodels\n",
    "\n",
    "[Statmodels examples](http://statsmodels.sourceforge.net/devel/examples/)"
   ]
  },
  {
   "cell_type": "markdown",
   "metadata": {},
   "source": [
    "#### Multiple Regression Using Numpy Array\n",
    "\n",
    "Interface with statsmodels without formulae  (`sm`)"
   ]
  },
  {
   "cell_type": "code",
   "execution_count": null,
   "metadata": {},
   "outputs": [],
   "source": [
    "## Fit and summary:\n",
    "model = sm.OLS(y, X).fit()\n",
    "print(model.summary())\n",
    "\n",
    "# prediction of new values\n",
    "ypred = model.predict(X)\n",
    "\n",
    "# residuals + prediction == true values\n",
    "assert np.all(ypred + model.resid == y)"
   ]
  },
  {
   "cell_type": "markdown",
   "metadata": {},
   "source": [
    "#### Multiple Regression Pandas using formulae (`smf`)\n",
    "\n",
    "Use `R` language syntax for data.frame.\n",
    "For an additive model:\n",
    "\n",
    "$y_i = \\beta^0 + x_i^1 \\beta^1 + x_i^2 \\beta^2 + \\epsilon_i \\equiv$ `y ~ x1 + x2`."
   ]
  },
  {
   "cell_type": "code",
   "execution_count": null,
   "metadata": {},
   "outputs": [],
   "source": [
    "df = pd.DataFrame(np.column_stack([X, y]),\n",
    "                  columns=['inter', 'x1','x2', 'x3', 'y'])\n",
    "print(df.columns, df.shape)\n",
    "# Build a model excluding the intercept, it is implicit\n",
    "model = smf.ols(\"y~x1 + x2 + x3\", df).fit()\n",
    "print(model.summary())"
   ]
  },
  {
   "cell_type": "markdown",
   "metadata": {},
   "source": [
    "### Multiple Regression Mixing Covariates and Factors (ANCOVA)\n",
    "\n",
    "Analysis of covariance (ANCOVA) is a linear model that blends ANOVA and linear regression. ANCOVA evaluates whether population means of a dependent variable (DV) are equal across levels of a categorical independent variable (IV) often called a treatment, while statistically controlling for the effects of other quantitative or continuous variables that are not of primary interest, known as covariates (CV)."
   ]
  },
  {
   "cell_type": "code",
   "execution_count": null,
   "metadata": {},
   "outputs": [],
   "source": [
    "df = salary.copy()\n",
    "\n",
    "lm = smf.ols('salary ~ experience', df).fit()\n",
    "df[\"residuals\"] = lm.resid\n",
    "\n",
    "print(\"Jarque-Bera normality test p-value %.5f\" % \\\n",
    "      sm.stats.jarque_bera(lm.resid)[1])\n",
    "\n",
    "ax = sns.displot(df, x='residuals', kind=\"kde\", fill=True, aspect=1, height=fig_h*0.7)\n",
    "ax = sns.displot(df, x='residuals', kind=\"kde\", hue='management', fill=True,\n",
    "                 aspect=1, height=fig_h*0.7)"
   ]
  },
  {
   "cell_type": "markdown",
   "metadata": {},
   "source": [
    "Normality assumption of the residuals can be rejected (p-value < 0.05). There is an efect of the \"management\" factor, take it into account. "
   ]
  },
  {
   "cell_type": "markdown",
   "metadata": {},
   "source": [
    "#### One-way AN(C)OVA\n",
    "\n",
    "- ANOVA: one categorical independent variable, i.e. one factor.\n",
    "\n",
    "- ANCOVA: ANOVA with some covariates."
   ]
  },
  {
   "cell_type": "code",
   "execution_count": null,
   "metadata": {},
   "outputs": [],
   "source": [
    "oneway = smf.ols('salary ~ management + experience', df).fit()\n",
    "df[\"residuals\"] = oneway.resid\n",
    "sns.displot(df, x='residuals', kind=\"kde\", fill=True,\n",
    "            aspect=1, height=fig_h*0.7)\n",
    "print(sm.stats.anova_lm(oneway, typ=2))\n",
    "print(\"Jarque-Bera normality test p-value %.3f\" %  \\\n",
    "      sm.stats.jarque_bera(oneway.resid)[1])"
   ]
  },
  {
   "cell_type": "markdown",
   "metadata": {},
   "source": [
    "Distribution of residuals is still not normal but closer to normality. \n",
    "Both management and experience are significantly associated with salary."
   ]
  },
  {
   "cell_type": "markdown",
   "metadata": {},
   "source": [
    "#### Two-way AN(C)OVA\n",
    "\n",
    "Ancova with two categorical independent variables, i.e. two factors."
   ]
  },
  {
   "cell_type": "code",
   "execution_count": null,
   "metadata": {},
   "outputs": [],
   "source": [
    "twoway = smf.ols('salary ~ education + management + experience', df).fit()\n",
    "\n",
    "df[\"residuals\"] = twoway.resid\n",
    "sns.displot(df, x='residuals', kind=\"kde\", fill=True,\n",
    "            aspect=1, height=fig_h*0.7)\n",
    "print(sm.stats.anova_lm(twoway, typ=2))\n",
    "\n",
    "print(\"Jarque-Bera normality test p-value %.3f\" %  \\\n",
    "      sm.stats.jarque_bera(twoway.resid)[1])"
   ]
  },
  {
   "cell_type": "markdown",
   "metadata": {},
   "source": [
    "Normality assumtion cannot be rejected. Assume it.\n",
    "Education, management and experience are significantly associated with salary."
   ]
  },
  {
   "cell_type": "markdown",
   "metadata": {},
   "source": [
    "#### Comparing Two Nested Models\n",
    "\n",
    "`oneway` is nested within `twoway`.  Comparing two nested models tells us if the additional predictors (i.e. `education`) of the full model significantly decrease the residuals. Such comparison can be done using an $F$-test on residuals:"
   ]
  },
  {
   "cell_type": "code",
   "execution_count": null,
   "metadata": {},
   "outputs": [],
   "source": [
    "print(twoway.compare_f_test(oneway))  # return F, pval, df"
   ]
  },
  {
   "cell_type": "markdown",
   "metadata": {},
   "source": [
    "twoway is significantly better than one way"
   ]
  },
  {
   "cell_type": "markdown",
   "metadata": {},
   "source": [
    "#### Factor Coding\n",
    "\n",
    "[Statsmodels contrasts](http://statsmodels.sourceforge.net/devel/contrasts.html).\n",
    "By default Pandas use \"dummy coding\". Explore:"
   ]
  },
  {
   "cell_type": "code",
   "execution_count": null,
   "metadata": {},
   "outputs": [],
   "source": [
    "print(twoway.model.data.param_names)\n",
    "print(twoway.model.data.exog[:10, :])"
   ]
  },
  {
   "cell_type": "markdown",
   "metadata": {},
   "source": [
    "#### Contrasts and Post-hoc Tests"
   ]
  },
  {
   "cell_type": "code",
   "execution_count": null,
   "metadata": {},
   "outputs": [],
   "source": [
    "# t-test of the specific contribution of experience:\n",
    "ttest_exp = twoway.t_test([0, 0, 0, 0, 1])\n",
    "ttest_exp.pvalue, ttest_exp.tvalue\n",
    "print(ttest_exp)\n",
    "\n",
    "# Alternatively, you can specify the hypothesis tests using a string\n",
    "twoway.t_test('experience')\n",
    "\n",
    "# Post-hoc is salary of Master different salary of Ph.D? \n",
    "# ie. t-test salary of Master = salary of Ph.D.\n",
    "print(twoway.t_test('education[T.Master] = education[T.Ph.D]'))"
   ]
  },
  {
   "cell_type": "markdown",
   "metadata": {},
   "source": [
    "## Multiple Comparisons"
   ]
  },
  {
   "cell_type": "code",
   "execution_count": null,
   "metadata": {},
   "outputs": [],
   "source": [
    "np.random.seed(seed=42)  # make example reproducible\n",
    "\n",
    "# Dataset\n",
    "n_samples, n_features = 100, 1000\n",
    "n_info = int(n_features/10)  # number of features with information\n",
    "n1, n2 = int(n_samples/2), n_samples - int(n_samples/2)\n",
    "snr = .5\n",
    "Y = np.random.randn(n_samples, n_features)\n",
    "grp = np.array([\"g1\"] * n1 + [\"g2\"] * n2)\n",
    "\n",
    "# Add some group effect for Pinfo features\n",
    "Y[grp==\"g1\", :n_info] += snr\n",
    "\n",
    "# \n",
    "import scipy.stats as stats\n",
    "#import matplotlib.pyplot as plt\n",
    "tvals, pvals = np.full(n_features, np.nan), np.full(n_features, np.nan)\n",
    "for j in range(n_features):\n",
    "    tvals[j], pvals[j] = stats.ttest_ind(Y[grp==\"g1\", j], Y[grp==\"g2\", j],\n",
    "                                         equal_var=True)\n",
    "\n",
    "fig, axis = plt.subplots(3, 1, figsize=(9, 9))#, sharex='col')\n",
    "\n",
    "axis[0].plot(range(n_features), tvals, 'o')\n",
    "axis[0].set_ylabel(\"t-value\")\n",
    "\n",
    "axis[1].plot(range(n_features), pvals, 'o')\n",
    "axis[1].axhline(y=0.05, color='red', linewidth=3, label=\"p-value=0.05\")\n",
    "#axis[1].axhline(y=0.05, label=\"toto\", color='red')\n",
    "axis[1].set_ylabel(\"p-value\")\n",
    "axis[1].legend()\n",
    "\n",
    "axis[2].hist([pvals[n_info:], pvals[:n_info]], \n",
    "    stacked=True, bins=100, label=[\"Negatives\", \"Positives\"])\n",
    "axis[2].set_xlabel(\"p-value histogram\")\n",
    "axis[2].set_ylabel(\"density\")\n",
    "axis[2].legend()\n",
    "\n",
    "plt.tight_layout()"
   ]
  },
  {
   "cell_type": "markdown",
   "metadata": {},
   "source": [
    "Note that under the null hypothesis the distribution of the *p*-values is uniform.\n",
    "\n",
    "Statistical measures:\n",
    "\n",
    "- **True Positive (TP)** equivalent to a hit. The test correctly concludes the presence of an effect.\n",
    "\n",
    "- True Negative (TN). The test correctly concludes the absence of an effect.\n",
    "\n",
    "- **False Positive (FP)** equivalent to a false alarm, **Type I error**. The test improperly concludes the presence of an effect. Thresholding at $p\\text{-value} < 0.05$ leads to 47 FP.\n",
    "\n",
    "- False Negative (FN) equivalent to a miss, Type II error. The test improperly concludes the absence of an effect."
   ]
  },
  {
   "cell_type": "code",
   "execution_count": null,
   "metadata": {},
   "outputs": [],
   "source": [
    "P, N = n_info, n_features - n_info  # Positives, Negatives\n",
    "TP = np.sum(pvals[:n_info ] < 0.05)  # True Positives\n",
    "FP = np.sum(pvals[n_info: ] < 0.05)  # False Positives\n",
    "print(\"No correction, FP: %i (expected: %.2f), TP: %i\" % (FP, N * 0.05, TP))"
   ]
  },
  {
   "cell_type": "markdown",
   "metadata": {},
   "source": [
    "### Bonferroni Correction for Multiple Comparisons\n",
    "\n",
    "The Bonferroni correction is based on the idea that if an experimenter is testing $P$ hypotheses, then one way of maintaining the **Family-wise error rate** [FWER](https://en.wikipedia.org/wiki/Family-wise_error_rate) is to test each individual hypothesis at a statistical significance level of $1/P$ times the desired maximum overall level.\n",
    "\n",
    "So, if the desired significance level for the whole family of tests is $\\alpha$ (usually 0.05), then the Bonferroni correction would test each individual hypothesis at a significance level of $\\alpha/P$. For example, if a trial is testing $P = 8$ hypotheses with a desired $\\alpha = 0.05$, then the Bonferroni correction would test each individual hypothesis at $\\alpha = 0.05/8 = 0.00625$."
   ]
  },
  {
   "cell_type": "code",
   "execution_count": null,
   "metadata": {},
   "outputs": [],
   "source": [
    "import statsmodels.sandbox.stats.multicomp as multicomp\n",
    "\n",
    "_, pvals_fwer, _, _  = multicomp.multipletests(pvals, alpha=0.05, \n",
    "                                               method='bonferroni')\n",
    "TP = np.sum(pvals_fwer[:n_info ] < 0.05)  # True Positives\n",
    "FP = np.sum(pvals_fwer[n_info: ] < 0.05)  # False Positives\n",
    "print(\"FWER correction, FP: %i, TP: %i\" % (FP, TP))"
   ]
  },
  {
   "cell_type": "markdown",
   "metadata": {},
   "source": [
    "### The False Discovery Rate (FDR) Correction for Multiple Comparisons\n",
    "\n",
    "FDR-controlling procedures are designed to control the expected proportion of rejected null hypotheses that were incorrect rejections (\"false discoveries\"). FDR-controlling procedures provide less stringent control of Type I errors compared to the familywise error rate (FWER) controlling procedures (such as the Bonferroni correction), which control the probability of at least one Type I error. Thus, FDR-controlling procedures have greater power, at the cost of increased rates of Type I errors."
   ]
  },
  {
   "cell_type": "code",
   "execution_count": null,
   "metadata": {},
   "outputs": [],
   "source": [
    "_, pvals_fdr, _, _  = multicomp.multipletests(pvals, alpha=0.05, \n",
    "                                               method='fdr_bh')\n",
    "TP = np.sum(pvals_fdr[:n_info ] < 0.05)  # True Positives\n",
    "FP = np.sum(pvals_fdr[n_info: ] < 0.05)  # False Positives\n",
    "\n",
    "print(\"FDR correction, FP: %i, TP: %i\" % (FP, TP))"
   ]
  }
 ],
 "metadata": {
  "anaconda-cloud": {},
  "kernelspec": {
   "display_name": "Python 3 (ipykernel)",
   "language": "python",
   "name": "python3"
  },
  "language_info": {
   "codemirror_mode": {
    "name": "ipython",
    "version": 3
   },
   "file_extension": ".py",
   "mimetype": "text/x-python",
   "name": "python",
   "nbconvert_exporter": "python",
   "pygments_lexer": "ipython3",
   "version": "3.13.2"
  }
 },
 "nbformat": 4,
 "nbformat_minor": 2
}
